{
 "cells": [
  {
   "cell_type": "markdown",
   "metadata": {
    "id": "yOV3bQZN_HSE"
   },
   "source": [
    "\n",
    "\n",
    "\n",
    "<h1><font color='Blue'><center>Programming for Data Science Final Project: Analysis of Citibike Activity between 2019 and 2020</h1></font></center>\n",
    "<center>By Jenna Ellis, Isidora Filipovic, Elizabeth Wheeler, Eugenia Fomitcheva, and Kristin Mullaney</center>"
   ]
  },
  {
   "cell_type": "markdown",
   "metadata": {},
   "source": [
    "<u><h2>Questions for Analysis</u></h2>"
   ]
  },
  {
   "cell_type": "markdown",
   "metadata": {
    "id": "QpbFueXX_Y7r"
   },
   "source": [
    "<u>**Section 1: Who are Citibike's users?**</u>\n",
    "\n",
    "- 1.1 What is the average age of our users? Did it shift over time?\n",
    "- 1.2 What is the age distribution of our users? Did it shift over time?\n",
    "- 1.3 What is the gender breakdown of our users? Did it shift over time?\n",
    "- 1.4 Do subscribers or casual users take more rides? Has this shifted over time?\n",
    "- 1.5 What are the demographics of our subscribers as compared to our casual users?\n",
    "\n",
    "<u>**Section 2: How are Citibikes being used?**</u>\n",
    "\n",
    "- 2.1 Has the overall number of trips changed over time?\n",
    "- 2.2 What are the most popular stations?\n",
    "- 2.3 How much is each bike being used each month?\n",
    "- 2.4 What are the most popular routes?\n",
    "- 2.5 Which stations are likely to run out of bikes?\n",
    "- 2.6 What are the most popular times of day to travel?\n",
    "- 2.7 How did average ride duration change over time?\n",
    "\n",
    "<u>**Appendix: Further Exploration with Hypothesis Testing**</u>\n",
    "\n",
    "---------------------------------------------------------------------------"
   ]
  },
  {
   "cell_type": "markdown",
   "metadata": {
    "id": "LH003nVrxVaN"
   },
   "source": [
    "<u><h2> **Import Data**</h2></u>"
   ]
  },
  {
   "cell_type": "code",
   "execution_count": 1,
   "metadata": {
    "id": "dstikTo3rYiL"
   },
   "outputs": [],
   "source": [
    "import pandas as pd\n",
    "import numpy as np\n",
    "import matplotlib.pyplot as plt\n",
    "from matplotlib.pyplot import figure\n",
    "import time\n",
    "from datetime import datetime\n",
    "from dateutil import parser"
   ]
  },
  {
   "cell_type": "markdown",
   "metadata": {},
   "source": [
    "<u><h2>**Helper Functions**</h2></u>"
   ]
  },
  {
   "cell_type": "code",
   "execution_count": 2,
   "metadata": {},
   "outputs": [],
   "source": [
    "def rainbow(hist):\n",
    "    '''This is a function that turns the bars of a histogram into a rainbow.'''\n",
    "    cm = plt.cm.get_cmap('gist_rainbow')\n",
    "    n, bins, patches = hist\n",
    "    \n",
    "    bin_centers = 0.5 * (bins[:-1] + bins[1:])\n",
    "    col = bin_centers - min(bin_centers)\n",
    "    col /= max(col)\n",
    "\n",
    "    for c, p in zip(col, patches):\n",
    "        plt.setp(p, 'facecolor', cm(c))"
   ]
  },
  {
   "cell_type": "code",
   "execution_count": 3,
   "metadata": {},
   "outputs": [],
   "source": [
    "def distribution(dataframe, components,indx):\n",
    "    '''This is a function that returns a dataframe with the percent of each column that each component accounts for.\n",
    "    Note: 'components' has to be in the form of a list object. '''\n",
    "    \n",
    "    # Create an empty dataframe\n",
    "    dist = pd.DataFrame(index = indx, columns = dataframe.columns)\n",
    "    \n",
    "    for col in dataframe.columns:\n",
    "        # Total nonzero elements in a column\n",
    "        total = len(dataframe[col].dropna())\n",
    "        \n",
    "        # For loop to filter for each component and convert to a percentage\n",
    "        dist[col] = [round(len(dataframe[dataframe[col] == comp])/total*100, 2) for comp in components]\n",
    "    return dist"
   ]
  },
  {
   "cell_type": "code",
   "execution_count": 4,
   "metadata": {},
   "outputs": [],
   "source": [
    "def plot_rows(dataframe, title, xtitle, xlabels, ytitle):\n",
    "    '''This is a function that takes in a dataframe and returns a plot with each row as a different line. '''\n",
    "    # Set figure size \n",
    "    plt.figure(figsize = (17,5)) \n",
    "    \n",
    "    # Set colormap to cycle through number of components in distribution (aka the number of rows)\n",
    "    colormap = plt.cm.gist_ncar # choose color scheme \n",
    "    plt.gca().set_prop_cycle(plt.cycler('color', plt.cm.jet(np.linspace(0, 1,dataframe.shape[0])))) # set color cycler to cycle through number of rows \n",
    "    \n",
    "    for x in range(dataframe.shape[0]):\n",
    "        plt.plot(dataframe.iloc[x,:].values, label = dataframe.index[x]) # Plot each row\n",
    "    \n",
    "    # Set plot attributes\n",
    "    plt.legend(loc = 'lower right', frameon = True, framealpha= 1)\n",
    "    plt.xlabel(xtitle)\n",
    "    plt.ylabel(ytitle)\n",
    "    plt.title(title)  \n",
    "    plt.xticks(range(0,dataframe.shape[1]),xlabels) # Overlay x axis labels \n",
    "    plt.show()"
   ]
  },
  {
   "cell_type": "markdown",
   "metadata": {},
   "source": [
    "<u><h2>**Declarations**</h2></u>"
   ]
  },
  {
   "cell_type": "code",
   "execution_count": 5,
   "metadata": {},
   "outputs": [],
   "source": [
    "gen_data = lambda year: [pd.read_csv('%4d%02d-citibike-tripdata.csv' % (year, month)) for month in range(1, 13)]\n",
    "data19_20 = gen_data(2019) + gen_data(2020)"
   ]
  },
  {
   "cell_type": "code",
   "execution_count": 6,
   "metadata": {},
   "outputs": [],
   "source": [
    "# Set variables to be used for plots throughout the project\n",
    "months = ['Jan', 'Feb', 'Mar', 'Apr', 'May', 'Jun', 'Jul', 'Aug', 'Sep', 'Oct', 'Nov', 'Dec']\n",
    "months2y =  ['January 2019', 'February 2019', 'March 2019', 'April 2019', 'May 2019', 'June 2019', 'July 2019', 'August 2019', 'September 2019', 'October 2019', 'November 2019', 'December 2019','January 2020', 'February 2020', 'March 2020', 'April 2020', 'May 2020', 'June 2020', 'July 2020', 'August 2020', 'September 2020', 'October 2020', 'November 2020', 'December 2020']\n",
    "short_months2y = ['Jan19','Feb19','Mar19','Apr19','May19', 'Jun19','Jul19','Aug19','Sep19','Oct19','Nov19','Dec19','Jan20','Feb20','Mar20','Apr20','May20','Jun20','Jul20','Aug20','Sep20','Oct20','Nov20','Dec20']"
   ]
  },
  {
   "cell_type": "markdown",
   "metadata": {
    "id": "-O2p7DO5sKEI"
   },
   "source": [
    "<u><h2> **Data Cleaning**</u></h2>\n",
    "\n",
    "Our given dataset was already pre-cleaned. Additionally, we chose to eliminate any rides from riders over the age of 100 as we view these as outliers and any trips with a duration over 10 hours."
   ]
  },
  {
   "cell_type": "code",
   "execution_count": 7,
   "metadata": {},
   "outputs": [],
   "source": [
    "#Cleanse data \n",
    "for indx, data in enumerate(data19_20):\n",
    "    data['birth year'] = data['birth year'].astype(int)\n",
    "    data['age'] = int(data['starttime'][0][:4]) - data['birth year']\n",
    "    data19_20[indx] = data[(data['age'] <= 100) & (data['tripduration'] <= 36000)] #cleanse for age and 10H+trips\n",
    "#data19_20[indx] = data[data['tripduration'] <= 36000] #cleanse for 10h+ trips"
   ]
  },
  {
   "cell_type": "markdown",
   "metadata": {},
   "source": [
    "<h2>Section 1: Who are Citibike's users?</h2>"
   ]
  },
  {
   "cell_type": "markdown",
   "metadata": {},
   "source": [
    "**1.1 What is the average age of our users? Did it shift over time?**\n",
    "\n",
    "Note: Since we do not have any customer identifying information to account for how many rides each rider took, we can only calculate the average age per ride. "
   ]
  },
  {
   "cell_type": "code",
   "execution_count": 8,
   "metadata": {},
   "outputs": [
    {
     "name": "stdout",
     "output_type": "stream",
     "text": [
      "The most rides taken in one month was 2484762 !\n"
     ]
    }
   ],
   "source": [
    "# First, we must figure out which month had the most rides, so we can create a dataframe that has enough rows to fit that month. \n",
    "# If we don't do this, the dataframe will contain only as many rows as there were rides in January of 2019.\n",
    "\n",
    "most_monthly_rides = 0\n",
    "for month in data19_20:\n",
    "    if month.shape[0] > most_monthly_rides:\n",
    "        most_monthly_rides = month.shape[0]\n",
    "        \n",
    "print('The most rides taken in one month was',most_monthly_rides,'!')"
   ]
  },
  {
   "cell_type": "code",
   "execution_count": 9,
   "metadata": {},
   "outputs": [
    {
     "data": {
      "text/html": [
       "<div>\n",
       "<style scoped>\n",
       "    .dataframe tbody tr th:only-of-type {\n",
       "        vertical-align: middle;\n",
       "    }\n",
       "\n",
       "    .dataframe tbody tr th {\n",
       "        vertical-align: top;\n",
       "    }\n",
       "\n",
       "    .dataframe thead th {\n",
       "        text-align: right;\n",
       "    }\n",
       "</style>\n",
       "<table border=\"1\" class=\"dataframe\">\n",
       "  <thead>\n",
       "    <tr style=\"text-align: right;\">\n",
       "      <th></th>\n",
       "      <th>January 2019</th>\n",
       "      <th>February 2019</th>\n",
       "      <th>March 2019</th>\n",
       "      <th>April 2019</th>\n",
       "      <th>May 2019</th>\n",
       "      <th>June 2019</th>\n",
       "      <th>July 2019</th>\n",
       "      <th>August 2019</th>\n",
       "      <th>September 2019</th>\n",
       "      <th>October 2019</th>\n",
       "      <th>...</th>\n",
       "      <th>March 2020</th>\n",
       "      <th>April 2020</th>\n",
       "      <th>May 2020</th>\n",
       "      <th>June 2020</th>\n",
       "      <th>July 2020</th>\n",
       "      <th>August 2020</th>\n",
       "      <th>September 2020</th>\n",
       "      <th>October 2020</th>\n",
       "      <th>November 2020</th>\n",
       "      <th>December 2020</th>\n",
       "    </tr>\n",
       "  </thead>\n",
       "  <tbody>\n",
       "    <tr>\n",
       "      <th>0</th>\n",
       "      <td>48.0</td>\n",
       "      <td>30.0</td>\n",
       "      <td>30.0</td>\n",
       "      <td>37.0</td>\n",
       "      <td>36.0</td>\n",
       "      <td>27.0</td>\n",
       "      <td>53.0</td>\n",
       "      <td>23.0</td>\n",
       "      <td>51.0</td>\n",
       "      <td>26.0</td>\n",
       "      <td>...</td>\n",
       "      <td>40.0</td>\n",
       "      <td>30.0</td>\n",
       "      <td>27.0</td>\n",
       "      <td>23.0</td>\n",
       "      <td>34.0</td>\n",
       "      <td>22.0</td>\n",
       "      <td>41.0</td>\n",
       "      <td>25.0</td>\n",
       "      <td>31.0</td>\n",
       "      <td>32.0</td>\n",
       "    </tr>\n",
       "    <tr>\n",
       "      <th>1</th>\n",
       "      <td>55.0</td>\n",
       "      <td>29.0</td>\n",
       "      <td>39.0</td>\n",
       "      <td>36.0</td>\n",
       "      <td>50.0</td>\n",
       "      <td>32.0</td>\n",
       "      <td>23.0</td>\n",
       "      <td>21.0</td>\n",
       "      <td>50.0</td>\n",
       "      <td>27.0</td>\n",
       "      <td>...</td>\n",
       "      <td>29.0</td>\n",
       "      <td>46.0</td>\n",
       "      <td>31.0</td>\n",
       "      <td>51.0</td>\n",
       "      <td>30.0</td>\n",
       "      <td>54.0</td>\n",
       "      <td>29.0</td>\n",
       "      <td>22.0</td>\n",
       "      <td>50.0</td>\n",
       "      <td>32.0</td>\n",
       "    </tr>\n",
       "    <tr>\n",
       "      <th>2</th>\n",
       "      <td>32.0</td>\n",
       "      <td>32.0</td>\n",
       "      <td>32.0</td>\n",
       "      <td>31.0</td>\n",
       "      <td>41.0</td>\n",
       "      <td>29.0</td>\n",
       "      <td>33.0</td>\n",
       "      <td>31.0</td>\n",
       "      <td>50.0</td>\n",
       "      <td>24.0</td>\n",
       "      <td>...</td>\n",
       "      <td>29.0</td>\n",
       "      <td>38.0</td>\n",
       "      <td>82.0</td>\n",
       "      <td>32.0</td>\n",
       "      <td>51.0</td>\n",
       "      <td>51.0</td>\n",
       "      <td>36.0</td>\n",
       "      <td>24.0</td>\n",
       "      <td>31.0</td>\n",
       "      <td>43.0</td>\n",
       "    </tr>\n",
       "    <tr>\n",
       "      <th>3</th>\n",
       "      <td>29.0</td>\n",
       "      <td>55.0</td>\n",
       "      <td>32.0</td>\n",
       "      <td>37.0</td>\n",
       "      <td>22.0</td>\n",
       "      <td>32.0</td>\n",
       "      <td>31.0</td>\n",
       "      <td>31.0</td>\n",
       "      <td>29.0</td>\n",
       "      <td>27.0</td>\n",
       "      <td>...</td>\n",
       "      <td>31.0</td>\n",
       "      <td>24.0</td>\n",
       "      <td>24.0</td>\n",
       "      <td>51.0</td>\n",
       "      <td>22.0</td>\n",
       "      <td>30.0</td>\n",
       "      <td>30.0</td>\n",
       "      <td>27.0</td>\n",
       "      <td>39.0</td>\n",
       "      <td>38.0</td>\n",
       "    </tr>\n",
       "    <tr>\n",
       "      <th>4</th>\n",
       "      <td>40.0</td>\n",
       "      <td>40.0</td>\n",
       "      <td>28.0</td>\n",
       "      <td>33.0</td>\n",
       "      <td>52.0</td>\n",
       "      <td>46.0</td>\n",
       "      <td>22.0</td>\n",
       "      <td>54.0</td>\n",
       "      <td>27.0</td>\n",
       "      <td>27.0</td>\n",
       "      <td>...</td>\n",
       "      <td>27.0</td>\n",
       "      <td>43.0</td>\n",
       "      <td>27.0</td>\n",
       "      <td>23.0</td>\n",
       "      <td>28.0</td>\n",
       "      <td>51.0</td>\n",
       "      <td>51.0</td>\n",
       "      <td>31.0</td>\n",
       "      <td>30.0</td>\n",
       "      <td>23.0</td>\n",
       "    </tr>\n",
       "  </tbody>\n",
       "</table>\n",
       "<p>5 rows × 24 columns</p>\n",
       "</div>"
      ],
      "text/plain": [
       "   January 2019  February 2019  March 2019  April 2019  May 2019  June 2019  \\\n",
       "0          48.0           30.0        30.0        37.0      36.0       27.0   \n",
       "1          55.0           29.0        39.0        36.0      50.0       32.0   \n",
       "2          32.0           32.0        32.0        31.0      41.0       29.0   \n",
       "3          29.0           55.0        32.0        37.0      22.0       32.0   \n",
       "4          40.0           40.0        28.0        33.0      52.0       46.0   \n",
       "\n",
       "   July 2019  August 2019  September 2019  October 2019  ...  March 2020  \\\n",
       "0       53.0         23.0            51.0          26.0  ...        40.0   \n",
       "1       23.0         21.0            50.0          27.0  ...        29.0   \n",
       "2       33.0         31.0            50.0          24.0  ...        29.0   \n",
       "3       31.0         31.0            29.0          27.0  ...        31.0   \n",
       "4       22.0         54.0            27.0          27.0  ...        27.0   \n",
       "\n",
       "   April 2020  May 2020  June 2020  July 2020  August 2020  September 2020  \\\n",
       "0        30.0      27.0       23.0       34.0         22.0            41.0   \n",
       "1        46.0      31.0       51.0       30.0         54.0            29.0   \n",
       "2        38.0      82.0       32.0       51.0         51.0            36.0   \n",
       "3        24.0      24.0       51.0       22.0         30.0            30.0   \n",
       "4        43.0      27.0       23.0       28.0         51.0            51.0   \n",
       "\n",
       "   October 2020  November 2020  December 2020  \n",
       "0          25.0           31.0           32.0  \n",
       "1          22.0           50.0           32.0  \n",
       "2          24.0           31.0           43.0  \n",
       "3          27.0           39.0           38.0  \n",
       "4          31.0           30.0           23.0  \n",
       "\n",
       "[5 rows x 24 columns]"
      ]
     },
     "execution_count": 9,
     "metadata": {},
     "output_type": "execute_result"
    }
   ],
   "source": [
    "# Create a dataframe of null values. Each row is a ride. Each column is a month between 2019 and 2020.\n",
    "Ages2019_2020 = pd.DataFrame(columns = months2y,index=range(most_monthly_rides))\n",
    "\n",
    "#fill the dataframe by pulling the age columns from each month's data\n",
    "for indx, data in enumerate(data19_20):\n",
    "    Ages2019_2020[months2y[indx]] = data['age']\n",
    "\n",
    "Ages2019_2020.head(5)"
   ]
  },
  {
   "cell_type": "code",
   "execution_count": 10,
   "metadata": {},
   "outputs": [
    {
     "name": "stdout",
     "output_type": "stream",
     "text": [
      "The average age of a rider over the 2019 and 2020 period was 39.01 years old!\n"
     ]
    }
   ],
   "source": [
    "print('The average age of a rider over the 2019 and 2020 period was',round(Ages2019_2020.mean().mean(),2),'years old!')"
   ]
  },
  {
   "cell_type": "code",
   "execution_count": 11,
   "metadata": {
    "scrolled": true
   },
   "outputs": [],
   "source": [
    "#Create a dataframe containing the average age of the riders for each month \n",
    "Average_Age_per_Ride = pd.DataFrame({'Month':Ages2019_2020.describe().loc['mean'].values}, index = months2y)"
   ]
  },
  {
   "cell_type": "code",
   "execution_count": 12,
   "metadata": {},
   "outputs": [
    {
     "data": {
      "text/plain": [
       "<matplotlib.legend.Legend at 0x7f827aceaf10>"
      ]
     },
     "execution_count": 12,
     "metadata": {},
     "output_type": "execute_result"
    },
    {
     "data": {
      "image/png": "[encoded data removed]",
      "text/plain": [
       "<Figure size 1080x360 with 1 Axes>"
      ]
     },
     "metadata": {
      "needs_background": "light"
     },
     "output_type": "display_data"
    }
   ],
   "source": [
    "#Plot average age\n",
    "plt.figure(figsize=(15,5))\n",
    "plt.xlabel('Month')\n",
    "plt.ylabel('Age(in yrs)')\n",
    "plt.title('Avg Age per Month')\n",
    "plt.plot(Average_Age_per_Ride.iloc[:12].values, label ='2019', marker='o')\n",
    "plt.plot(Average_Age_per_Ride.iloc[12:].values, label = '2020', marker='o')\n",
    "plt.xticks(range(12),months)\n",
    "plt.legend()"
   ]
  },
  {
   "cell_type": "markdown",
   "metadata": {},
   "source": [
    "The average age of riders over the 2019-2020 period was 39 years old. During both 2019 and 2020, the average age of riders attained a minimum in August and rose to a maximum in January. Between February and April of 2020, the average age of Citibike riders increased unlike the same period in 2019 which saw a decrease in average age. One possible explanation for this difference is that older people may have been more cautious at the onset of covid, electing to ride bikes outside rather than risk exposure on the subway and other closed-space public transport systems. "
   ]
  },
  {
   "cell_type": "markdown",
   "metadata": {},
   "source": [
    "**1.2 What is the age distribution of our riders? Did it shift over time?**"
   ]
  },
  {
   "cell_type": "code",
   "execution_count": 13,
   "metadata": {},
   "outputs": [
    {
     "data": {
      "image/png": "[encoded data removed]",
      "text/plain": [
       "<Figure size 720x360 with 1 Axes>"
      ]
     },
     "metadata": {
      "needs_background": "light"
     },
     "output_type": "display_data"
    }
   ],
   "source": [
    "# Create an animated histogram displaying the ages of the riders each month.\n",
    "from IPython.display import clear_output\n",
    "import time\n",
    "\n",
    "for x in Ages2019_2020.columns:\n",
    "    clear_output(wait=True)\n",
    "    \n",
    "    plt.figure(figsize=(10,5))\n",
    "    rainbow(plt.hist(Ages2019_2020[x], bins=85, color='pink', edgecolor='black')) #bins at 85 so that each age has a bin (16-100)\n",
    "    plt.axis((15, 85, 0, 350000))\n",
    "    plt.ylabel('Number of riders')\n",
    "    plt.xlabel('Age of riders')\n",
    "    plt.title(x)\n",
    "    plt.show() \n",
    "    \n",
    "    time.sleep(1.0)"
   ]
  },
  {
   "cell_type": "markdown",
   "metadata": {},
   "source": [
    "There is a notable spike in number of rides for users aged 50 in 2019 and 51 in 2020 (corresponding to birth year of 1969 for each). Such a distinct jump in citibike popularity within this birth year seems unlikely. One explanation for this spike is data collection methods. It could be that the default birth year for citibike is 1969. In order to further investigate this explanation, we look at the histogram of birth year by usertype, theorizing that customers are less likely than subscribers to accurately identifying their birth year. "
   ]
  },
  {
   "cell_type": "code",
   "execution_count": 14,
   "metadata": {},
   "outputs": [],
   "source": [
    "sub_byear = pd.DataFrame(columns = months2y,index=range(most_monthly_rides))\n",
    "cust_byear = pd.DataFrame(columns = months2y,index=range(most_monthly_rides))\n",
    "\n",
    "#fill the dataframes by pulling the birth year columns from each month's data\n",
    "for indx, data in enumerate(data19_20):\n",
    "    sub_byear[months2y[indx]] = data.loc[(data['usertype'] == 'Subscriber'), 'birth year']\n",
    "    cust_byear[months2y[indx]] = data.loc[(data['usertype'] == 'Customer') ,'birth year']"
   ]
  },
  {
   "cell_type": "code",
   "execution_count": 15,
   "metadata": {},
   "outputs": [
    {
     "data": {
      "image/png": "[encoded data removed]",
      "text/plain": [
       "<Figure size 720x360 with 1 Axes>"
      ]
     },
     "metadata": {
      "needs_background": "light"
     },
     "output_type": "display_data"
    }
   ],
   "source": [
    "for x in sub_byear.columns:\n",
    "    clear_output(wait=True)\n",
    "    plt.figure(figsize=(10,5))\n",
    "    plt.hist(sub_byear[x], bins=85, color='skyblue', edgecolor='black', density='true')\n",
    "    plt.hist(cust_byear[x], bins=85, color='red', edgecolor='black', density='true')\n",
    "    plt.axis((1930, 2005, 0, .7))\n",
    "    plt.ylabel('Proportion of riders')\n",
    "    plt.xlabel('Birth Year of riders')\n",
    "    plt.title(x)\n",
    "    plt.show() \n",
    "    \n",
    "    time.sleep(1.0)"
   ]
  },
  {
   "cell_type": "markdown",
   "metadata": {},
   "source": [
    "The proportion of casual riders with birth year of 1969 is consistently above 40% each month, indicating that the spike in number of riders aged 50/51 is in part due to the overrepresentation in customer user type. This supports the theory that customers are less likely to enter their true birth year thus skewing the data."
   ]
  },
  {
   "cell_type": "code",
   "execution_count": 16,
   "metadata": {},
   "outputs": [
    {
     "data": {
      "image/png": "[encoded data removed]",
      "text/plain": [
       "<Figure size 720x360 with 1 Axes>"
      ]
     },
     "metadata": {
      "needs_background": "light"
     },
     "output_type": "display_data"
    }
   ],
   "source": [
    "# Create an animated histogram displaying the age distribution of the riders each month (as a percent).\n",
    "\n",
    "for x in Ages2019_2020.columns: \n",
    "    clear_output(wait=True)\n",
    "    \n",
    "    # filter each months data to remove null values\n",
    "    data = list(filter(lambda x: pd.notna(x), Ages2019_2020[x]))\n",
    "    \n",
    "    plt.figure(figsize=(10,5))\n",
    "    rainbow(plt.hist(data, bins=20, color='pink', edgecolor='black', weights=np.ones(len(data))*100/len(data)))\n",
    "    plt.axis((15, 85, 0, 100))\n",
    "    plt.ylabel('% of Riders')\n",
    "    plt.xlabel('Age of riders')\n",
    "    plt.title(x)\n",
    "    plt.show() \n",
    "    \n",
    "    time.sleep(1.0)"
   ]
  },
  {
   "cell_type": "code",
   "execution_count": 17,
   "metadata": {
    "scrolled": true
   },
   "outputs": [
    {
     "data": {
      "text/html": [
       "<div>\n",
       "<style scoped>\n",
       "    .dataframe tbody tr th:only-of-type {\n",
       "        vertical-align: middle;\n",
       "    }\n",
       "\n",
       "    .dataframe tbody tr th {\n",
       "        vertical-align: top;\n",
       "    }\n",
       "\n",
       "    .dataframe thead th {\n",
       "        text-align: right;\n",
       "    }\n",
       "</style>\n",
       "<table border=\"1\" class=\"dataframe\">\n",
       "  <thead>\n",
       "    <tr style=\"text-align: right;\">\n",
       "      <th></th>\n",
       "      <th>range</th>\n",
       "      <th>January 2019</th>\n",
       "      <th>February 2019</th>\n",
       "      <th>March 2019</th>\n",
       "      <th>April 2019</th>\n",
       "      <th>May 2019</th>\n",
       "      <th>June 2019</th>\n",
       "      <th>July 2019</th>\n",
       "      <th>August 2019</th>\n",
       "      <th>September 2019</th>\n",
       "      <th>...</th>\n",
       "      <th>March 2020</th>\n",
       "      <th>April 2020</th>\n",
       "      <th>May 2020</th>\n",
       "      <th>June 2020</th>\n",
       "      <th>July 2020</th>\n",
       "      <th>August 2020</th>\n",
       "      <th>September 2020</th>\n",
       "      <th>October 2020</th>\n",
       "      <th>November 2020</th>\n",
       "      <th>December 2020</th>\n",
       "    </tr>\n",
       "  </thead>\n",
       "  <tbody>\n",
       "    <tr>\n",
       "      <th>0</th>\n",
       "      <td>15-20</td>\n",
       "      <td>0.005788</td>\n",
       "      <td>0.005670</td>\n",
       "      <td>0.007299</td>\n",
       "      <td>0.009031</td>\n",
       "      <td>0.008909</td>\n",
       "      <td>0.010646</td>\n",
       "      <td>0.012855</td>\n",
       "      <td>0.013012</td>\n",
       "      <td>0.012491</td>\n",
       "      <td>...</td>\n",
       "      <td>0.006701</td>\n",
       "      <td>0.005181</td>\n",
       "      <td>0.007341</td>\n",
       "      <td>0.011783</td>\n",
       "      <td>0.012403</td>\n",
       "      <td>0.015192</td>\n",
       "      <td>0.016353</td>\n",
       "      <td>0.016912</td>\n",
       "      <td>0.017588</td>\n",
       "      <td>0.016418</td>\n",
       "    </tr>\n",
       "    <tr>\n",
       "      <th>1</th>\n",
       "      <td>20-25</td>\n",
       "      <td>0.046027</td>\n",
       "      <td>0.054284</td>\n",
       "      <td>0.057442</td>\n",
       "      <td>0.062385</td>\n",
       "      <td>0.063578</td>\n",
       "      <td>0.069968</td>\n",
       "      <td>0.077002</td>\n",
       "      <td>0.080323</td>\n",
       "      <td>0.087487</td>\n",
       "      <td>...</td>\n",
       "      <td>0.058055</td>\n",
       "      <td>0.046309</td>\n",
       "      <td>0.058739</td>\n",
       "      <td>0.072289</td>\n",
       "      <td>0.073247</td>\n",
       "      <td>0.082822</td>\n",
       "      <td>0.085525</td>\n",
       "      <td>0.085689</td>\n",
       "      <td>0.081749</td>\n",
       "      <td>0.070737</td>\n",
       "    </tr>\n",
       "    <tr>\n",
       "      <th>2</th>\n",
       "      <td>25-30</td>\n",
       "      <td>0.170126</td>\n",
       "      <td>0.173755</td>\n",
       "      <td>0.177067</td>\n",
       "      <td>0.184407</td>\n",
       "      <td>0.183588</td>\n",
       "      <td>0.193407</td>\n",
       "      <td>0.194392</td>\n",
       "      <td>0.201719</td>\n",
       "      <td>0.195167</td>\n",
       "      <td>...</td>\n",
       "      <td>0.172101</td>\n",
       "      <td>0.167732</td>\n",
       "      <td>0.187304</td>\n",
       "      <td>0.193276</td>\n",
       "      <td>0.195475</td>\n",
       "      <td>0.201797</td>\n",
       "      <td>0.199303</td>\n",
       "      <td>0.196356</td>\n",
       "      <td>0.185474</td>\n",
       "      <td>0.166006</td>\n",
       "    </tr>\n",
       "    <tr>\n",
       "      <th>3</th>\n",
       "      <td>30-35</td>\n",
       "      <td>0.179070</td>\n",
       "      <td>0.181667</td>\n",
       "      <td>0.182148</td>\n",
       "      <td>0.182665</td>\n",
       "      <td>0.181147</td>\n",
       "      <td>0.183473</td>\n",
       "      <td>0.184551</td>\n",
       "      <td>0.186123</td>\n",
       "      <td>0.178383</td>\n",
       "      <td>...</td>\n",
       "      <td>0.178562</td>\n",
       "      <td>0.201754</td>\n",
       "      <td>0.207104</td>\n",
       "      <td>0.201431</td>\n",
       "      <td>0.197212</td>\n",
       "      <td>0.194831</td>\n",
       "      <td>0.186858</td>\n",
       "      <td>0.185869</td>\n",
       "      <td>0.182722</td>\n",
       "      <td>0.176361</td>\n",
       "    </tr>\n",
       "    <tr>\n",
       "      <th>4</th>\n",
       "      <td>35-40</td>\n",
       "      <td>0.143725</td>\n",
       "      <td>0.142427</td>\n",
       "      <td>0.136174</td>\n",
       "      <td>0.130617</td>\n",
       "      <td>0.128882</td>\n",
       "      <td>0.126142</td>\n",
       "      <td>0.127147</td>\n",
       "      <td>0.124744</td>\n",
       "      <td>0.123575</td>\n",
       "      <td>...</td>\n",
       "      <td>0.129931</td>\n",
       "      <td>0.128968</td>\n",
       "      <td>0.121405</td>\n",
       "      <td>0.117507</td>\n",
       "      <td>0.119252</td>\n",
       "      <td>0.115436</td>\n",
       "      <td>0.114405</td>\n",
       "      <td>0.114853</td>\n",
       "      <td>0.117559</td>\n",
       "      <td>0.121978</td>\n",
       "    </tr>\n",
       "    <tr>\n",
       "      <th>5</th>\n",
       "      <td>40-45</td>\n",
       "      <td>0.106924</td>\n",
       "      <td>0.102681</td>\n",
       "      <td>0.098856</td>\n",
       "      <td>0.092565</td>\n",
       "      <td>0.092753</td>\n",
       "      <td>0.087950</td>\n",
       "      <td>0.086328</td>\n",
       "      <td>0.082613</td>\n",
       "      <td>0.086546</td>\n",
       "      <td>...</td>\n",
       "      <td>0.092872</td>\n",
       "      <td>0.085094</td>\n",
       "      <td>0.075557</td>\n",
       "      <td>0.073392</td>\n",
       "      <td>0.076010</td>\n",
       "      <td>0.071770</td>\n",
       "      <td>0.074500</td>\n",
       "      <td>0.076102</td>\n",
       "      <td>0.079263</td>\n",
       "      <td>0.086788</td>\n",
       "    </tr>\n",
       "    <tr>\n",
       "      <th>6</th>\n",
       "      <td>45-50</td>\n",
       "      <td>0.096153</td>\n",
       "      <td>0.092666</td>\n",
       "      <td>0.088402</td>\n",
       "      <td>0.080934</td>\n",
       "      <td>0.081425</td>\n",
       "      <td>0.075520</td>\n",
       "      <td>0.072009</td>\n",
       "      <td>0.067997</td>\n",
       "      <td>0.075025</td>\n",
       "      <td>...</td>\n",
       "      <td>0.080698</td>\n",
       "      <td>0.071199</td>\n",
       "      <td>0.060386</td>\n",
       "      <td>0.058959</td>\n",
       "      <td>0.058721</td>\n",
       "      <td>0.055184</td>\n",
       "      <td>0.060647</td>\n",
       "      <td>0.063748</td>\n",
       "      <td>0.068647</td>\n",
       "      <td>0.078967</td>\n",
       "    </tr>\n",
       "    <tr>\n",
       "      <th>7</th>\n",
       "      <td>50-55</td>\n",
       "      <td>0.112619</td>\n",
       "      <td>0.112616</td>\n",
       "      <td>0.124681</td>\n",
       "      <td>0.142367</td>\n",
       "      <td>0.150295</td>\n",
       "      <td>0.150829</td>\n",
       "      <td>0.145498</td>\n",
       "      <td>0.148799</td>\n",
       "      <td>0.141528</td>\n",
       "      <td>...</td>\n",
       "      <td>0.145283</td>\n",
       "      <td>0.172889</td>\n",
       "      <td>0.187479</td>\n",
       "      <td>0.177442</td>\n",
       "      <td>0.173793</td>\n",
       "      <td>0.174278</td>\n",
       "      <td>0.167912</td>\n",
       "      <td>0.162575</td>\n",
       "      <td>0.157623</td>\n",
       "      <td>0.148583</td>\n",
       "    </tr>\n",
       "    <tr>\n",
       "      <th>8</th>\n",
       "      <td>55-60</td>\n",
       "      <td>0.068785</td>\n",
       "      <td>0.066024</td>\n",
       "      <td>0.062659</td>\n",
       "      <td>0.056958</td>\n",
       "      <td>0.054793</td>\n",
       "      <td>0.051612</td>\n",
       "      <td>0.050010</td>\n",
       "      <td>0.047225</td>\n",
       "      <td>0.050607</td>\n",
       "      <td>...</td>\n",
       "      <td>0.063552</td>\n",
       "      <td>0.055789</td>\n",
       "      <td>0.043892</td>\n",
       "      <td>0.043315</td>\n",
       "      <td>0.043902</td>\n",
       "      <td>0.041583</td>\n",
       "      <td>0.044280</td>\n",
       "      <td>0.046108</td>\n",
       "      <td>0.051295</td>\n",
       "      <td>0.063080</td>\n",
       "    </tr>\n",
       "    <tr>\n",
       "      <th>9</th>\n",
       "      <td>60-65</td>\n",
       "      <td>0.041650</td>\n",
       "      <td>0.039565</td>\n",
       "      <td>0.037619</td>\n",
       "      <td>0.034063</td>\n",
       "      <td>0.031972</td>\n",
       "      <td>0.029795</td>\n",
       "      <td>0.029507</td>\n",
       "      <td>0.027931</td>\n",
       "      <td>0.028891</td>\n",
       "      <td>...</td>\n",
       "      <td>0.041433</td>\n",
       "      <td>0.035923</td>\n",
       "      <td>0.027978</td>\n",
       "      <td>0.028250</td>\n",
       "      <td>0.027789</td>\n",
       "      <td>0.026263</td>\n",
       "      <td>0.028446</td>\n",
       "      <td>0.029056</td>\n",
       "      <td>0.031985</td>\n",
       "      <td>0.039646</td>\n",
       "    </tr>\n",
       "    <tr>\n",
       "      <th>10</th>\n",
       "      <td>65-70</td>\n",
       "      <td>0.019424</td>\n",
       "      <td>0.018689</td>\n",
       "      <td>0.018219</td>\n",
       "      <td>0.015720</td>\n",
       "      <td>0.014811</td>\n",
       "      <td>0.013249</td>\n",
       "      <td>0.013211</td>\n",
       "      <td>0.012497</td>\n",
       "      <td>0.012964</td>\n",
       "      <td>...</td>\n",
       "      <td>0.019466</td>\n",
       "      <td>0.018318</td>\n",
       "      <td>0.014312</td>\n",
       "      <td>0.014009</td>\n",
       "      <td>0.013927</td>\n",
       "      <td>0.012807</td>\n",
       "      <td>0.013183</td>\n",
       "      <td>0.013722</td>\n",
       "      <td>0.015969</td>\n",
       "      <td>0.019323</td>\n",
       "    </tr>\n",
       "    <tr>\n",
       "      <th>11</th>\n",
       "      <td>70-75</td>\n",
       "      <td>0.006469</td>\n",
       "      <td>0.006503</td>\n",
       "      <td>0.006192</td>\n",
       "      <td>0.005630</td>\n",
       "      <td>0.005221</td>\n",
       "      <td>0.004880</td>\n",
       "      <td>0.005035</td>\n",
       "      <td>0.004800</td>\n",
       "      <td>0.004866</td>\n",
       "      <td>...</td>\n",
       "      <td>0.006889</td>\n",
       "      <td>0.006443</td>\n",
       "      <td>0.005181</td>\n",
       "      <td>0.005573</td>\n",
       "      <td>0.005426</td>\n",
       "      <td>0.005219</td>\n",
       "      <td>0.005427</td>\n",
       "      <td>0.005674</td>\n",
       "      <td>0.006261</td>\n",
       "      <td>0.007318</td>\n",
       "    </tr>\n",
       "    <tr>\n",
       "      <th>12</th>\n",
       "      <td>75-80</td>\n",
       "      <td>0.002404</td>\n",
       "      <td>0.002489</td>\n",
       "      <td>0.002337</td>\n",
       "      <td>0.001887</td>\n",
       "      <td>0.001875</td>\n",
       "      <td>0.001705</td>\n",
       "      <td>0.001698</td>\n",
       "      <td>0.001529</td>\n",
       "      <td>0.001648</td>\n",
       "      <td>...</td>\n",
       "      <td>0.002511</td>\n",
       "      <td>0.002544</td>\n",
       "      <td>0.001948</td>\n",
       "      <td>0.001718</td>\n",
       "      <td>0.001627</td>\n",
       "      <td>0.001684</td>\n",
       "      <td>0.001862</td>\n",
       "      <td>0.001971</td>\n",
       "      <td>0.002464</td>\n",
       "      <td>0.003009</td>\n",
       "    </tr>\n",
       "    <tr>\n",
       "      <th>13</th>\n",
       "      <td>80-85</td>\n",
       "      <td>0.000625</td>\n",
       "      <td>0.000771</td>\n",
       "      <td>0.000692</td>\n",
       "      <td>0.000569</td>\n",
       "      <td>0.000557</td>\n",
       "      <td>0.000584</td>\n",
       "      <td>0.000507</td>\n",
       "      <td>0.000453</td>\n",
       "      <td>0.000560</td>\n",
       "      <td>...</td>\n",
       "      <td>0.001551</td>\n",
       "      <td>0.001601</td>\n",
       "      <td>0.001040</td>\n",
       "      <td>0.000763</td>\n",
       "      <td>0.000960</td>\n",
       "      <td>0.000864</td>\n",
       "      <td>0.000886</td>\n",
       "      <td>0.000985</td>\n",
       "      <td>0.000880</td>\n",
       "      <td>0.001135</td>\n",
       "    </tr>\n",
       "  </tbody>\n",
       "</table>\n",
       "<p>14 rows × 25 columns</p>\n",
       "</div>"
      ],
      "text/plain": [
       "    range  January 2019  February 2019  March 2019  April 2019  May 2019  \\\n",
       "0   15-20      0.005788       0.005670    0.007299    0.009031  0.008909   \n",
       "1   20-25      0.046027       0.054284    0.057442    0.062385  0.063578   \n",
       "2   25-30      0.170126       0.173755    0.177067    0.184407  0.183588   \n",
       "3   30-35      0.179070       0.181667    0.182148    0.182665  0.181147   \n",
       "4   35-40      0.143725       0.142427    0.136174    0.130617  0.128882   \n",
       "5   40-45      0.106924       0.102681    0.098856    0.092565  0.092753   \n",
       "6   45-50      0.096153       0.092666    0.088402    0.080934  0.081425   \n",
       "7   50-55      0.112619       0.112616    0.124681    0.142367  0.150295   \n",
       "8   55-60      0.068785       0.066024    0.062659    0.056958  0.054793   \n",
       "9   60-65      0.041650       0.039565    0.037619    0.034063  0.031972   \n",
       "10  65-70      0.019424       0.018689    0.018219    0.015720  0.014811   \n",
       "11  70-75      0.006469       0.006503    0.006192    0.005630  0.005221   \n",
       "12  75-80      0.002404       0.002489    0.002337    0.001887  0.001875   \n",
       "13  80-85      0.000625       0.000771    0.000692    0.000569  0.000557   \n",
       "\n",
       "    June 2019  July 2019  August 2019  September 2019  ...  March 2020  \\\n",
       "0    0.010646   0.012855     0.013012        0.012491  ...    0.006701   \n",
       "1    0.069968   0.077002     0.080323        0.087487  ...    0.058055   \n",
       "2    0.193407   0.194392     0.201719        0.195167  ...    0.172101   \n",
       "3    0.183473   0.184551     0.186123        0.178383  ...    0.178562   \n",
       "4    0.126142   0.127147     0.124744        0.123575  ...    0.129931   \n",
       "5    0.087950   0.086328     0.082613        0.086546  ...    0.092872   \n",
       "6    0.075520   0.072009     0.067997        0.075025  ...    0.080698   \n",
       "7    0.150829   0.145498     0.148799        0.141528  ...    0.145283   \n",
       "8    0.051612   0.050010     0.047225        0.050607  ...    0.063552   \n",
       "9    0.029795   0.029507     0.027931        0.028891  ...    0.041433   \n",
       "10   0.013249   0.013211     0.012497        0.012964  ...    0.019466   \n",
       "11   0.004880   0.005035     0.004800        0.004866  ...    0.006889   \n",
       "12   0.001705   0.001698     0.001529        0.001648  ...    0.002511   \n",
       "13   0.000584   0.000507     0.000453        0.000560  ...    0.001551   \n",
       "\n",
       "    April 2020  May 2020  June 2020  July 2020  August 2020  September 2020  \\\n",
       "0     0.005181  0.007341   0.011783   0.012403     0.015192        0.016353   \n",
       "1     0.046309  0.058739   0.072289   0.073247     0.082822        0.085525   \n",
       "2     0.167732  0.187304   0.193276   0.195475     0.201797        0.199303   \n",
       "3     0.201754  0.207104   0.201431   0.197212     0.194831        0.186858   \n",
       "4     0.128968  0.121405   0.117507   0.119252     0.115436        0.114405   \n",
       "5     0.085094  0.075557   0.073392   0.076010     0.071770        0.074500   \n",
       "6     0.071199  0.060386   0.058959   0.058721     0.055184        0.060647   \n",
       "7     0.172889  0.187479   0.177442   0.173793     0.174278        0.167912   \n",
       "8     0.055789  0.043892   0.043315   0.043902     0.041583        0.044280   \n",
       "9     0.035923  0.027978   0.028250   0.027789     0.026263        0.028446   \n",
       "10    0.018318  0.014312   0.014009   0.013927     0.012807        0.013183   \n",
       "11    0.006443  0.005181   0.005573   0.005426     0.005219        0.005427   \n",
       "12    0.002544  0.001948   0.001718   0.001627     0.001684        0.001862   \n",
       "13    0.001601  0.001040   0.000763   0.000960     0.000864        0.000886   \n",
       "\n",
       "    October 2020  November 2020  December 2020  \n",
       "0       0.016912       0.017588       0.016418  \n",
       "1       0.085689       0.081749       0.070737  \n",
       "2       0.196356       0.185474       0.166006  \n",
       "3       0.185869       0.182722       0.176361  \n",
       "4       0.114853       0.117559       0.121978  \n",
       "5       0.076102       0.079263       0.086788  \n",
       "6       0.063748       0.068647       0.078967  \n",
       "7       0.162575       0.157623       0.148583  \n",
       "8       0.046108       0.051295       0.063080  \n",
       "9       0.029056       0.031985       0.039646  \n",
       "10      0.013722       0.015969       0.019323  \n",
       "11      0.005674       0.006261       0.007318  \n",
       "12      0.001971       0.002464       0.003009  \n",
       "13      0.000985       0.000880       0.001135  \n",
       "\n",
       "[14 rows x 25 columns]"
      ]
     },
     "execution_count": 17,
     "metadata": {},
     "output_type": "execute_result"
    }
   ],
   "source": [
    "# Create a dataframe displaying the age distribution of riders each month\n",
    "\n",
    "# Set start age, end age and the increment you want. \n",
    "start = 15\n",
    "end = 85\n",
    "inc = 5\n",
    "\n",
    "# Create a blank dataframe to fill with distribution of ages.\n",
    "Age_dist = pd.DataFrame()\n",
    "Age_dist['range'] = ['%s-%s' % (age, age+inc) for age in range(start, end, inc)]\n",
    "Age_dist.set_index('range')\n",
    "\n",
    "data = Ages2019_2020\n",
    "\n",
    "for x in data.columns:\n",
    "    # Create an empty list to fill with the distribution of ages for month x\n",
    "    month_data = []\n",
    "    for age in range(start, end, inc):\n",
    "        # Fill list 'month_dist'\n",
    "        month_data.append(len(data[(data[x] >= age) & (data[x] < age + inc)])/len(data[data[x].notna()]))\n",
    "    Age_dist[x] = month_data\n",
    "    \n",
    "Age_dist"
   ]
  },
  {
   "cell_type": "code",
   "execution_count": 18,
   "metadata": {},
   "outputs": [
    {
     "data": {
      "image/png": "[encoded data removed]",
      "text/plain": [
       "<Figure size 1224x360 with 1 Axes>"
      ]
     },
     "metadata": {
      "needs_background": "light"
     },
     "output_type": "display_data"
    }
   ],
   "source": [
    "# Plot each row of the dataframe Age_dist \n",
    "\n",
    "plt.figure(figsize = (17,5)) #set figure size \n",
    "\n",
    "colormap = plt.cm.gist_ncar # set color scheme for plot\n",
    "plt.gca().set_prop_cycle(plt.cycler('color', plt.cm.jet(np.linspace(0, 1,14)))) # to cycle through colors for each line plotted\n",
    "\n",
    "for x in range(14):\n",
    "    plt.plot(Age_dist.iloc[13-x,1:].values, label = Age_dist.iloc[13-x,0]) #plot each age group as a percent of monthly riders \n",
    "\n",
    "plt.legend(loc = 'lower right', frameon = True, framealpha= 1)\n",
    "plt.xlabel('Month')\n",
    "plt.ylabel(\"% of Riders\")\n",
    "plt.title('Age Groups as a Percent of Monthly Riders')\n",
    "\n",
    "plt.xticks(range(0,24),short_months2y)\n",
    "plt.yticks(np.arange(0,.25,step=.05),[int(x) for x in np.linspace(0,20,5)])\n",
    "plt.show()"
   ]
  },
  {
   "cell_type": "markdown",
   "metadata": {},
   "source": [
    "It is evident that younger riders tend to account for a larger percentage of ridership. This can be observed in the rainbow effect of the graph. The two groups that seem to be outliers are the 15-19 age group and the 50-54 age group. The 15-19 age group seems to account for a smaller percent of ridership as compared to the next yougest age groups. This could be in part because Citibike's minimum age is 16, but this still would not entirely account for the sharp decrease in ridership in this group in particular. Another reasonable explanation for might be that riders ages 15-19 are less likely to be subscribers. As subscribers vastly outnumber customers in terms of number of rides per month, this may explain the low percentage for 15-19 age group. It is worth noting that both the 15-19 and 20-24 age groups exhibited more seasonal variation that other groups. Specifically, they both exbhibited a large uptick in ridership around the summer months. \n",
    "\n",
    "The 50-54 age group is extremely interesting in that they consistently account for a larger percentage of ridership than the 45-49 and the 55-59 groups combined. This group also exhibited an anomalous increase in ridership between January and May of 2020. Between this time, this group went from 11% to almost 19% of the overall riders. By comparison, the 55-59 age group decreased from 6% to just over 4% of riders during this same time period.\n"
   ]
  },
  {
   "cell_type": "markdown",
   "metadata": {},
   "source": [
    "**1.3 What is the gender breakdown of our users? Did it shift over time?**\n",
    "\n",
    "For our data:\n",
    "- 0 = unknown \n",
    "- 1 = male\n",
    "- 2 = female"
   ]
  },
  {
   "cell_type": "code",
   "execution_count": 19,
   "metadata": {},
   "outputs": [
    {
     "data": {
      "text/html": [
       "<div>\n",
       "<style scoped>\n",
       "    .dataframe tbody tr th:only-of-type {\n",
       "        vertical-align: middle;\n",
       "    }\n",
       "\n",
       "    .dataframe tbody tr th {\n",
       "        vertical-align: top;\n",
       "    }\n",
       "\n",
       "    .dataframe thead th {\n",
       "        text-align: right;\n",
       "    }\n",
       "</style>\n",
       "<table border=\"1\" class=\"dataframe\">\n",
       "  <thead>\n",
       "    <tr style=\"text-align: right;\">\n",
       "      <th></th>\n",
       "      <th>January 2019</th>\n",
       "      <th>February 2019</th>\n",
       "      <th>March 2019</th>\n",
       "      <th>April 2019</th>\n",
       "      <th>May 2019</th>\n",
       "      <th>June 2019</th>\n",
       "      <th>July 2019</th>\n",
       "      <th>August 2019</th>\n",
       "      <th>September 2019</th>\n",
       "      <th>October 2019</th>\n",
       "      <th>...</th>\n",
       "      <th>March 2020</th>\n",
       "      <th>April 2020</th>\n",
       "      <th>May 2020</th>\n",
       "      <th>June 2020</th>\n",
       "      <th>July 2020</th>\n",
       "      <th>August 2020</th>\n",
       "      <th>September 2020</th>\n",
       "      <th>October 2020</th>\n",
       "      <th>November 2020</th>\n",
       "      <th>December 2020</th>\n",
       "    </tr>\n",
       "  </thead>\n",
       "  <tbody>\n",
       "    <tr>\n",
       "      <th>0</th>\n",
       "      <td>1.0</td>\n",
       "      <td>1.0</td>\n",
       "      <td>1.0</td>\n",
       "      <td>1.0</td>\n",
       "      <td>1.0</td>\n",
       "      <td>1.0</td>\n",
       "      <td>1.0</td>\n",
       "      <td>2.0</td>\n",
       "      <td>1.0</td>\n",
       "      <td>1.0</td>\n",
       "      <td>...</td>\n",
       "      <td>1.0</td>\n",
       "      <td>2.0</td>\n",
       "      <td>1.0</td>\n",
       "      <td>2.0</td>\n",
       "      <td>1.0</td>\n",
       "      <td>1.0</td>\n",
       "      <td>1.0</td>\n",
       "      <td>1.0</td>\n",
       "      <td>1.0</td>\n",
       "      <td>2.0</td>\n",
       "    </tr>\n",
       "    <tr>\n",
       "      <th>1</th>\n",
       "      <td>1.0</td>\n",
       "      <td>1.0</td>\n",
       "      <td>1.0</td>\n",
       "      <td>1.0</td>\n",
       "      <td>0.0</td>\n",
       "      <td>2.0</td>\n",
       "      <td>1.0</td>\n",
       "      <td>2.0</td>\n",
       "      <td>0.0</td>\n",
       "      <td>1.0</td>\n",
       "      <td>...</td>\n",
       "      <td>2.0</td>\n",
       "      <td>1.0</td>\n",
       "      <td>1.0</td>\n",
       "      <td>0.0</td>\n",
       "      <td>2.0</td>\n",
       "      <td>1.0</td>\n",
       "      <td>1.0</td>\n",
       "      <td>2.0</td>\n",
       "      <td>2.0</td>\n",
       "      <td>1.0</td>\n",
       "    </tr>\n",
       "    <tr>\n",
       "      <th>2</th>\n",
       "      <td>1.0</td>\n",
       "      <td>1.0</td>\n",
       "      <td>1.0</td>\n",
       "      <td>1.0</td>\n",
       "      <td>1.0</td>\n",
       "      <td>2.0</td>\n",
       "      <td>1.0</td>\n",
       "      <td>1.0</td>\n",
       "      <td>0.0</td>\n",
       "      <td>1.0</td>\n",
       "      <td>...</td>\n",
       "      <td>1.0</td>\n",
       "      <td>1.0</td>\n",
       "      <td>2.0</td>\n",
       "      <td>2.0</td>\n",
       "      <td>0.0</td>\n",
       "      <td>0.0</td>\n",
       "      <td>1.0</td>\n",
       "      <td>1.0</td>\n",
       "      <td>2.0</td>\n",
       "      <td>2.0</td>\n",
       "    </tr>\n",
       "    <tr>\n",
       "      <th>3</th>\n",
       "      <td>1.0</td>\n",
       "      <td>2.0</td>\n",
       "      <td>2.0</td>\n",
       "      <td>1.0</td>\n",
       "      <td>1.0</td>\n",
       "      <td>1.0</td>\n",
       "      <td>1.0</td>\n",
       "      <td>1.0</td>\n",
       "      <td>1.0</td>\n",
       "      <td>1.0</td>\n",
       "      <td>...</td>\n",
       "      <td>1.0</td>\n",
       "      <td>1.0</td>\n",
       "      <td>1.0</td>\n",
       "      <td>0.0</td>\n",
       "      <td>1.0</td>\n",
       "      <td>1.0</td>\n",
       "      <td>2.0</td>\n",
       "      <td>1.0</td>\n",
       "      <td>1.0</td>\n",
       "      <td>0.0</td>\n",
       "    </tr>\n",
       "    <tr>\n",
       "      <th>4</th>\n",
       "      <td>1.0</td>\n",
       "      <td>1.0</td>\n",
       "      <td>1.0</td>\n",
       "      <td>1.0</td>\n",
       "      <td>1.0</td>\n",
       "      <td>1.0</td>\n",
       "      <td>1.0</td>\n",
       "      <td>2.0</td>\n",
       "      <td>1.0</td>\n",
       "      <td>1.0</td>\n",
       "      <td>...</td>\n",
       "      <td>1.0</td>\n",
       "      <td>1.0</td>\n",
       "      <td>1.0</td>\n",
       "      <td>2.0</td>\n",
       "      <td>1.0</td>\n",
       "      <td>0.0</td>\n",
       "      <td>0.0</td>\n",
       "      <td>1.0</td>\n",
       "      <td>1.0</td>\n",
       "      <td>1.0</td>\n",
       "    </tr>\n",
       "    <tr>\n",
       "      <th>...</th>\n",
       "      <td>...</td>\n",
       "      <td>...</td>\n",
       "      <td>...</td>\n",
       "      <td>...</td>\n",
       "      <td>...</td>\n",
       "      <td>...</td>\n",
       "      <td>...</td>\n",
       "      <td>...</td>\n",
       "      <td>...</td>\n",
       "      <td>...</td>\n",
       "      <td>...</td>\n",
       "      <td>...</td>\n",
       "      <td>...</td>\n",
       "      <td>...</td>\n",
       "      <td>...</td>\n",
       "      <td>...</td>\n",
       "      <td>...</td>\n",
       "      <td>...</td>\n",
       "      <td>...</td>\n",
       "      <td>...</td>\n",
       "      <td>...</td>\n",
       "    </tr>\n",
       "    <tr>\n",
       "      <th>2484757</th>\n",
       "      <td>NaN</td>\n",
       "      <td>NaN</td>\n",
       "      <td>NaN</td>\n",
       "      <td>NaN</td>\n",
       "      <td>NaN</td>\n",
       "      <td>NaN</td>\n",
       "      <td>NaN</td>\n",
       "      <td>NaN</td>\n",
       "      <td>NaN</td>\n",
       "      <td>NaN</td>\n",
       "      <td>...</td>\n",
       "      <td>NaN</td>\n",
       "      <td>NaN</td>\n",
       "      <td>NaN</td>\n",
       "      <td>NaN</td>\n",
       "      <td>NaN</td>\n",
       "      <td>NaN</td>\n",
       "      <td>2.0</td>\n",
       "      <td>NaN</td>\n",
       "      <td>NaN</td>\n",
       "      <td>NaN</td>\n",
       "    </tr>\n",
       "    <tr>\n",
       "      <th>2484758</th>\n",
       "      <td>NaN</td>\n",
       "      <td>NaN</td>\n",
       "      <td>NaN</td>\n",
       "      <td>NaN</td>\n",
       "      <td>NaN</td>\n",
       "      <td>NaN</td>\n",
       "      <td>NaN</td>\n",
       "      <td>NaN</td>\n",
       "      <td>NaN</td>\n",
       "      <td>NaN</td>\n",
       "      <td>...</td>\n",
       "      <td>NaN</td>\n",
       "      <td>NaN</td>\n",
       "      <td>NaN</td>\n",
       "      <td>NaN</td>\n",
       "      <td>NaN</td>\n",
       "      <td>NaN</td>\n",
       "      <td>0.0</td>\n",
       "      <td>NaN</td>\n",
       "      <td>NaN</td>\n",
       "      <td>NaN</td>\n",
       "    </tr>\n",
       "    <tr>\n",
       "      <th>2484759</th>\n",
       "      <td>NaN</td>\n",
       "      <td>NaN</td>\n",
       "      <td>NaN</td>\n",
       "      <td>NaN</td>\n",
       "      <td>NaN</td>\n",
       "      <td>NaN</td>\n",
       "      <td>NaN</td>\n",
       "      <td>NaN</td>\n",
       "      <td>NaN</td>\n",
       "      <td>NaN</td>\n",
       "      <td>...</td>\n",
       "      <td>NaN</td>\n",
       "      <td>NaN</td>\n",
       "      <td>NaN</td>\n",
       "      <td>NaN</td>\n",
       "      <td>NaN</td>\n",
       "      <td>NaN</td>\n",
       "      <td>1.0</td>\n",
       "      <td>NaN</td>\n",
       "      <td>NaN</td>\n",
       "      <td>NaN</td>\n",
       "    </tr>\n",
       "    <tr>\n",
       "      <th>2484760</th>\n",
       "      <td>NaN</td>\n",
       "      <td>NaN</td>\n",
       "      <td>NaN</td>\n",
       "      <td>NaN</td>\n",
       "      <td>NaN</td>\n",
       "      <td>NaN</td>\n",
       "      <td>NaN</td>\n",
       "      <td>NaN</td>\n",
       "      <td>NaN</td>\n",
       "      <td>NaN</td>\n",
       "      <td>...</td>\n",
       "      <td>NaN</td>\n",
       "      <td>NaN</td>\n",
       "      <td>NaN</td>\n",
       "      <td>NaN</td>\n",
       "      <td>NaN</td>\n",
       "      <td>NaN</td>\n",
       "      <td>1.0</td>\n",
       "      <td>NaN</td>\n",
       "      <td>NaN</td>\n",
       "      <td>NaN</td>\n",
       "    </tr>\n",
       "    <tr>\n",
       "      <th>2484761</th>\n",
       "      <td>NaN</td>\n",
       "      <td>NaN</td>\n",
       "      <td>NaN</td>\n",
       "      <td>NaN</td>\n",
       "      <td>NaN</td>\n",
       "      <td>NaN</td>\n",
       "      <td>NaN</td>\n",
       "      <td>NaN</td>\n",
       "      <td>NaN</td>\n",
       "      <td>NaN</td>\n",
       "      <td>...</td>\n",
       "      <td>NaN</td>\n",
       "      <td>NaN</td>\n",
       "      <td>NaN</td>\n",
       "      <td>NaN</td>\n",
       "      <td>NaN</td>\n",
       "      <td>NaN</td>\n",
       "      <td>1.0</td>\n",
       "      <td>NaN</td>\n",
       "      <td>NaN</td>\n",
       "      <td>NaN</td>\n",
       "    </tr>\n",
       "  </tbody>\n",
       "</table>\n",
       "<p>2484762 rows × 24 columns</p>\n",
       "</div>"
      ],
      "text/plain": [
       "         January 2019  February 2019  March 2019  April 2019  May 2019  \\\n",
       "0                 1.0            1.0         1.0         1.0       1.0   \n",
       "1                 1.0            1.0         1.0         1.0       0.0   \n",
       "2                 1.0            1.0         1.0         1.0       1.0   \n",
       "3                 1.0            2.0         2.0         1.0       1.0   \n",
       "4                 1.0            1.0         1.0         1.0       1.0   \n",
       "...               ...            ...         ...         ...       ...   \n",
       "2484757           NaN            NaN         NaN         NaN       NaN   \n",
       "2484758           NaN            NaN         NaN         NaN       NaN   \n",
       "2484759           NaN            NaN         NaN         NaN       NaN   \n",
       "2484760           NaN            NaN         NaN         NaN       NaN   \n",
       "2484761           NaN            NaN         NaN         NaN       NaN   \n",
       "\n",
       "         June 2019  July 2019  August 2019  September 2019  October 2019  ...  \\\n",
       "0              1.0        1.0          2.0             1.0           1.0  ...   \n",
       "1              2.0        1.0          2.0             0.0           1.0  ...   \n",
       "2              2.0        1.0          1.0             0.0           1.0  ...   \n",
       "3              1.0        1.0          1.0             1.0           1.0  ...   \n",
       "4              1.0        1.0          2.0             1.0           1.0  ...   \n",
       "...            ...        ...          ...             ...           ...  ...   \n",
       "2484757        NaN        NaN          NaN             NaN           NaN  ...   \n",
       "2484758        NaN        NaN          NaN             NaN           NaN  ...   \n",
       "2484759        NaN        NaN          NaN             NaN           NaN  ...   \n",
       "2484760        NaN        NaN          NaN             NaN           NaN  ...   \n",
       "2484761        NaN        NaN          NaN             NaN           NaN  ...   \n",
       "\n",
       "         March 2020  April 2020  May 2020  June 2020  July 2020  August 2020  \\\n",
       "0               1.0         2.0       1.0        2.0        1.0          1.0   \n",
       "1               2.0         1.0       1.0        0.0        2.0          1.0   \n",
       "2               1.0         1.0       2.0        2.0        0.0          0.0   \n",
       "3               1.0         1.0       1.0        0.0        1.0          1.0   \n",
       "4               1.0         1.0       1.0        2.0        1.0          0.0   \n",
       "...             ...         ...       ...        ...        ...          ...   \n",
       "2484757         NaN         NaN       NaN        NaN        NaN          NaN   \n",
       "2484758         NaN         NaN       NaN        NaN        NaN          NaN   \n",
       "2484759         NaN         NaN       NaN        NaN        NaN          NaN   \n",
       "2484760         NaN         NaN       NaN        NaN        NaN          NaN   \n",
       "2484761         NaN         NaN       NaN        NaN        NaN          NaN   \n",
       "\n",
       "         September 2020  October 2020  November 2020  December 2020  \n",
       "0                   1.0           1.0            1.0            2.0  \n",
       "1                   1.0           2.0            2.0            1.0  \n",
       "2                   1.0           1.0            2.0            2.0  \n",
       "3                   2.0           1.0            1.0            0.0  \n",
       "4                   0.0           1.0            1.0            1.0  \n",
       "...                 ...           ...            ...            ...  \n",
       "2484757             2.0           NaN            NaN            NaN  \n",
       "2484758             0.0           NaN            NaN            NaN  \n",
       "2484759             1.0           NaN            NaN            NaN  \n",
       "2484760             1.0           NaN            NaN            NaN  \n",
       "2484761             1.0           NaN            NaN            NaN  \n",
       "\n",
       "[2484762 rows x 24 columns]"
      ]
     },
     "execution_count": 19,
     "metadata": {},
     "output_type": "execute_result"
    }
   ],
   "source": [
    "Gender2019_2020 = pd.DataFrame(columns = months2y,index=range(most_monthly_rides))\n",
    "\n",
    "#fill the dataframe by pulling the gender columns from each month's data\n",
    "for indx, data in enumerate(data19_20):\n",
    "    Gender2019_2020[months2y[indx]] = data['gender']\n",
    "\n",
    "Gender2019_2020"
   ]
  },
  {
   "cell_type": "code",
   "execution_count": 20,
   "metadata": {},
   "outputs": [
    {
     "data": {
      "text/html": [
       "<div>\n",
       "<style scoped>\n",
       "    .dataframe tbody tr th:only-of-type {\n",
       "        vertical-align: middle;\n",
       "    }\n",
       "\n",
       "    .dataframe tbody tr th {\n",
       "        vertical-align: top;\n",
       "    }\n",
       "\n",
       "    .dataframe thead th {\n",
       "        text-align: right;\n",
       "    }\n",
       "</style>\n",
       "<table border=\"1\" class=\"dataframe\">\n",
       "  <thead>\n",
       "    <tr style=\"text-align: right;\">\n",
       "      <th></th>\n",
       "      <th>January 2019</th>\n",
       "      <th>February 2019</th>\n",
       "      <th>March 2019</th>\n",
       "      <th>April 2019</th>\n",
       "      <th>May 2019</th>\n",
       "      <th>June 2019</th>\n",
       "      <th>July 2019</th>\n",
       "      <th>August 2019</th>\n",
       "      <th>September 2019</th>\n",
       "      <th>October 2019</th>\n",
       "      <th>...</th>\n",
       "      <th>March 2020</th>\n",
       "      <th>April 2020</th>\n",
       "      <th>May 2020</th>\n",
       "      <th>June 2020</th>\n",
       "      <th>July 2020</th>\n",
       "      <th>August 2020</th>\n",
       "      <th>September 2020</th>\n",
       "      <th>October 2020</th>\n",
       "      <th>November 2020</th>\n",
       "      <th>December 2020</th>\n",
       "    </tr>\n",
       "  </thead>\n",
       "  <tbody>\n",
       "    <tr>\n",
       "      <th>0: Unknown</th>\n",
       "      <td>3.51</td>\n",
       "      <td>3.88</td>\n",
       "      <td>5.36</td>\n",
       "      <td>7.80</td>\n",
       "      <td>8.72</td>\n",
       "      <td>9.32</td>\n",
       "      <td>8.96</td>\n",
       "      <td>9.6</td>\n",
       "      <td>8.40</td>\n",
       "      <td>7.33</td>\n",
       "      <td>...</td>\n",
       "      <td>7.6</td>\n",
       "      <td>11.43</td>\n",
       "      <td>14.09</td>\n",
       "      <td>13.31</td>\n",
       "      <td>12.90</td>\n",
       "      <td>13.19</td>\n",
       "      <td>12.26</td>\n",
       "      <td>11.49</td>\n",
       "      <td>10.45</td>\n",
       "      <td>8.66</td>\n",
       "    </tr>\n",
       "    <tr>\n",
       "      <th>1: Male</th>\n",
       "      <td>75.18</td>\n",
       "      <td>74.56</td>\n",
       "      <td>72.51</td>\n",
       "      <td>69.02</td>\n",
       "      <td>67.24</td>\n",
       "      <td>65.85</td>\n",
       "      <td>66.09</td>\n",
       "      <td>65.3</td>\n",
       "      <td>65.95</td>\n",
       "      <td>68.16</td>\n",
       "      <td>...</td>\n",
       "      <td>67.7</td>\n",
       "      <td>60.47</td>\n",
       "      <td>54.95</td>\n",
       "      <td>55.53</td>\n",
       "      <td>57.01</td>\n",
       "      <td>57.15</td>\n",
       "      <td>57.73</td>\n",
       "      <td>59.39</td>\n",
       "      <td>60.93</td>\n",
       "      <td>64.65</td>\n",
       "    </tr>\n",
       "    <tr>\n",
       "      <th>2: Female</th>\n",
       "      <td>21.31</td>\n",
       "      <td>21.57</td>\n",
       "      <td>22.13</td>\n",
       "      <td>23.18</td>\n",
       "      <td>24.04</td>\n",
       "      <td>24.83</td>\n",
       "      <td>24.94</td>\n",
       "      <td>25.1</td>\n",
       "      <td>25.64</td>\n",
       "      <td>24.51</td>\n",
       "      <td>...</td>\n",
       "      <td>24.7</td>\n",
       "      <td>28.10</td>\n",
       "      <td>30.96</td>\n",
       "      <td>31.16</td>\n",
       "      <td>30.08</td>\n",
       "      <td>29.66</td>\n",
       "      <td>30.01</td>\n",
       "      <td>29.12</td>\n",
       "      <td>28.62</td>\n",
       "      <td>26.69</td>\n",
       "    </tr>\n",
       "  </tbody>\n",
       "</table>\n",
       "<p>3 rows × 24 columns</p>\n",
       "</div>"
      ],
      "text/plain": [
       "            January 2019  February 2019  March 2019  April 2019  May 2019  \\\n",
       "0: Unknown          3.51           3.88        5.36        7.80      8.72   \n",
       "1: Male            75.18          74.56       72.51       69.02     67.24   \n",
       "2: Female          21.31          21.57       22.13       23.18     24.04   \n",
       "\n",
       "            June 2019  July 2019  August 2019  September 2019  October 2019  \\\n",
       "0: Unknown       9.32       8.96          9.6            8.40          7.33   \n",
       "1: Male         65.85      66.09         65.3           65.95         68.16   \n",
       "2: Female       24.83      24.94         25.1           25.64         24.51   \n",
       "\n",
       "            ...  March 2020  April 2020  May 2020  June 2020  July 2020  \\\n",
       "0: Unknown  ...         7.6       11.43     14.09      13.31      12.90   \n",
       "1: Male     ...        67.7       60.47     54.95      55.53      57.01   \n",
       "2: Female   ...        24.7       28.10     30.96      31.16      30.08   \n",
       "\n",
       "            August 2020  September 2020  October 2020  November 2020  \\\n",
       "0: Unknown        13.19           12.26         11.49          10.45   \n",
       "1: Male           57.15           57.73         59.39          60.93   \n",
       "2: Female         29.66           30.01         29.12          28.62   \n",
       "\n",
       "            December 2020  \n",
       "0: Unknown           8.66  \n",
       "1: Male             64.65  \n",
       "2: Female           26.69  \n",
       "\n",
       "[3 rows x 24 columns]"
      ]
     },
     "execution_count": 20,
     "metadata": {},
     "output_type": "execute_result"
    }
   ],
   "source": [
    "genders = [0,1,2] \n",
    "indx = ['0: Unknown', '1: Male', '2: Female']\n",
    "gend_dist = distribution(Gender2019_2020, genders, indx)\n",
    "gend_dist"
   ]
  },
  {
   "cell_type": "code",
   "execution_count": 21,
   "metadata": {},
   "outputs": [
    {
     "data": {
      "image/png": "[encoded data removed]",
      "text/plain": [
       "<Figure size 1224x360 with 1 Axes>"
      ]
     },
     "metadata": {
      "needs_background": "light"
     },
     "output_type": "display_data"
    }
   ],
   "source": [
    "plot_rows(gend_dist, 'Gender Distribution','Month',short_months2y,'% of riders')"
   ]
  },
  {
   "cell_type": "markdown",
   "metadata": {},
   "source": [
    "Throughout 2019 and 2020, men were the largest group by gender each month. They ranged between 75.17% of riders in January 2019 and 54.92% of riders in May 2020. Both women and unknown saw an increase as a percent of overall riders between February and May of 2020. Women peaked in May of 2020 with 30.96% of riders and unknown peaked in May of 2020 with 14.13% of riders."
   ]
  },
  {
   "cell_type": "markdown",
   "metadata": {},
   "source": [
    "**1.4 Do subscribers or casual users take more rides? Has this shifted over time?**\n"
   ]
  },
  {
   "cell_type": "code",
   "execution_count": 22,
   "metadata": {},
   "outputs": [],
   "source": [
    "# Create a dataframe of null values with each row being a ride and each column being a month between 2019 and 2020. \n",
    "Subtype2019_2020 = pd.DataFrame(columns = months2y, index=range(most_monthly_rides))\n",
    "\n",
    "#fill the dataframe by pulling the customer type columns from each month's data\n",
    "for indx, data in enumerate(data19_20):\n",
    "    Subtype2019_2020[months2y[indx]] = data['usertype']"
   ]
  },
  {
   "cell_type": "code",
   "execution_count": 23,
   "metadata": {},
   "outputs": [
    {
     "data": {
      "text/html": [
       "<div>\n",
       "<style scoped>\n",
       "    .dataframe tbody tr th:only-of-type {\n",
       "        vertical-align: middle;\n",
       "    }\n",
       "\n",
       "    .dataframe tbody tr th {\n",
       "        vertical-align: top;\n",
       "    }\n",
       "\n",
       "    .dataframe thead th {\n",
       "        text-align: right;\n",
       "    }\n",
       "</style>\n",
       "<table border=\"1\" class=\"dataframe\">\n",
       "  <thead>\n",
       "    <tr style=\"text-align: right;\">\n",
       "      <th></th>\n",
       "      <th>January 2019</th>\n",
       "      <th>February 2019</th>\n",
       "      <th>March 2019</th>\n",
       "      <th>April 2019</th>\n",
       "      <th>May 2019</th>\n",
       "      <th>June 2019</th>\n",
       "      <th>July 2019</th>\n",
       "      <th>August 2019</th>\n",
       "      <th>September 2019</th>\n",
       "      <th>October 2019</th>\n",
       "      <th>...</th>\n",
       "      <th>March 2020</th>\n",
       "      <th>April 2020</th>\n",
       "      <th>May 2020</th>\n",
       "      <th>June 2020</th>\n",
       "      <th>July 2020</th>\n",
       "      <th>August 2020</th>\n",
       "      <th>September 2020</th>\n",
       "      <th>October 2020</th>\n",
       "      <th>November 2020</th>\n",
       "      <th>December 2020</th>\n",
       "    </tr>\n",
       "  </thead>\n",
       "  <tbody>\n",
       "    <tr>\n",
       "      <th>Subscriber</th>\n",
       "      <td>95.86</td>\n",
       "      <td>95.11</td>\n",
       "      <td>92.0</td>\n",
       "      <td>87.04</td>\n",
       "      <td>84.72</td>\n",
       "      <td>82.49</td>\n",
       "      <td>82.69</td>\n",
       "      <td>81.09</td>\n",
       "      <td>82.25</td>\n",
       "      <td>85.89</td>\n",
       "      <td>...</td>\n",
       "      <td>85.59</td>\n",
       "      <td>75.7</td>\n",
       "      <td>68.06</td>\n",
       "      <td>69.48</td>\n",
       "      <td>72.75</td>\n",
       "      <td>71.8</td>\n",
       "      <td>73.08</td>\n",
       "      <td>75.72</td>\n",
       "      <td>78.48</td>\n",
       "      <td>84.57</td>\n",
       "    </tr>\n",
       "    <tr>\n",
       "      <th>Customer</th>\n",
       "      <td>4.14</td>\n",
       "      <td>4.89</td>\n",
       "      <td>8.0</td>\n",
       "      <td>12.96</td>\n",
       "      <td>15.28</td>\n",
       "      <td>17.51</td>\n",
       "      <td>17.31</td>\n",
       "      <td>18.91</td>\n",
       "      <td>17.75</td>\n",
       "      <td>14.11</td>\n",
       "      <td>...</td>\n",
       "      <td>14.41</td>\n",
       "      <td>24.3</td>\n",
       "      <td>31.94</td>\n",
       "      <td>30.52</td>\n",
       "      <td>27.25</td>\n",
       "      <td>28.2</td>\n",
       "      <td>26.92</td>\n",
       "      <td>24.28</td>\n",
       "      <td>21.52</td>\n",
       "      <td>15.43</td>\n",
       "    </tr>\n",
       "  </tbody>\n",
       "</table>\n",
       "<p>2 rows × 24 columns</p>\n",
       "</div>"
      ],
      "text/plain": [
       "            January 2019  February 2019  March 2019  April 2019  May 2019  \\\n",
       "Subscriber         95.86          95.11        92.0       87.04     84.72   \n",
       "Customer            4.14           4.89         8.0       12.96     15.28   \n",
       "\n",
       "            June 2019  July 2019  August 2019  September 2019  October 2019  \\\n",
       "Subscriber      82.49      82.69        81.09           82.25         85.89   \n",
       "Customer        17.51      17.31        18.91           17.75         14.11   \n",
       "\n",
       "            ...  March 2020  April 2020  May 2020  June 2020  July 2020  \\\n",
       "Subscriber  ...       85.59        75.7     68.06      69.48      72.75   \n",
       "Customer    ...       14.41        24.3     31.94      30.52      27.25   \n",
       "\n",
       "            August 2020  September 2020  October 2020  November 2020  \\\n",
       "Subscriber         71.8           73.08         75.72          78.48   \n",
       "Customer           28.2           26.92         24.28          21.52   \n",
       "\n",
       "            December 2020  \n",
       "Subscriber          84.57  \n",
       "Customer            15.43  \n",
       "\n",
       "[2 rows x 24 columns]"
      ]
     },
     "execution_count": 23,
     "metadata": {},
     "output_type": "execute_result"
    }
   ],
   "source": [
    "#Create a dataframe of customer types as a percent of monthly customers\n",
    "cust_type = ['Subscriber','Customer']\n",
    "Cust_dist = distribution(Subtype2019_2020, cust_type,cust_type)\n",
    "Cust_dist"
   ]
  },
  {
   "cell_type": "code",
   "execution_count": 24,
   "metadata": {},
   "outputs": [
    {
     "data": {
      "image/png": "[encoded data removed]",
      "text/plain": [
       "<Figure size 1224x360 with 1 Axes>"
      ]
     },
     "metadata": {
      "needs_background": "light"
     },
     "output_type": "display_data"
    }
   ],
   "source": [
    "plot_rows(Cust_dist ,'Distribution of Customer Types','Month',short_months2y,'% of riders')"
   ]
  },
  {
   "cell_type": "markdown",
   "metadata": {},
   "source": [
    "We can see that we have far more Subscribers than we do casual users. Between March and May of 2020, the number of rides taken by Subscribers fell precipitously while the number of rides taken by casual users climbed. One possible explanation for this observation is that many subscribers pre-pandemic used citibike to commute to work. As remote working became the norm during the first few months of the pandemic, the commuting subscribers no longer used citibike as regularly."
   ]
  },
  {
   "cell_type": "markdown",
   "metadata": {},
   "source": [
    "**1.5 What are the demographics of our subscribers as compared to those of our casual users?**"
   ]
  },
  {
   "cell_type": "markdown",
   "metadata": {},
   "source": [
    "About 45% of casual riders have their gender listed as unknown as compared to less than 2% for subscribers. To compensate for this, we filtered out unknown values (gender = 0). Note that this type of data capturing deficiency also supports the theory around birth year for casual riders. For casual riders, the gender and birth year fields are missing or likely inaccurate."
   ]
  },
  {
   "cell_type": "code",
   "execution_count": 25,
   "metadata": {},
   "outputs": [],
   "source": [
    "sub_gender = pd.DataFrame(columns = months2y,index=range(most_monthly_rides))\n",
    "cus_gender = pd.DataFrame(columns = months2y,index=range(most_monthly_rides))\n",
    "\n",
    "#fill the dataframes by pulling the gender columns from each month's data\n",
    "for indx, data in enumerate(data19_20):\n",
    "    sub_gender[months2y[indx]] = data.loc[(data['usertype'] == 'Subscriber') & (data['gender'] != 0), 'gender']\n",
    "    cus_gender[months2y[indx]] = data.loc[(data['usertype'] == 'Customer') & (data['gender'] != 0),'gender']"
   ]
  },
  {
   "cell_type": "code",
   "execution_count": 26,
   "metadata": {},
   "outputs": [],
   "source": [
    "genders = [1,2] \n",
    "indx = ['1: Male', '2: Female']\n",
    "sub_gen = distribution(sub_gender, genders, indx)\n",
    "cus_gen = distribution(cus_gender, genders, indx)"
   ]
  },
  {
   "cell_type": "code",
   "execution_count": 27,
   "metadata": {},
   "outputs": [
    {
     "data": {
      "text/html": [
       "<div>\n",
       "<style scoped>\n",
       "    .dataframe tbody tr th:only-of-type {\n",
       "        vertical-align: middle;\n",
       "    }\n",
       "\n",
       "    .dataframe tbody tr th {\n",
       "        vertical-align: top;\n",
       "    }\n",
       "\n",
       "    .dataframe thead th {\n",
       "        text-align: right;\n",
       "    }\n",
       "</style>\n",
       "<table border=\"1\" class=\"dataframe\">\n",
       "  <thead>\n",
       "    <tr style=\"text-align: right;\">\n",
       "      <th></th>\n",
       "      <th>January 2019</th>\n",
       "      <th>February 2019</th>\n",
       "      <th>March 2019</th>\n",
       "      <th>April 2019</th>\n",
       "      <th>May 2019</th>\n",
       "      <th>June 2019</th>\n",
       "      <th>July 2019</th>\n",
       "      <th>August 2019</th>\n",
       "      <th>September 2019</th>\n",
       "      <th>October 2019</th>\n",
       "      <th>...</th>\n",
       "      <th>March 2020</th>\n",
       "      <th>April 2020</th>\n",
       "      <th>May 2020</th>\n",
       "      <th>June 2020</th>\n",
       "      <th>July 2020</th>\n",
       "      <th>August 2020</th>\n",
       "      <th>September 2020</th>\n",
       "      <th>October 2020</th>\n",
       "      <th>November 2020</th>\n",
       "      <th>December 2020</th>\n",
       "    </tr>\n",
       "  </thead>\n",
       "  <tbody>\n",
       "    <tr>\n",
       "      <th>1: Male</th>\n",
       "      <td>77.99</td>\n",
       "      <td>77.7</td>\n",
       "      <td>77.09</td>\n",
       "      <td>75.72</td>\n",
       "      <td>74.74</td>\n",
       "      <td>73.8</td>\n",
       "      <td>73.75</td>\n",
       "      <td>73.55</td>\n",
       "      <td>73.24</td>\n",
       "      <td>74.36</td>\n",
       "      <td>...</td>\n",
       "      <td>74.29</td>\n",
       "      <td>70.0</td>\n",
       "      <td>66.53</td>\n",
       "      <td>66.29</td>\n",
       "      <td>67.09</td>\n",
       "      <td>67.45</td>\n",
       "      <td>67.28</td>\n",
       "      <td>68.16</td>\n",
       "      <td>68.86</td>\n",
       "      <td>71.1</td>\n",
       "    </tr>\n",
       "    <tr>\n",
       "      <th>2: Female</th>\n",
       "      <td>22.01</td>\n",
       "      <td>22.3</td>\n",
       "      <td>22.91</td>\n",
       "      <td>24.28</td>\n",
       "      <td>25.26</td>\n",
       "      <td>26.2</td>\n",
       "      <td>26.25</td>\n",
       "      <td>26.45</td>\n",
       "      <td>26.76</td>\n",
       "      <td>25.64</td>\n",
       "      <td>...</td>\n",
       "      <td>25.71</td>\n",
       "      <td>30.0</td>\n",
       "      <td>33.47</td>\n",
       "      <td>33.71</td>\n",
       "      <td>32.91</td>\n",
       "      <td>32.55</td>\n",
       "      <td>32.72</td>\n",
       "      <td>31.84</td>\n",
       "      <td>31.14</td>\n",
       "      <td>28.9</td>\n",
       "    </tr>\n",
       "  </tbody>\n",
       "</table>\n",
       "<p>2 rows × 24 columns</p>\n",
       "</div>"
      ],
      "text/plain": [
       "           January 2019  February 2019  March 2019  April 2019  May 2019  \\\n",
       "1: Male           77.99           77.7       77.09       75.72     74.74   \n",
       "2: Female         22.01           22.3       22.91       24.28     25.26   \n",
       "\n",
       "           June 2019  July 2019  August 2019  September 2019  October 2019  \\\n",
       "1: Male         73.8      73.75        73.55           73.24         74.36   \n",
       "2: Female       26.2      26.25        26.45           26.76         25.64   \n",
       "\n",
       "           ...  March 2020  April 2020  May 2020  June 2020  July 2020  \\\n",
       "1: Male    ...       74.29        70.0     66.53      66.29      67.09   \n",
       "2: Female  ...       25.71        30.0     33.47      33.71      32.91   \n",
       "\n",
       "           August 2020  September 2020  October 2020  November 2020  \\\n",
       "1: Male          67.45           67.28         68.16          68.86   \n",
       "2: Female        32.55           32.72         31.84          31.14   \n",
       "\n",
       "           December 2020  \n",
       "1: Male             71.1  \n",
       "2: Female           28.9  \n",
       "\n",
       "[2 rows x 24 columns]"
      ]
     },
     "execution_count": 27,
     "metadata": {},
     "output_type": "execute_result"
    }
   ],
   "source": [
    "sub_gen"
   ]
  },
  {
   "cell_type": "code",
   "execution_count": 28,
   "metadata": {},
   "outputs": [
    {
     "data": {
      "text/html": [
       "<div>\n",
       "<style scoped>\n",
       "    .dataframe tbody tr th:only-of-type {\n",
       "        vertical-align: middle;\n",
       "    }\n",
       "\n",
       "    .dataframe tbody tr th {\n",
       "        vertical-align: top;\n",
       "    }\n",
       "\n",
       "    .dataframe thead th {\n",
       "        text-align: right;\n",
       "    }\n",
       "</style>\n",
       "<table border=\"1\" class=\"dataframe\">\n",
       "  <thead>\n",
       "    <tr style=\"text-align: right;\">\n",
       "      <th></th>\n",
       "      <th>January 2019</th>\n",
       "      <th>February 2019</th>\n",
       "      <th>March 2019</th>\n",
       "      <th>April 2019</th>\n",
       "      <th>May 2019</th>\n",
       "      <th>June 2019</th>\n",
       "      <th>July 2019</th>\n",
       "      <th>August 2019</th>\n",
       "      <th>September 2019</th>\n",
       "      <th>October 2019</th>\n",
       "      <th>...</th>\n",
       "      <th>March 2020</th>\n",
       "      <th>April 2020</th>\n",
       "      <th>May 2020</th>\n",
       "      <th>June 2020</th>\n",
       "      <th>July 2020</th>\n",
       "      <th>August 2020</th>\n",
       "      <th>September 2020</th>\n",
       "      <th>October 2020</th>\n",
       "      <th>November 2020</th>\n",
       "      <th>December 2020</th>\n",
       "    </tr>\n",
       "  </thead>\n",
       "  <tbody>\n",
       "    <tr>\n",
       "      <th>1: Male</th>\n",
       "      <td>74.69</td>\n",
       "      <td>73.09</td>\n",
       "      <td>66.91</td>\n",
       "      <td>63.99</td>\n",
       "      <td>62.63</td>\n",
       "      <td>62.71</td>\n",
       "      <td>63.08</td>\n",
       "      <td>62.49</td>\n",
       "      <td>62.72</td>\n",
       "      <td>65.32</td>\n",
       "      <td>...</td>\n",
       "      <td>62.97</td>\n",
       "      <td>59.2</td>\n",
       "      <td>54.92</td>\n",
       "      <td>55.79</td>\n",
       "      <td>58.02</td>\n",
       "      <td>58.85</td>\n",
       "      <td>59.17</td>\n",
       "      <td>61.56</td>\n",
       "      <td>62.98</td>\n",
       "      <td>67.56</td>\n",
       "    </tr>\n",
       "    <tr>\n",
       "      <th>2: Female</th>\n",
       "      <td>25.31</td>\n",
       "      <td>26.91</td>\n",
       "      <td>33.09</td>\n",
       "      <td>36.01</td>\n",
       "      <td>37.37</td>\n",
       "      <td>37.29</td>\n",
       "      <td>36.92</td>\n",
       "      <td>37.51</td>\n",
       "      <td>37.28</td>\n",
       "      <td>34.68</td>\n",
       "      <td>...</td>\n",
       "      <td>37.03</td>\n",
       "      <td>40.8</td>\n",
       "      <td>45.08</td>\n",
       "      <td>44.21</td>\n",
       "      <td>41.98</td>\n",
       "      <td>41.15</td>\n",
       "      <td>40.83</td>\n",
       "      <td>38.44</td>\n",
       "      <td>37.02</td>\n",
       "      <td>32.44</td>\n",
       "    </tr>\n",
       "  </tbody>\n",
       "</table>\n",
       "<p>2 rows × 24 columns</p>\n",
       "</div>"
      ],
      "text/plain": [
       "           January 2019  February 2019  March 2019  April 2019  May 2019  \\\n",
       "1: Male           74.69          73.09       66.91       63.99     62.63   \n",
       "2: Female         25.31          26.91       33.09       36.01     37.37   \n",
       "\n",
       "           June 2019  July 2019  August 2019  September 2019  October 2019  \\\n",
       "1: Male        62.71      63.08        62.49           62.72         65.32   \n",
       "2: Female      37.29      36.92        37.51           37.28         34.68   \n",
       "\n",
       "           ...  March 2020  April 2020  May 2020  June 2020  July 2020  \\\n",
       "1: Male    ...       62.97        59.2     54.92      55.79      58.02   \n",
       "2: Female  ...       37.03        40.8     45.08      44.21      41.98   \n",
       "\n",
       "           August 2020  September 2020  October 2020  November 2020  \\\n",
       "1: Male          58.85           59.17         61.56          62.98   \n",
       "2: Female        41.15           40.83         38.44          37.02   \n",
       "\n",
       "           December 2020  \n",
       "1: Male            67.56  \n",
       "2: Female          32.44  \n",
       "\n",
       "[2 rows x 24 columns]"
      ]
     },
     "execution_count": 28,
     "metadata": {},
     "output_type": "execute_result"
    }
   ],
   "source": [
    "cus_gen"
   ]
  },
  {
   "cell_type": "code",
   "execution_count": 29,
   "metadata": {},
   "outputs": [
    {
     "data": {
      "image/png": "[encoded data removed]",
      "text/plain": [
       "<Figure size 1440x360 with 1 Axes>"
      ]
     },
     "metadata": {
      "needs_background": "light"
     },
     "output_type": "display_data"
    }
   ],
   "source": [
    "plt.figure(figsize=(20,5))\n",
    "plt.xlabel('Month')\n",
    "plt.ylabel('% of Riders')\n",
    "plt.title('Men as % of Customers')\n",
    "plt.plot(cus_gen.iloc[0,:].values, label = 'Casual Riders')\n",
    "plt.plot(sub_gen.iloc[0,:].values, label = 'Subscribers')\n",
    "plt.xticks(range(24), short_months2y)\n",
    "plt.legend()\n",
    "plt.show()"
   ]
  },
  {
   "cell_type": "code",
   "execution_count": 30,
   "metadata": {},
   "outputs": [
    {
     "data": {
      "image/png": "[encoded data removed]",
      "text/plain": [
       "<Figure size 1440x360 with 1 Axes>"
      ]
     },
     "metadata": {
      "needs_background": "light"
     },
     "output_type": "display_data"
    }
   ],
   "source": [
    "plt.figure(figsize=(20,5))\n",
    "plt.xlabel('Month')\n",
    "plt.ylabel('% of Riders')\n",
    "plt.title('Women as % of Customers')\n",
    "plt.plot(cus_gen.iloc[1,:].values, label = 'Casual Riders')\n",
    "plt.plot(sub_gen.iloc[1,:].values, label = 'Subscribers')\n",
    "plt.xticks(range(24), short_months2y)\n",
    "plt.legend()\n",
    "plt.show()"
   ]
  },
  {
   "cell_type": "code",
   "execution_count": 31,
   "metadata": {},
   "outputs": [],
   "source": [
    "sub_age = pd.DataFrame(columns = months2y,index=range(most_monthly_rides))\n",
    "cus_age = pd.DataFrame(columns = months2y,index=range(most_monthly_rides))\n",
    "\n",
    "#fill the dataframes by pulling the age columns from each month's data\n",
    "for indx, data in enumerate(data19_20):\n",
    "    sub_age[months2y[indx]] = data.loc[(data['usertype'] == 'Subscriber'), 'age']\n",
    "    cus_age[months2y[indx]] = data.loc[(data['usertype'] == 'Customer'),'age']"
   ]
  },
  {
   "cell_type": "code",
   "execution_count": 32,
   "metadata": {
    "scrolled": true
   },
   "outputs": [],
   "source": [
    "# Set start age, end age and the increment you want. \n",
    "start = 15\n",
    "end = 85\n",
    "inc = 10\n",
    "\n",
    "# Create a blank dataframe to fill with distribution of ages.\n",
    "Subage = pd.DataFrame(index = ['%s-%s' % (age, age+inc) for age in range(start, end, inc)])\n",
    "\n",
    "data = sub_age\n",
    "\n",
    "for x in data.columns:\n",
    "    # Create an empty list to fill with the distribution of ages for month x\n",
    "    month_data = []\n",
    "    for age in range(start, end, inc):\n",
    "        month_data.append(len(data[(data[x] >= age) & (data[x] < age + inc)])/len(data[data[x].notna()]))\n",
    "    Subage[x] = month_data\n",
    "    \n",
    "Subage = Subage*100"
   ]
  },
  {
   "cell_type": "code",
   "execution_count": 33,
   "metadata": {},
   "outputs": [],
   "source": [
    "# Create a blank dataframe to fill with distribution of ages.\n",
    "Cusage = pd.DataFrame(index = ['%s-%s' % (age, age+inc) for age in range(start, end, inc)])\n",
    "\n",
    "data = cus_age\n",
    "\n",
    "for x in data.columns:\n",
    "    # Create an empty list to fill with the distribution of ages for month x\n",
    "    month_data = []\n",
    "    for age in range(start, end, inc):\n",
    "        month_data.append(len(data[(data[x] >= age) & (data[x] < age + inc)])/len(data[data[x].notna()]))\n",
    "    Cusage[x] = month_data\n",
    "    \n",
    "Cusage = Cusage*100"
   ]
  },
  {
   "cell_type": "code",
   "execution_count": 34,
   "metadata": {},
   "outputs": [
    {
     "data": {
      "image/png": "[encoded data removed]",
      "text/plain": [
       "<Figure size 720x360 with 1 Axes>"
      ]
     },
     "metadata": {
      "needs_background": "light"
     },
     "output_type": "display_data"
    }
   ],
   "source": [
    "sub_means = list(Subage.mean(axis=1).values)\n",
    "cus_means = list(Cusage.mean(axis=1).values)\n",
    "\n",
    "labels= ['%s-%s' % (age, age+inc-1) for age in range(start, end, inc)]\n",
    "plt.figure(figsize =(10,5))\n",
    "x1 = [1,2,3,4,5,6,7]\n",
    "x2 = [.7,1.7,2.7,3.7,4.7,5.7,6.7]\n",
    "ax = plt.subplot()\n",
    "ax.bar(x1,sub_means, width=0.3, color='orange',align ='center', label='Subscribers')\n",
    "ax.bar(x2, cus_means, width=0.3, color ='b', align='center',label='Casual riders')\n",
    "ax.set_ylabel('% of riders')\n",
    "ax.set_title('Distribution of Customer Type by Age')\n",
    "plt.xticks(x1, labels)\n",
    "plt.legend()\n",
    "plt.show()"
   ]
  },
  {
   "cell_type": "markdown",
   "metadata": {},
   "source": [
    "Gender:\n",
    "There seems to be a skew towards men being subscribers. They consistently account for a larger chunk of the subscriber rides than they do casual rides. Women seem to be the opposite, consistently accounting for a larger chunk of the casual rides as compared to subscriber rides. Both casual and subscription rides followed a similar pattern in seeing fewer female riders around January. This was true for both 2019 and 2020.\n",
    "\n",
    "Age:\n",
    "It seems that the proportion of subscription rides decreases steadily from the 25-34 age group onward, and casual rides increase in frequency up until the 45-54 age group. \n",
    "Notably, subscriber rides outnumber customer rides in every age group apart from 15-24 and 45-54. This observation is consistent with a previous observation that the birth year of 1969 accounts for at least 40% of all customer rides across all 24 months. This graph also supports the theory that riders aged 15-19 are less likely to be subscribers than riders in other age groups. \n"
   ]
  },
  {
   "cell_type": "markdown",
   "metadata": {},
   "source": [
    "<h2>Section 2: How are Citibike's being used?</h2>"
   ]
  },
  {
   "cell_type": "markdown",
   "metadata": {},
   "source": [
    "**2.1 Has the overall number of trips changed over time?**"
   ]
  },
  {
   "cell_type": "code",
   "execution_count": 35,
   "metadata": {},
   "outputs": [],
   "source": [
    "trips_per_month =[]\n",
    "for data in data19_20:\n",
    "    trips_per_month.append(data.shape[0])"
   ]
  },
  {
   "cell_type": "code",
   "execution_count": 36,
   "metadata": {},
   "outputs": [
    {
     "data": {
      "image/png": "[encoded data removed]",
      "text/plain": [
       "<Figure size 1296x360 with 1 Axes>"
      ]
     },
     "metadata": {
      "needs_background": "light"
     },
     "output_type": "display_data"
    }
   ],
   "source": [
    "plt.figure(figsize=(18,5))\n",
    "plt.title(\"Numbers of Trips per Month\")\n",
    "plt.ylabel('Trips')\n",
    "plt.xlabel('Month')\n",
    "plt.xticks(range(24),short_months2y)\n",
    "plt.plot(trips_per_month, marker='o')\n",
    "plt.show()"
   ]
  },
  {
   "cell_type": "markdown",
   "metadata": {},
   "source": [
    "Despite the confounding factor of the pandemic, the line graph suggests a seasonality to volume of rides with a decrease in trips during colder month and a gradual increase with warmer weather. "
   ]
  },
  {
   "cell_type": "code",
   "execution_count": 37,
   "metadata": {},
   "outputs": [
    {
     "data": {
      "image/png": "[encoded data removed]",
      "text/plain": [
       "<Figure size 936x360 with 1 Axes>"
      ]
     },
     "metadata": {
      "needs_background": "light"
     },
     "output_type": "display_data"
    }
   ],
   "source": [
    "plt.figure(figsize=(13,5))\n",
    "plt.title(\"Numbers of Trips per Month\")\n",
    "plt.ylabel('Trips')\n",
    "plt.xlabel('Month')\n",
    "plt.xticks(range(12),months)\n",
    "plt.plot(trips_per_month[:12], marker='o', label='2019')\n",
    "plt.plot(trips_per_month[12:], marker='o', label='2020')\n",
    "plt.legend()\n",
    "plt.show()"
   ]
  },
  {
   "cell_type": "markdown",
   "metadata": {},
   "source": [
    "The number of trips taken between March and July 2020 was below 2019 levels but by August 2020 the number of rides had caught up. The number of rides then went on to surpass 2019 levels for the rest of the year. "
   ]
  },
  {
   "cell_type": "markdown",
   "metadata": {},
   "source": [
    "**2.2 What are the most popular stations?**"
   ]
  },
  {
   "cell_type": "code",
   "execution_count": 38,
   "metadata": {},
   "outputs": [
    {
     "name": "stdout",
     "output_type": "stream",
     "text": [
      "January 2019\n",
      "Pershing Square North    8871\n",
      "W 21 St & 6 Ave          6538\n",
      "Name: start station name, dtype: int64\n",
      "\n",
      "\n",
      "February 2019\n",
      "Pershing Square North    8082\n",
      "W 21 St & 6 Ave          6298\n",
      "Name: start station name, dtype: int64\n",
      "\n",
      "\n",
      "March 2019\n",
      "Pershing Square North    10887\n",
      "8 Ave & W 31 St           8565\n",
      "Name: start station name, dtype: int64\n",
      "\n",
      "\n",
      "April 2019\n",
      "Pershing Square North    13620\n",
      "Broadway & E 22 St       10690\n",
      "Name: start station name, dtype: int64\n",
      "\n",
      "\n",
      "May 2019\n",
      "Pershing Square North    14715\n",
      "Broadway & E 14 St       12468\n",
      "Name: start station name, dtype: int64\n",
      "\n",
      "\n",
      "June 2019\n",
      "Pershing Square North    14773\n",
      "12 Ave & W 40 St         13504\n",
      "Name: start station name, dtype: int64\n",
      "\n",
      "\n",
      "July 2019\n",
      "Pershing Square North    16343\n",
      "12 Ave & W 40 St         12965\n",
      "Name: start station name, dtype: int64\n",
      "\n",
      "\n",
      "August 2019\n",
      "Pershing Square North    16562\n",
      "E 17 St & Broadway       14330\n",
      "Name: start station name, dtype: int64\n",
      "\n",
      "\n",
      "September 2019\n",
      "Pershing Square North    16964\n",
      "Broadway & E 14 St       15116\n",
      "Name: start station name, dtype: int64\n",
      "\n",
      "\n",
      "October 2019\n",
      "Pershing Square North    16421\n",
      "8 Ave & W 31 St          12834\n",
      "Name: start station name, dtype: int64\n",
      "\n",
      "\n",
      "November 2019\n",
      "Pershing Square North    11732\n",
      "W 21 St & 6 Ave           9249\n",
      "Name: start station name, dtype: int64\n",
      "\n",
      "\n",
      "December 2019\n",
      "Pershing Square North    7561\n",
      "W 21 St & 6 Ave          6421\n",
      "Name: start station name, dtype: int64\n",
      "\n",
      "\n",
      "January 2020\n",
      "Pershing Square North    10728\n",
      "8 Ave & W 31 St           7847\n",
      "Name: start station name, dtype: int64\n",
      "\n",
      "\n",
      "February 2020\n",
      "Pershing Square North    9393\n",
      "W 21 St & 6 Ave          7137\n",
      "Name: start station name, dtype: int64\n",
      "\n",
      "\n",
      "March 2020\n",
      "Pershing Square North    6675\n",
      "W 21 St & 6 Ave          6037\n",
      "Name: start station name, dtype: int64\n",
      "\n",
      "\n",
      "April 2020\n",
      "1 Ave & E 68 St          4477\n",
      "West St & Chambers St    4367\n",
      "Name: start station name, dtype: int64\n",
      "\n",
      "\n",
      "May 2020\n",
      "12 Ave & W 40 St         10099\n",
      "West St & Chambers St     9478\n",
      "Name: start station name, dtype: int64\n",
      "\n",
      "\n",
      "June 2020\n",
      "12 Ave & W 40 St    12232\n",
      "1 Ave & E 68 St     10946\n",
      "Name: start station name, dtype: int64\n",
      "\n",
      "\n",
      "July 2020\n",
      "12 Ave & W 40 St         12651\n",
      "West St & Chambers St    12129\n",
      "Name: start station name, dtype: int64\n",
      "\n",
      "\n",
      "August 2020\n",
      "12 Ave & W 40 St         14353\n",
      "West St & Chambers St    13409\n",
      "Name: start station name, dtype: int64\n",
      "\n",
      "\n",
      "September 2020\n",
      "W 21 St & 6 Ave          13852\n",
      "West St & Chambers St    13211\n",
      "Name: start station name, dtype: int64\n",
      "\n",
      "\n",
      "October 2020\n",
      "1 Ave & E 68 St    12154\n",
      "W 21 St & 6 Ave    12034\n",
      "Name: start station name, dtype: int64\n",
      "\n",
      "\n",
      "November 2020\n",
      "1 Ave & E 68 St    9649\n",
      "W 21 St & 6 Ave    8883\n",
      "Name: start station name, dtype: int64\n",
      "\n",
      "\n",
      "December 2020\n",
      "1 Ave & E 68 St    7203\n",
      "W 21 St & 6 Ave    6239\n",
      "Name: start station name, dtype: int64\n",
      "\n",
      "\n"
     ]
    }
   ],
   "source": [
    "#we are interested in the top stations every month during the course of 2019 and 2020 - has there been a change?\n",
    "for index, data in enumerate(data19_20):\n",
    "    print(months2y[index])\n",
    "    print(data['start station name'].value_counts().head(2))\n",
    "    print('\\n')"
   ]
  },
  {
   "cell_type": "markdown",
   "metadata": {},
   "source": [
    "From the output here we see that the to two stations in 2019 are not all that interesting - \n",
    "Pershing Square North holds the top spot every month, the second most popular changes monthly.\n",
    "\n",
    "In April 2020 with the beginning of Covid, 1 Ave & E 68 St and then 12 Ave & W 40 St become our most popular stations.\n",
    "We will further investigate this interesting shift."
   ]
  },
  {
   "cell_type": "markdown",
   "metadata": {},
   "source": [
    "**2.3 How much is each bike being used each month?**"
   ]
  },
  {
   "cell_type": "code",
   "execution_count": 39,
   "metadata": {},
   "outputs": [
    {
     "name": "stdout",
     "output_type": "stream",
     "text": [
      "The total time the program took to run was 32.547 seconds\n"
     ]
    }
   ],
   "source": [
    "# First version: inefficient method for counting rides\n",
    "starttime1 = time.time()\n",
    "\n",
    "avg_rides = []\n",
    "for data in data19_20:\n",
    "    num_bikes = len(data['bikeid'].unique())\n",
    "    num_rides = len(data.dropna().values)\n",
    "    avg_rides.append(round(num_rides/num_bikes,2))\n",
    "\n",
    "rides = pd.DataFrame({'2019': avg_rides[:12],'2020': avg_rides[12:]},index = months)\n",
    "\n",
    "endtime1 = time.time()\n",
    "totaltime1 = endtime1 - starttime1\n",
    "print('The total time the program took to run was',round(totaltime1,3),'seconds')"
   ]
  },
  {
   "cell_type": "code",
   "execution_count": 40,
   "metadata": {},
   "outputs": [
    {
     "name": "stdout",
     "output_type": "stream",
     "text": [
      "The total time the program took to run was 0.493 seconds\n"
     ]
    }
   ],
   "source": [
    "# Second version: more efficient method for counting rides\n",
    "starttime2 = time.time()\n",
    "\n",
    "avg_rides = []\n",
    "for data in data19_20:\n",
    "    num_bikes = data['bikeid'].nunique()\n",
    "    num_rides = data['bikeid'].dropna().count()\n",
    "    avg_rides.append(round(num_rides/num_bikes,2))\n",
    "    \n",
    "rides = pd.DataFrame({'2019': avg_rides[:12],'2020': avg_rides[12:]},index = months)\n",
    "\n",
    "endtime2 = time.time()\n",
    "totaltime2 = endtime2 - starttime2\n",
    "print('The total time the program took to run was',round(totaltime2,3),'seconds')"
   ]
  },
  {
   "cell_type": "code",
   "execution_count": 41,
   "metadata": {},
   "outputs": [
    {
     "data": {
      "text/html": [
       "<div>\n",
       "<style scoped>\n",
       "    .dataframe tbody tr th:only-of-type {\n",
       "        vertical-align: middle;\n",
       "    }\n",
       "\n",
       "    .dataframe tbody tr th {\n",
       "        vertical-align: top;\n",
       "    }\n",
       "\n",
       "    .dataframe thead th {\n",
       "        text-align: right;\n",
       "    }\n",
       "</style>\n",
       "<table border=\"1\" class=\"dataframe\">\n",
       "  <thead>\n",
       "    <tr style=\"text-align: right;\">\n",
       "      <th></th>\n",
       "      <th>2019</th>\n",
       "      <th>2020</th>\n",
       "    </tr>\n",
       "  </thead>\n",
       "  <tbody>\n",
       "    <tr>\n",
       "      <th>Jan</th>\n",
       "      <td>76.41</td>\n",
       "      <td>95.00</td>\n",
       "    </tr>\n",
       "    <tr>\n",
       "      <th>Feb</th>\n",
       "      <td>74.70</td>\n",
       "      <td>86.70</td>\n",
       "    </tr>\n",
       "    <tr>\n",
       "      <th>Mar</th>\n",
       "      <td>94.97</td>\n",
       "      <td>71.69</td>\n",
       "    </tr>\n",
       "    <tr>\n",
       "      <th>Apr</th>\n",
       "      <td>121.99</td>\n",
       "      <td>46.10</td>\n",
       "    </tr>\n",
       "    <tr>\n",
       "      <th>May</th>\n",
       "      <td>149.11</td>\n",
       "      <td>99.00</td>\n",
       "    </tr>\n",
       "    <tr>\n",
       "      <th>Jun</th>\n",
       "      <td>148.27</td>\n",
       "      <td>118.54</td>\n",
       "    </tr>\n",
       "    <tr>\n",
       "      <th>Jul</th>\n",
       "      <td>151.77</td>\n",
       "      <td>123.13</td>\n",
       "    </tr>\n",
       "    <tr>\n",
       "      <th>Aug</th>\n",
       "      <td>167.49</td>\n",
       "      <td>130.43</td>\n",
       "    </tr>\n",
       "    <tr>\n",
       "      <th>Sep</th>\n",
       "      <td>153.88</td>\n",
       "      <td>135.92</td>\n",
       "    </tr>\n",
       "    <tr>\n",
       "      <th>Oct</th>\n",
       "      <td>131.72</td>\n",
       "      <td>121.61</td>\n",
       "    </tr>\n",
       "    <tr>\n",
       "      <th>Nov</th>\n",
       "      <td>95.10</td>\n",
       "      <td>91.33</td>\n",
       "    </tr>\n",
       "    <tr>\n",
       "      <th>Dec</th>\n",
       "      <td>69.07</td>\n",
       "      <td>64.59</td>\n",
       "    </tr>\n",
       "  </tbody>\n",
       "</table>\n",
       "</div>"
      ],
      "text/plain": [
       "       2019    2020\n",
       "Jan   76.41   95.00\n",
       "Feb   74.70   86.70\n",
       "Mar   94.97   71.69\n",
       "Apr  121.99   46.10\n",
       "May  149.11   99.00\n",
       "Jun  148.27  118.54\n",
       "Jul  151.77  123.13\n",
       "Aug  167.49  130.43\n",
       "Sep  153.88  135.92\n",
       "Oct  131.72  121.61\n",
       "Nov   95.10   91.33\n",
       "Dec   69.07   64.59"
      ]
     },
     "execution_count": 41,
     "metadata": {},
     "output_type": "execute_result"
    }
   ],
   "source": [
    "rides"
   ]
  },
  {
   "cell_type": "code",
   "execution_count": 42,
   "metadata": {},
   "outputs": [
    {
     "data": {
      "text/html": [
       "<div>\n",
       "<style scoped>\n",
       "    .dataframe tbody tr th:only-of-type {\n",
       "        vertical-align: middle;\n",
       "    }\n",
       "\n",
       "    .dataframe tbody tr th {\n",
       "        vertical-align: top;\n",
       "    }\n",
       "\n",
       "    .dataframe thead th {\n",
       "        text-align: right;\n",
       "    }\n",
       "</style>\n",
       "<table border=\"1\" class=\"dataframe\">\n",
       "  <thead>\n",
       "    <tr style=\"text-align: right;\">\n",
       "      <th></th>\n",
       "      <th>2019</th>\n",
       "      <th>2020</th>\n",
       "    </tr>\n",
       "  </thead>\n",
       "  <tbody>\n",
       "    <tr>\n",
       "      <th>Jan</th>\n",
       "      <td>2.547</td>\n",
       "      <td>3.167</td>\n",
       "    </tr>\n",
       "    <tr>\n",
       "      <th>Feb</th>\n",
       "      <td>2.490</td>\n",
       "      <td>2.890</td>\n",
       "    </tr>\n",
       "    <tr>\n",
       "      <th>Mar</th>\n",
       "      <td>3.166</td>\n",
       "      <td>2.390</td>\n",
       "    </tr>\n",
       "    <tr>\n",
       "      <th>Apr</th>\n",
       "      <td>4.066</td>\n",
       "      <td>1.537</td>\n",
       "    </tr>\n",
       "    <tr>\n",
       "      <th>May</th>\n",
       "      <td>4.970</td>\n",
       "      <td>3.300</td>\n",
       "    </tr>\n",
       "    <tr>\n",
       "      <th>Jun</th>\n",
       "      <td>4.942</td>\n",
       "      <td>3.951</td>\n",
       "    </tr>\n",
       "    <tr>\n",
       "      <th>Jul</th>\n",
       "      <td>5.059</td>\n",
       "      <td>4.104</td>\n",
       "    </tr>\n",
       "    <tr>\n",
       "      <th>Aug</th>\n",
       "      <td>5.583</td>\n",
       "      <td>4.348</td>\n",
       "    </tr>\n",
       "    <tr>\n",
       "      <th>Sep</th>\n",
       "      <td>5.129</td>\n",
       "      <td>4.531</td>\n",
       "    </tr>\n",
       "    <tr>\n",
       "      <th>Oct</th>\n",
       "      <td>4.391</td>\n",
       "      <td>4.054</td>\n",
       "    </tr>\n",
       "    <tr>\n",
       "      <th>Nov</th>\n",
       "      <td>3.170</td>\n",
       "      <td>3.044</td>\n",
       "    </tr>\n",
       "    <tr>\n",
       "      <th>Dec</th>\n",
       "      <td>2.302</td>\n",
       "      <td>2.153</td>\n",
       "    </tr>\n",
       "  </tbody>\n",
       "</table>\n",
       "</div>"
      ],
      "text/plain": [
       "      2019   2020\n",
       "Jan  2.547  3.167\n",
       "Feb  2.490  2.890\n",
       "Mar  3.166  2.390\n",
       "Apr  4.066  1.537\n",
       "May  4.970  3.300\n",
       "Jun  4.942  3.951\n",
       "Jul  5.059  4.104\n",
       "Aug  5.583  4.348\n",
       "Sep  5.129  4.531\n",
       "Oct  4.391  4.054\n",
       "Nov  3.170  3.044\n",
       "Dec  2.302  2.153"
      ]
     },
     "execution_count": 42,
     "metadata": {},
     "output_type": "execute_result"
    }
   ],
   "source": [
    "#is there a way we can take the exact number of days per month? \n",
    "#from calendar import monthrange perhaps\n",
    "rides_per_day = rides/30\n",
    "round(rides_per_day,3)"
   ]
  },
  {
   "cell_type": "code",
   "execution_count": 43,
   "metadata": {},
   "outputs": [
    {
     "data": {
      "text/plain": [
       "2.168015956878662"
      ]
     },
     "execution_count": 43,
     "metadata": {},
     "output_type": "execute_result"
    }
   ],
   "source": [
    "#first version: inefficient (~7.5s)\n",
    "\n",
    "s = time.time()\n",
    "avg_usage = []\n",
    "for data in data19_20:\n",
    "    bike_avg = sum(data['tripduration'].groupby(data['bikeid']).sum()) / len(data['tripduration'].groupby(data['bikeid']).sum())\n",
    "    avg_usage.append(bike_avg/3600) #in hours\n",
    "\n",
    "time.time() - s"
   ]
  },
  {
   "cell_type": "code",
   "execution_count": 44,
   "metadata": {},
   "outputs": [
    {
     "data": {
      "text/plain": [
       "1.0302252769470215"
      ]
     },
     "execution_count": 44,
     "metadata": {},
     "output_type": "execute_result"
    }
   ],
   "source": [
    "#second version: store the list of total time per bike in a variable to not have to calculate it twice (~3.5s)\n",
    "\n",
    "s = time.time()\n",
    "avg_usage = []\n",
    "for data in data19_20:\n",
    "    sums = data['tripduration'].groupby(data['bikeid']).sum()\n",
    "    bike_avg = sums.sum() / sums.count()\n",
    "    avg_usage.append(bike_avg/3600) #in hours\n",
    "\n",
    "time.time() - s"
   ]
  },
  {
   "cell_type": "code",
   "execution_count": 45,
   "metadata": {},
   "outputs": [
    {
     "data": {
      "text/plain": [
       "0.32307004928588867"
      ]
     },
     "execution_count": 45,
     "metadata": {},
     "output_type": "execute_result"
    }
   ],
   "source": [
    "#most efficient: total time riding a bike divided by how many bikes there are (~1.2s)\n",
    "\n",
    "#average monthly usage(in time) per bike\n",
    "\n",
    "s = time.time()\n",
    "avg_usage = []\n",
    "for data in data19_20:\n",
    "    total_time = data['tripduration'].sum()\n",
    "    bike_avg = total_time / data['bikeid'].nunique()\n",
    "    avg_usage.append(bike_avg/3600) #in hours\n",
    "\n",
    "time.time() - s"
   ]
  },
  {
   "cell_type": "code",
   "execution_count": 46,
   "metadata": {},
   "outputs": [
    {
     "data": {
      "text/html": [
       "<div>\n",
       "<style scoped>\n",
       "    .dataframe tbody tr th:only-of-type {\n",
       "        vertical-align: middle;\n",
       "    }\n",
       "\n",
       "    .dataframe tbody tr th {\n",
       "        vertical-align: top;\n",
       "    }\n",
       "\n",
       "    .dataframe thead th {\n",
       "        text-align: right;\n",
       "    }\n",
       "</style>\n",
       "<table border=\"1\" class=\"dataframe\">\n",
       "  <thead>\n",
       "    <tr style=\"text-align: right;\">\n",
       "      <th></th>\n",
       "      <th>2019</th>\n",
       "      <th>2020</th>\n",
       "    </tr>\n",
       "  </thead>\n",
       "  <tbody>\n",
       "    <tr>\n",
       "      <th>Jan</th>\n",
       "      <td>14.619</td>\n",
       "      <td>18.899</td>\n",
       "    </tr>\n",
       "    <tr>\n",
       "      <th>Feb</th>\n",
       "      <td>14.722</td>\n",
       "      <td>17.081</td>\n",
       "    </tr>\n",
       "    <tr>\n",
       "      <th>Mar</th>\n",
       "      <td>19.943</td>\n",
       "      <td>18.916</td>\n",
       "    </tr>\n",
       "    <tr>\n",
       "      <th>Apr</th>\n",
       "      <td>28.763</td>\n",
       "      <td>16.160</td>\n",
       "    </tr>\n",
       "    <tr>\n",
       "      <th>May</th>\n",
       "      <td>36.917</td>\n",
       "      <td>38.612</td>\n",
       "    </tr>\n",
       "    <tr>\n",
       "      <th>Jun</th>\n",
       "      <td>37.971</td>\n",
       "      <td>44.559</td>\n",
       "    </tr>\n",
       "    <tr>\n",
       "      <th>Jul</th>\n",
       "      <td>37.687</td>\n",
       "      <td>40.191</td>\n",
       "    </tr>\n",
       "    <tr>\n",
       "      <th>Aug</th>\n",
       "      <td>42.317</td>\n",
       "      <td>41.981</td>\n",
       "    </tr>\n",
       "    <tr>\n",
       "      <th>Sep</th>\n",
       "      <td>38.135</td>\n",
       "      <td>41.636</td>\n",
       "    </tr>\n",
       "    <tr>\n",
       "      <th>Oct</th>\n",
       "      <td>30.244</td>\n",
       "      <td>34.408</td>\n",
       "    </tr>\n",
       "    <tr>\n",
       "      <th>Nov</th>\n",
       "      <td>19.964</td>\n",
       "      <td>24.677</td>\n",
       "    </tr>\n",
       "    <tr>\n",
       "      <th>Dec</th>\n",
       "      <td>13.583</td>\n",
       "      <td>15.229</td>\n",
       "    </tr>\n",
       "  </tbody>\n",
       "</table>\n",
       "</div>"
      ],
      "text/plain": [
       "       2019    2020\n",
       "Jan  14.619  18.899\n",
       "Feb  14.722  17.081\n",
       "Mar  19.943  18.916\n",
       "Apr  28.763  16.160\n",
       "May  36.917  38.612\n",
       "Jun  37.971  44.559\n",
       "Jul  37.687  40.191\n",
       "Aug  42.317  41.981\n",
       "Sep  38.135  41.636\n",
       "Oct  30.244  34.408\n",
       "Nov  19.964  24.677\n",
       "Dec  13.583  15.229"
      ]
     },
     "execution_count": 46,
     "metadata": {},
     "output_type": "execute_result"
    }
   ],
   "source": [
    "avg_use = pd.DataFrame({'2019':avg_usage[:12],'2020':avg_usage[12:]}, index=months)\n",
    "round(avg_use, 3)"
   ]
  },
  {
   "cell_type": "code",
   "execution_count": 47,
   "metadata": {},
   "outputs": [
    {
     "data": {
      "text/plain": [
       "<matplotlib.legend.Legend at 0x7f826b1413d0>"
      ]
     },
     "execution_count": 47,
     "metadata": {},
     "output_type": "execute_result"
    },
    {
     "data": {
      "image/png": "[encoded data removed]",
      "text/plain": [
       "<Figure size 1080x360 with 2 Axes>"
      ]
     },
     "metadata": {
      "needs_background": "light"
     },
     "output_type": "display_data"
    }
   ],
   "source": [
    "plt.figure(figsize=(15,5))\n",
    "\n",
    "plt.subplot(1,2,1)\n",
    "plt.plot(avg_use['2019'], marker='o', label='2019')\n",
    "plt.plot(avg_use['2020'], marker='o', label='2020')\n",
    "plt.title('Average Bike Usage in Hours per Month')\n",
    "plt.xlabel('Month')\n",
    "plt.ylabel('Hours Per Month')\n",
    "plt.legend(loc=\"upper left\")\n",
    "\n",
    "plt.subplot(1,2,2)\n",
    "plt.plot(rides['2019'], marker='o', label='2019')\n",
    "plt.plot(rides['2020'], marker='o', label='2020')\n",
    "plt.title('Average Bike Usage in Trips per Month')\n",
    "plt.xlabel('Month')\n",
    "plt.ylabel('Trips Per Month')\n",
    "plt.legend(loc=\"upper left\")"
   ]
  },
  {
   "cell_type": "markdown",
   "metadata": {},
   "source": [
    "While generally Citibike usage was greater in 2020, we see an interesting decline in March 2020 with\n",
    "the beginning of COVID and a dip in April 2020 activity before a spike back up to 2019 levels in May. For every remaining month of the year, average monthly bike usage in terms of hours ridden exceeded 2019 levels. However, the average number of monthly rides that each bike took was actually lower in 2020 than in 2019, implying people are taking the bikes on longer rides. Bikes on average were also being ridden for far less time in the winter months than in the summer months. "
   ]
  },
  {
   "cell_type": "markdown",
   "metadata": {},
   "source": [
    "**2.4 What are the most popular routes?**"
   ]
  },
  {
   "cell_type": "code",
   "execution_count": 48,
   "metadata": {},
   "outputs": [],
   "source": [
    "#Create a dataframe df that concats each month's data horizontally\n",
    "df = pd.concat(data19_20, ignore_index=True)"
   ]
  },
  {
   "cell_type": "code",
   "execution_count": 49,
   "metadata": {},
   "outputs": [
    {
     "data": {
      "text/html": [
       "<div>\n",
       "<style scoped>\n",
       "    .dataframe tbody tr th:only-of-type {\n",
       "        vertical-align: middle;\n",
       "    }\n",
       "\n",
       "    .dataframe tbody tr th {\n",
       "        vertical-align: top;\n",
       "    }\n",
       "\n",
       "    .dataframe thead th {\n",
       "        text-align: right;\n",
       "    }\n",
       "</style>\n",
       "<table border=\"1\" class=\"dataframe\">\n",
       "  <thead>\n",
       "    <tr style=\"text-align: right;\">\n",
       "      <th></th>\n",
       "      <th>tripduration</th>\n",
       "      <th>starttime</th>\n",
       "      <th>stoptime</th>\n",
       "      <th>start station id</th>\n",
       "      <th>start station name</th>\n",
       "      <th>start station latitude</th>\n",
       "      <th>start station longitude</th>\n",
       "      <th>end station id</th>\n",
       "      <th>end station name</th>\n",
       "      <th>end station latitude</th>\n",
       "      <th>end station longitude</th>\n",
       "      <th>bikeid</th>\n",
       "      <th>usertype</th>\n",
       "      <th>birth year</th>\n",
       "      <th>gender</th>\n",
       "      <th>age</th>\n",
       "    </tr>\n",
       "  </thead>\n",
       "  <tbody>\n",
       "    <tr>\n",
       "      <th>0</th>\n",
       "      <td>320</td>\n",
       "      <td>2019-01-01 00:01:47.4010</td>\n",
       "      <td>2019-01-01 00:07:07.5810</td>\n",
       "      <td>3160.0</td>\n",
       "      <td>Central Park West &amp; W 76 St</td>\n",
       "      <td>40.778968</td>\n",
       "      <td>-73.973747</td>\n",
       "      <td>3283.0</td>\n",
       "      <td>W 89 St &amp; Columbus Ave</td>\n",
       "      <td>40.788221</td>\n",
       "      <td>-73.970416</td>\n",
       "      <td>15839</td>\n",
       "      <td>Subscriber</td>\n",
       "      <td>1971</td>\n",
       "      <td>1</td>\n",
       "      <td>48</td>\n",
       "    </tr>\n",
       "    <tr>\n",
       "      <th>1</th>\n",
       "      <td>316</td>\n",
       "      <td>2019-01-01 00:04:43.7360</td>\n",
       "      <td>2019-01-01 00:10:00.6080</td>\n",
       "      <td>519.0</td>\n",
       "      <td>Pershing Square North</td>\n",
       "      <td>40.751873</td>\n",
       "      <td>-73.977706</td>\n",
       "      <td>518.0</td>\n",
       "      <td>E 39 St &amp; 2 Ave</td>\n",
       "      <td>40.747804</td>\n",
       "      <td>-73.973442</td>\n",
       "      <td>32723</td>\n",
       "      <td>Subscriber</td>\n",
       "      <td>1964</td>\n",
       "      <td>1</td>\n",
       "      <td>55</td>\n",
       "    </tr>\n",
       "    <tr>\n",
       "      <th>2</th>\n",
       "      <td>591</td>\n",
       "      <td>2019-01-01 00:06:03.9970</td>\n",
       "      <td>2019-01-01 00:15:55.4380</td>\n",
       "      <td>3171.0</td>\n",
       "      <td>Amsterdam Ave &amp; W 82 St</td>\n",
       "      <td>40.785247</td>\n",
       "      <td>-73.976673</td>\n",
       "      <td>3154.0</td>\n",
       "      <td>E 77 St &amp; 3 Ave</td>\n",
       "      <td>40.773142</td>\n",
       "      <td>-73.958562</td>\n",
       "      <td>27451</td>\n",
       "      <td>Subscriber</td>\n",
       "      <td>1987</td>\n",
       "      <td>1</td>\n",
       "      <td>32</td>\n",
       "    </tr>\n",
       "    <tr>\n",
       "      <th>3</th>\n",
       "      <td>2719</td>\n",
       "      <td>2019-01-01 00:07:03.5450</td>\n",
       "      <td>2019-01-01 00:52:22.6500</td>\n",
       "      <td>504.0</td>\n",
       "      <td>1 Ave &amp; E 16 St</td>\n",
       "      <td>40.732219</td>\n",
       "      <td>-73.981656</td>\n",
       "      <td>3709.0</td>\n",
       "      <td>W 15 St &amp; 6 Ave</td>\n",
       "      <td>40.738046</td>\n",
       "      <td>-73.996430</td>\n",
       "      <td>21579</td>\n",
       "      <td>Subscriber</td>\n",
       "      <td>1990</td>\n",
       "      <td>1</td>\n",
       "      <td>29</td>\n",
       "    </tr>\n",
       "    <tr>\n",
       "      <th>4</th>\n",
       "      <td>303</td>\n",
       "      <td>2019-01-01 00:07:35.9450</td>\n",
       "      <td>2019-01-01 00:12:39.5020</td>\n",
       "      <td>229.0</td>\n",
       "      <td>Great Jones St</td>\n",
       "      <td>40.727434</td>\n",
       "      <td>-73.993790</td>\n",
       "      <td>503.0</td>\n",
       "      <td>E 20 St &amp; Park Ave</td>\n",
       "      <td>40.738274</td>\n",
       "      <td>-73.987520</td>\n",
       "      <td>35379</td>\n",
       "      <td>Subscriber</td>\n",
       "      <td>1979</td>\n",
       "      <td>1</td>\n",
       "      <td>40</td>\n",
       "    </tr>\n",
       "    <tr>\n",
       "      <th>...</th>\n",
       "      <td>...</td>\n",
       "      <td>...</td>\n",
       "      <td>...</td>\n",
       "      <td>...</td>\n",
       "      <td>...</td>\n",
       "      <td>...</td>\n",
       "      <td>...</td>\n",
       "      <td>...</td>\n",
       "      <td>...</td>\n",
       "      <td>...</td>\n",
       "      <td>...</td>\n",
       "      <td>...</td>\n",
       "      <td>...</td>\n",
       "      <td>...</td>\n",
       "      <td>...</td>\n",
       "      <td>...</td>\n",
       "    </tr>\n",
       "    <tr>\n",
       "      <th>40007106</th>\n",
       "      <td>2045</td>\n",
       "      <td>2020-12-31 23:58:21.7040</td>\n",
       "      <td>2021-01-01 00:32:27.1570</td>\n",
       "      <td>526.0</td>\n",
       "      <td>E 33 St &amp; 5 Ave</td>\n",
       "      <td>40.747659</td>\n",
       "      <td>-73.984907</td>\n",
       "      <td>3614.0</td>\n",
       "      <td>Crescent St &amp; 30 Ave</td>\n",
       "      <td>40.768692</td>\n",
       "      <td>-73.924957</td>\n",
       "      <td>36467</td>\n",
       "      <td>Subscriber</td>\n",
       "      <td>1994</td>\n",
       "      <td>1</td>\n",
       "      <td>26</td>\n",
       "    </tr>\n",
       "    <tr>\n",
       "      <th>40007107</th>\n",
       "      <td>288</td>\n",
       "      <td>2020-12-31 23:58:37.8400</td>\n",
       "      <td>2021-01-01 00:03:26.3250</td>\n",
       "      <td>3307.0</td>\n",
       "      <td>West End Ave &amp; W 94 St</td>\n",
       "      <td>40.794165</td>\n",
       "      <td>-73.974124</td>\n",
       "      <td>3383.0</td>\n",
       "      <td>Cathedral Pkwy &amp; Broadway</td>\n",
       "      <td>40.804213</td>\n",
       "      <td>-73.966991</td>\n",
       "      <td>47749</td>\n",
       "      <td>Subscriber</td>\n",
       "      <td>1969</td>\n",
       "      <td>0</td>\n",
       "      <td>51</td>\n",
       "    </tr>\n",
       "    <tr>\n",
       "      <th>40007108</th>\n",
       "      <td>152</td>\n",
       "      <td>2020-12-31 23:58:52.8090</td>\n",
       "      <td>2021-01-01 00:01:25.6720</td>\n",
       "      <td>3510.0</td>\n",
       "      <td>Adam Clayton Powell Blvd &amp; W 123 St</td>\n",
       "      <td>40.807832</td>\n",
       "      <td>-73.949373</td>\n",
       "      <td>3518.0</td>\n",
       "      <td>Lenox Ave &amp; W 126 St</td>\n",
       "      <td>40.808442</td>\n",
       "      <td>-73.945209</td>\n",
       "      <td>48691</td>\n",
       "      <td>Customer</td>\n",
       "      <td>1969</td>\n",
       "      <td>0</td>\n",
       "      <td>51</td>\n",
       "    </tr>\n",
       "    <tr>\n",
       "      <th>40007109</th>\n",
       "      <td>654</td>\n",
       "      <td>2020-12-31 23:59:55.9550</td>\n",
       "      <td>2021-01-01 00:10:50.6050</td>\n",
       "      <td>4073.0</td>\n",
       "      <td>W 51 St &amp; Rockefeller Plaza</td>\n",
       "      <td>40.759700</td>\n",
       "      <td>-73.978082</td>\n",
       "      <td>500.0</td>\n",
       "      <td>Broadway &amp; W 51 St</td>\n",
       "      <td>40.762288</td>\n",
       "      <td>-73.983362</td>\n",
       "      <td>49564</td>\n",
       "      <td>Subscriber</td>\n",
       "      <td>1994</td>\n",
       "      <td>1</td>\n",
       "      <td>26</td>\n",
       "    </tr>\n",
       "    <tr>\n",
       "      <th>40007110</th>\n",
       "      <td>2589</td>\n",
       "      <td>2020-12-31 23:59:57.4070</td>\n",
       "      <td>2021-01-01 00:43:06.4490</td>\n",
       "      <td>3581.0</td>\n",
       "      <td>Underhill Ave &amp; Lincoln Pl</td>\n",
       "      <td>40.674012</td>\n",
       "      <td>-73.967146</td>\n",
       "      <td>3581.0</td>\n",
       "      <td>Underhill Ave &amp; Lincoln Pl</td>\n",
       "      <td>40.674012</td>\n",
       "      <td>-73.967146</td>\n",
       "      <td>47364</td>\n",
       "      <td>Customer</td>\n",
       "      <td>1969</td>\n",
       "      <td>0</td>\n",
       "      <td>51</td>\n",
       "    </tr>\n",
       "  </tbody>\n",
       "</table>\n",
       "<p>40007111 rows × 16 columns</p>\n",
       "</div>"
      ],
      "text/plain": [
       "          tripduration                 starttime                  stoptime  \\\n",
       "0                  320  2019-01-01 00:01:47.4010  2019-01-01 00:07:07.5810   \n",
       "1                  316  2019-01-01 00:04:43.7360  2019-01-01 00:10:00.6080   \n",
       "2                  591  2019-01-01 00:06:03.9970  2019-01-01 00:15:55.4380   \n",
       "3                 2719  2019-01-01 00:07:03.5450  2019-01-01 00:52:22.6500   \n",
       "4                  303  2019-01-01 00:07:35.9450  2019-01-01 00:12:39.5020   \n",
       "...                ...                       ...                       ...   \n",
       "40007106          2045  2020-12-31 23:58:21.7040  2021-01-01 00:32:27.1570   \n",
       "40007107           288  2020-12-31 23:58:37.8400  2021-01-01 00:03:26.3250   \n",
       "40007108           152  2020-12-31 23:58:52.8090  2021-01-01 00:01:25.6720   \n",
       "40007109           654  2020-12-31 23:59:55.9550  2021-01-01 00:10:50.6050   \n",
       "40007110          2589  2020-12-31 23:59:57.4070  2021-01-01 00:43:06.4490   \n",
       "\n",
       "          start station id                   start station name  \\\n",
       "0                   3160.0          Central Park West & W 76 St   \n",
       "1                    519.0                Pershing Square North   \n",
       "2                   3171.0              Amsterdam Ave & W 82 St   \n",
       "3                    504.0                      1 Ave & E 16 St   \n",
       "4                    229.0                       Great Jones St   \n",
       "...                    ...                                  ...   \n",
       "40007106             526.0                      E 33 St & 5 Ave   \n",
       "40007107            3307.0               West End Ave & W 94 St   \n",
       "40007108            3510.0  Adam Clayton Powell Blvd & W 123 St   \n",
       "40007109            4073.0          W 51 St & Rockefeller Plaza   \n",
       "40007110            3581.0           Underhill Ave & Lincoln Pl   \n",
       "\n",
       "          start station latitude  start station longitude  end station id  \\\n",
       "0                      40.778968               -73.973747          3283.0   \n",
       "1                      40.751873               -73.977706           518.0   \n",
       "2                      40.785247               -73.976673          3154.0   \n",
       "3                      40.732219               -73.981656          3709.0   \n",
       "4                      40.727434               -73.993790           503.0   \n",
       "...                          ...                      ...             ...   \n",
       "40007106               40.747659               -73.984907          3614.0   \n",
       "40007107               40.794165               -73.974124          3383.0   \n",
       "40007108               40.807832               -73.949373          3518.0   \n",
       "40007109               40.759700               -73.978082           500.0   \n",
       "40007110               40.674012               -73.967146          3581.0   \n",
       "\n",
       "                    end station name  end station latitude  \\\n",
       "0             W 89 St & Columbus Ave             40.788221   \n",
       "1                    E 39 St & 2 Ave             40.747804   \n",
       "2                    E 77 St & 3 Ave             40.773142   \n",
       "3                    W 15 St & 6 Ave             40.738046   \n",
       "4                 E 20 St & Park Ave             40.738274   \n",
       "...                              ...                   ...   \n",
       "40007106        Crescent St & 30 Ave             40.768692   \n",
       "40007107   Cathedral Pkwy & Broadway             40.804213   \n",
       "40007108        Lenox Ave & W 126 St             40.808442   \n",
       "40007109          Broadway & W 51 St             40.762288   \n",
       "40007110  Underhill Ave & Lincoln Pl             40.674012   \n",
       "\n",
       "          end station longitude  bikeid    usertype  birth year  gender  age  \n",
       "0                    -73.970416   15839  Subscriber        1971       1   48  \n",
       "1                    -73.973442   32723  Subscriber        1964       1   55  \n",
       "2                    -73.958562   27451  Subscriber        1987       1   32  \n",
       "3                    -73.996430   21579  Subscriber        1990       1   29  \n",
       "4                    -73.987520   35379  Subscriber        1979       1   40  \n",
       "...                         ...     ...         ...         ...     ...  ...  \n",
       "40007106             -73.924957   36467  Subscriber        1994       1   26  \n",
       "40007107             -73.966991   47749  Subscriber        1969       0   51  \n",
       "40007108             -73.945209   48691    Customer        1969       0   51  \n",
       "40007109             -73.983362   49564  Subscriber        1994       1   26  \n",
       "40007110             -73.967146   47364    Customer        1969       0   51  \n",
       "\n",
       "[40007111 rows x 16 columns]"
      ]
     },
     "execution_count": 49,
     "metadata": {},
     "output_type": "execute_result"
    }
   ],
   "source": [
    "df"
   ]
  },
  {
   "cell_type": "code",
   "execution_count": 50,
   "metadata": {},
   "outputs": [
    {
     "data": {
      "text/html": [
       "<div>\n",
       "<style scoped>\n",
       "    .dataframe tbody tr th:only-of-type {\n",
       "        vertical-align: middle;\n",
       "    }\n",
       "\n",
       "    .dataframe tbody tr th {\n",
       "        vertical-align: top;\n",
       "    }\n",
       "\n",
       "    .dataframe thead th {\n",
       "        text-align: right;\n",
       "    }\n",
       "</style>\n",
       "<table border=\"1\" class=\"dataframe\">\n",
       "  <thead>\n",
       "    <tr style=\"text-align: right;\">\n",
       "      <th></th>\n",
       "      <th>start station name</th>\n",
       "      <th>end station name</th>\n",
       "      <th>0</th>\n",
       "    </tr>\n",
       "  </thead>\n",
       "  <tbody>\n",
       "    <tr>\n",
       "      <th>0</th>\n",
       "      <td>West Drive &amp; Prospect Park West</td>\n",
       "      <td>West Drive &amp; Prospect Park West</td>\n",
       "      <td>17948</td>\n",
       "    </tr>\n",
       "    <tr>\n",
       "      <th>1</th>\n",
       "      <td>Central Park S &amp; 6 Ave</td>\n",
       "      <td>Central Park S &amp; 6 Ave</td>\n",
       "      <td>13599</td>\n",
       "    </tr>\n",
       "    <tr>\n",
       "      <th>2</th>\n",
       "      <td>E 7 St &amp; Avenue A</td>\n",
       "      <td>Cooper Square &amp; Astor Pl</td>\n",
       "      <td>10933</td>\n",
       "    </tr>\n",
       "    <tr>\n",
       "      <th>3</th>\n",
       "      <td>12 Ave &amp; W 40 St</td>\n",
       "      <td>West St &amp; Chambers St</td>\n",
       "      <td>10496</td>\n",
       "    </tr>\n",
       "    <tr>\n",
       "      <th>4</th>\n",
       "      <td>12 Ave &amp; W 40 St</td>\n",
       "      <td>12 Ave &amp; W 40 St</td>\n",
       "      <td>9857</td>\n",
       "    </tr>\n",
       "  </tbody>\n",
       "</table>\n",
       "</div>"
      ],
      "text/plain": [
       "                start station name                 end station name      0\n",
       "0  West Drive & Prospect Park West  West Drive & Prospect Park West  17948\n",
       "1           Central Park S & 6 Ave           Central Park S & 6 Ave  13599\n",
       "2                E 7 St & Avenue A         Cooper Square & Astor Pl  10933\n",
       "3                 12 Ave & W 40 St            West St & Chambers St  10496\n",
       "4                 12 Ave & W 40 St                 12 Ave & W 40 St   9857"
      ]
     },
     "execution_count": 50,
     "metadata": {},
     "output_type": "execute_result"
    }
   ],
   "source": [
    "df.groupby(['start station name', 'end station name']).size().nlargest(5).reset_index()"
   ]
  },
  {
   "cell_type": "markdown",
   "metadata": {},
   "source": [
    "The most popular route of 2019 & 2020 combined is starting and ending at the West Drive & Prospect Park West location. Riders love Prospect Park!"
   ]
  },
  {
   "cell_type": "code",
   "execution_count": 51,
   "metadata": {},
   "outputs": [],
   "source": [
    "# df['starttime'] = df['starttime'].astype('datetime64[ns]')\n",
    "# df['year'] = df.starttime.dt.year\n",
    "df['year'] = df['starttime'].str[:4].astype(int)"
   ]
  },
  {
   "cell_type": "code",
   "execution_count": 52,
   "metadata": {},
   "outputs": [
    {
     "name": "stdout",
     "output_type": "stream",
     "text": [
      "                start station name                 end station name     0\n",
      "0                E 7 St & Avenue A         Cooper Square & Astor Pl  8425\n",
      "1           Central Park S & 6 Ave           Central Park S & 6 Ave  6773\n",
      "2           Central Park S & 6 Ave                  5 Ave & E 88 St  6086\n",
      "3    North Moore St & Greenwich St         Vesey Pl & River Terrace  5365\n",
      "4  West Drive & Prospect Park West  West Drive & Prospect Park West  5346\n"
     ]
    }
   ],
   "source": [
    "# print(df[df['year']==2019]['start_end'].value_counts().head(5))\n",
    "print(df[df['year']==2019].groupby(['start station name', 'end station name']).size().nlargest(5).reset_index())"
   ]
  },
  {
   "cell_type": "code",
   "execution_count": 53,
   "metadata": {},
   "outputs": [
    {
     "name": "stdout",
     "output_type": "stream",
     "text": [
      "                start station name                 end station name      0\n",
      "0  West Drive & Prospect Park West  West Drive & Prospect Park West  12602\n",
      "1           Central Park S & 6 Ave           Central Park S & 6 Ave   6826\n",
      "2                 12 Ave & W 40 St                 12 Ave & W 40 St   6564\n",
      "3                12 Ave & W 125 St                12 Ave & W 125 St   6213\n",
      "4               Broadway & W 60 St               Broadway & W 60 St   5887\n"
     ]
    }
   ],
   "source": [
    "# print(df[df['year']==2020]['start_end'].value_counts().head(5))\n",
    "print(df[df['year']==2020].groupby(['start station name', 'end station name']).size().nlargest(5).reset_index())"
   ]
  },
  {
   "cell_type": "markdown",
   "metadata": {},
   "source": [
    "Very interesting results comparing the top 5 routes of 2019 and 2020! The top 5 routes of 2020 have the same start and end locations, looks like cycling in the city that year was less so a form of transportation but rather an activity in and of itself."
   ]
  },
  {
   "cell_type": "markdown",
   "metadata": {},
   "source": [
    "**2.5 Which stations are likely to run out of bikes?**"
   ]
  },
  {
   "cell_type": "code",
   "execution_count": 54,
   "metadata": {},
   "outputs": [],
   "source": [
    "df['starttime'] = df['starttime'].astype('datetime64[ns]')\n",
    "df['stoptime'] = df['stoptime'].astype('datetime64[ns]')\n",
    "df['starthour'] = df.starttime.dt.hour\n",
    "df['stophour'] = df.stoptime.dt.hour"
   ]
  },
  {
   "cell_type": "code",
   "execution_count": 55,
   "metadata": {},
   "outputs": [
    {
     "name": "stdout",
     "output_type": "stream",
     "text": [
      "Pershing Square North    156531\n",
      "E 17 St & Broadway       121579\n",
      "8 Ave & W 31 St          119918\n",
      "Broadway & E 22 St       112960\n",
      "Broadway & E 14 St       112885\n",
      "Name: start station name, dtype: int64\n"
     ]
    }
   ],
   "source": [
    "print(df[df['year']==2019]['start station name'].value_counts().head(5))"
   ]
  },
  {
   "cell_type": "code",
   "execution_count": 56,
   "metadata": {},
   "outputs": [
    {
     "name": "stdout",
     "output_type": "stream",
     "text": [
      "Pershing Square North    155417\n",
      "E 17 St & Broadway       125266\n",
      "Broadway & E 22 St       123008\n",
      "8 Ave & W 31 St          121521\n",
      "West St & Chambers St    115954\n",
      "Name: end station name, dtype: int64\n"
     ]
    }
   ],
   "source": [
    "print(df[df['year']==2019]['end station name'].value_counts().head(5))"
   ]
  },
  {
   "cell_type": "code",
   "execution_count": 57,
   "metadata": {},
   "outputs": [
    {
     "name": "stdout",
     "output_type": "stream",
     "text": [
      "1 Ave & E 68 St          100690\n",
      "West St & Chambers St     99256\n",
      "W 21 St & 6 Ave           99042\n",
      "12 Ave & W 40 St          97305\n",
      "Broadway & W 60 St        91781\n",
      "Name: start station name, dtype: int64\n"
     ]
    }
   ],
   "source": [
    "print(df[df['year']==2020]['start station name'].value_counts().head(5))"
   ]
  },
  {
   "cell_type": "code",
   "execution_count": 58,
   "metadata": {},
   "outputs": [
    {
     "name": "stdout",
     "output_type": "stream",
     "text": [
      "West St & Chambers St    101704\n",
      "W 21 St & 6 Ave          100171\n",
      "1 Ave & E 68 St          100129\n",
      "12 Ave & W 40 St          99247\n",
      "E 17 St & Broadway        93832\n",
      "Name: end station name, dtype: int64\n"
     ]
    }
   ],
   "source": [
    "print(df[df['year']==2020]['end station name'].value_counts().head(5))"
   ]
  },
  {
   "cell_type": "markdown",
   "metadata": {},
   "source": [
    "As noted previously in our report, Pershing Square North is a popular station, it is at the top of this list as starting and ending station for 2019. For 2019, top starting and ending stations are pretty similar, with the exception of Broadway & E 14 St which makes that starting list and West St & Chambers St which makes the ending list.\n",
    "\n",
    "2020 has a few different stations than 2019, first off, Pershing Square North is no longer in the top 5! Some of the new popular stations are: 1 Ave & E 68 St, W 21 St & 6 Ave, 12 Ave & W 40 St, and Broadway & W 60 St.\n",
    "\n",
    "We will look into a few of the stations above to see the balance of bikes going in and out. Additionally, we will look at 2019 and 2020 separately to see if Covid times were different than \"normal\"."
   ]
  },
  {
   "cell_type": "code",
   "execution_count": 59,
   "metadata": {},
   "outputs": [],
   "source": [
    "def coming_and_going(station, year):\n",
    "    plt.hist([df[(df['start station name'] == station) & (df['year'] == year)]['starthour'], df[(df['end station name'] == station) & (df['year'] == year)]['stophour']], label=['Out', 'In'])\n",
    "    plt.title('# of Bikes Entering and Leaving ' + str(station) + ' in ' + str(year))\n",
    "    plt.xlabel('Time of Day')\n",
    "    plt.ylabel('# of Bikes')\n",
    "    plt.legend(loc='upper left')\n",
    "    plt.show()"
   ]
  },
  {
   "cell_type": "code",
   "execution_count": 60,
   "metadata": {},
   "outputs": [
    {
     "data": {
      "image/png": "[encoded data removed]",
      "text/plain": [
       "<Figure size 432x288 with 1 Axes>"
      ]
     },
     "metadata": {
      "needs_background": "light"
     },
     "output_type": "display_data"
    }
   ],
   "source": [
    "coming_and_going('Pershing Square North', 2019)"
   ]
  },
  {
   "cell_type": "code",
   "execution_count": 61,
   "metadata": {},
   "outputs": [
    {
     "data": {
      "image/png": "[encoded data removed]",
      "text/plain": [
       "<Figure size 432x288 with 1 Axes>"
      ]
     },
     "metadata": {
      "needs_background": "light"
     },
     "output_type": "display_data"
    }
   ],
   "source": [
    "coming_and_going('Pershing Square North', 2020)"
   ]
  },
  {
   "cell_type": "markdown",
   "metadata": {},
   "source": [
    "Looks like Pershing Square North has a healthy intake and outake of bikes throughout the day, with a slight change during rush hours."
   ]
  },
  {
   "cell_type": "code",
   "execution_count": 62,
   "metadata": {},
   "outputs": [
    {
     "data": {
      "image/png": "[encoded data removed]",
      "text/plain": [
       "<Figure size 432x288 with 1 Axes>"
      ]
     },
     "metadata": {
      "needs_background": "light"
     },
     "output_type": "display_data"
    }
   ],
   "source": [
    "coming_and_going('8 Ave & W 31 St', 2019)"
   ]
  },
  {
   "cell_type": "code",
   "execution_count": 63,
   "metadata": {},
   "outputs": [
    {
     "data": {
      "image/png": "[encoded data removed]",
      "text/plain": [
       "<Figure size 432x288 with 1 Axes>"
      ]
     },
     "metadata": {
      "needs_background": "light"
     },
     "output_type": "display_data"
    }
   ],
   "source": [
    "coming_and_going('8 Ave & W 31 St', 2020)"
   ]
  },
  {
   "cell_type": "markdown",
   "metadata": {},
   "source": [
    "8 Ave & W 31 St is not quite as balance. We are seeing a lot of people taking bikes in the morning and a lot coming back in the afternoon/evening. This is something Citibike should note when distributing bikes to stations throughout the day. Don't want the station empty in the morning for those commuters!"
   ]
  },
  {
   "cell_type": "code",
   "execution_count": 64,
   "metadata": {},
   "outputs": [
    {
     "data": {
      "image/png": "[encoded data removed]",
      "text/plain": [
       "<Figure size 432x288 with 1 Axes>"
      ]
     },
     "metadata": {
      "needs_background": "light"
     },
     "output_type": "display_data"
    }
   ],
   "source": [
    "coming_and_going('West St & Chambers St', 2019)"
   ]
  },
  {
   "cell_type": "code",
   "execution_count": 65,
   "metadata": {},
   "outputs": [
    {
     "data": {
      "image/png": "[encoded data removed]",
      "text/plain": [
       "<Figure size 432x288 with 1 Axes>"
      ]
     },
     "metadata": {
      "needs_background": "light"
     },
     "output_type": "display_data"
    }
   ],
   "source": [
    "coming_and_going('West St & Chambers St', 2020)"
   ]
  },
  {
   "cell_type": "markdown",
   "metadata": {},
   "source": [
    "In 2019, West St & Chambers St is seeing the opposite situation to 8 Ave & W 31 St. In 2019, more bikes were coming in than out in the morning. In 2020 this levels off, as potentially fewer people were coming into their Wall St. offices."
   ]
  },
  {
   "cell_type": "code",
   "execution_count": 66,
   "metadata": {},
   "outputs": [
    {
     "data": {
      "image/png": "[encoded data removed]",
      "text/plain": [
       "<Figure size 432x288 with 1 Axes>"
      ]
     },
     "metadata": {
      "needs_background": "light"
     },
     "output_type": "display_data"
    }
   ],
   "source": [
    "coming_and_going('12 Ave & W 40 St', 2019)"
   ]
  },
  {
   "cell_type": "code",
   "execution_count": 67,
   "metadata": {},
   "outputs": [
    {
     "data": {
      "image/png": "[encoded data removed]",
      "text/plain": [
       "<Figure size 432x288 with 1 Axes>"
      ]
     },
     "metadata": {
      "needs_background": "light"
     },
     "output_type": "display_data"
    }
   ],
   "source": [
    "coming_and_going('12 Ave & W 40 St', 2020)"
   ]
  },
  {
   "cell_type": "markdown",
   "metadata": {},
   "source": [
    "12 Ave & W 40 St is right next to a ferry terminal on the west side. One can theorize from these graphs that this was a large commuter station for people taking the ferry from NJ to Manhattan. 2020 is a lot more balance with the arrivals and deparatures of bikes into the station. Though interestingly enough, this station didn't make the top 5 stations of 2019, but did for 2020. Citibike should take note of 2019, for if we do return to in person work in the future, it might be worth adding an additional station near the ferry terminal for commuters.\n"
   ]
  },
  {
   "cell_type": "code",
   "execution_count": 68,
   "metadata": {},
   "outputs": [
    {
     "data": {
      "image/png": "[encoded data removed]",
      "text/plain": [
       "<Figure size 432x288 with 1 Axes>"
      ]
     },
     "metadata": {
      "needs_background": "light"
     },
     "output_type": "display_data"
    }
   ],
   "source": [
    "plt.hist([df[df['year'] ==2019]['starthour'], df[df['year'] ==2019]['stophour']], label=['Out', 'In'])\n",
    "plt.title('# of Bikes Entering and Leaving Stations in 2019')\n",
    "plt.legend(loc='upper left')\n",
    "plt.show()"
   ]
  },
  {
   "cell_type": "code",
   "execution_count": 69,
   "metadata": {},
   "outputs": [
    {
     "data": {
      "image/png": "[encoded data removed]",
      "text/plain": [
       "<Figure size 432x288 with 1 Axes>"
      ]
     },
     "metadata": {
      "needs_background": "light"
     },
     "output_type": "display_data"
    }
   ],
   "source": [
    "plt.hist([df[df['year'] ==2020]['starthour'], df[df['year'] ==2020]['stophour']], label=['Out', 'In'])\n",
    "plt.title('# of Bikes Entering and Leaving Stations in 2020')\n",
    "plt.legend(loc='upper left')\n",
    "plt.show()"
   ]
  },
  {
   "cell_type": "markdown",
   "metadata": {},
   "source": [
    "Overall, the inflow and outflow of bikes in both years seems even and well distributed. In 2019, we see our most popular times were in the morning and afternoon/early evening. Meanwhile, in 2020 morning traffic wasn't as commom, instead 3pm was the most popular time."
   ]
  },
  {
   "cell_type": "markdown",
   "metadata": {},
   "source": [
    "**2.6 What are the most popular times of day?**"
   ]
  },
  {
   "cell_type": "code",
   "execution_count": 70,
   "metadata": {},
   "outputs": [],
   "source": [
    "#resetting index of all dataframes as datetimeindex of starttime\n",
    "#creating new columns for day of week, weekend indicator and time in fraction form\n",
    "#reset index because there are duplicate starttimes that cause issues when separating data into weekend&weekday/subscriber&customer\n",
    "for indx,data in enumerate(data19_20):\n",
    "    data['starttime'] = pd.to_datetime(data['starttime'])\n",
    "    data=data.set_index('starttime')#index on starttime date and time stamp\n",
    "    data['weekday']=data.index.strftime('%A') #create column for day of the week\n",
    "    data['weekend'] = np.where((data['weekday']=='Saturday') | (data['weekday']=='Sunday'), 1, 0) #create column for weekend indicator where 1=weekend and 0=weekday \n",
    "    data['fracTime']=data.index.hour + (data.index.minute/60) #convert time to fraction for histograms\n",
    "    data=data.reset_index()\n",
    "    data19_20[indx]=data"
   ]
  },
  {
   "cell_type": "code",
   "execution_count": 71,
   "metadata": {},
   "outputs": [
    {
     "data": {
      "image/png": "[encoded data removed]",
      "text/plain": [
       "<Figure size 720x360 with 1 Axes>"
      ]
     },
     "metadata": {
      "needs_background": "light"
     },
     "output_type": "display_data"
    }
   ],
   "source": [
    "Hrs2019_2020 = pd.DataFrame(columns = months2y,index=range(most_monthly_rides))\n",
    "\n",
    "#fill the dataframe by pulling the Time (as a number out of 24) columns from each month's data\n",
    "for indx, data in enumerate(data19_20):\n",
    "    Hrs2019_2020[months2y[indx]] = data['fracTime']\n",
    "\n",
    "# Create an animated histogram displaying the distribution of the rides (bike traffic)across hours of the day each month.\n",
    "from IPython.display import clear_output\n",
    "import time\n",
    "for x in Hrs2019_2020.columns:\n",
    "    clear_output(wait=True)\n",
    "    plt.figure(figsize=(10,5))\n",
    "    rainbow(plt.hist(Hrs2019_2020[x], bins=24, color='red', edgecolor='black', density='true'))\n",
    "    plt.axis((0, 24, 0, .15))\n",
    "    plt.ylabel('Proportion of rides')\n",
    "    plt.xlabel('Time of Day')\n",
    "    plt.title(x)\n",
    "    plt.show() \n",
    "    \n",
    "    time.sleep(1.0)"
   ]
  },
  {
   "cell_type": "code",
   "execution_count": 72,
   "metadata": {},
   "outputs": [],
   "source": [
    "weekend_timeofDay = pd.DataFrame(columns = months2y,index=range(most_monthly_rides))\n",
    "weekday_timeofDay = pd.DataFrame(columns = months2y,index=range(most_monthly_rides))\n",
    "\n",
    "sub_timeofDay = pd.DataFrame(columns = months2y,index=range(most_monthly_rides))\n",
    "cust_timeofDay = pd.DataFrame(columns = months2y,index=range(most_monthly_rides))\n",
    "\n",
    "#fill the dataframes by pulling the fraction time columns from each month's data\n",
    "for indx, data in enumerate(data19_20):\n",
    "    weekend_timeofDay[months2y[indx]] = data.loc[(data['weekend'] == 1), 'fracTime']\n",
    "    weekday_timeofDay[months2y[indx]] = data.loc[(data['weekend'] == 0) ,'fracTime']\n",
    "    \n",
    "for indx, data in enumerate(data19_20):\n",
    "    sub_timeofDay[months2y[indx]] = data.loc[(data['usertype'] == 'Subscriber'), 'fracTime']\n",
    "    cust_timeofDay[months2y[indx]] = data.loc[(data['usertype'] == 'Customer') ,'fracTime']"
   ]
  },
  {
   "cell_type": "code",
   "execution_count": 73,
   "metadata": {},
   "outputs": [
    {
     "data": {
      "image/png": "[encoded data removed]",
      "text/plain": [
       "<Figure size 720x360 with 1 Axes>"
      ]
     },
     "metadata": {
      "needs_background": "light"
     },
     "output_type": "display_data"
    }
   ],
   "source": [
    "# Create an animated histogram displaying tie distribution of the rides by weekend vs weekday\n",
    "\n",
    "for x in weekend_timeofDay.columns:\n",
    "    clear_output(wait=True)\n",
    "    plt.figure(figsize=(10,5))\n",
    "    plt.hist(weekend_timeofDay[x], bins=24, color='red', edgecolor='black', alpha=0.5, density='true')\n",
    "    plt.hist(weekday_timeofDay[x], bins=24, color='skyblue', edgecolor='black', alpha=0.5, density='true')\n",
    "    plt.axis((0, 24, 0, .15))\n",
    "    plt.ylabel('Proportion of rides')\n",
    "    plt.xlabel('Time of Day')\n",
    "    plt.title(x)\n",
    "    plt.show() \n",
    "    \n",
    "    time.sleep(1.0)"
   ]
  },
  {
   "cell_type": "markdown",
   "metadata": {},
   "source": [
    "The distribution of rides across hours of the day on weekdays is bimodal, as bike traffic seems to be heaviest between the hours of 8AM and 9AM--presumably as commuters make their way to work--and between the hours of 5 PM and 6 PM as they return from work. This is distinctly different from the more normally distibuted bike traffic during the weekend. This pattern is consistent across months until April 2020. In April 2020 and May 2020, the distribution of weekdays loses its bimodal appearance and converges towards to normal distribution of the weekend. As the shift of weekday distribution coincides with the start of the pandemic, a reasonable explanation for this change is the adoption of remote working by many workplace in New York City.  "
   ]
  },
  {
   "cell_type": "code",
   "execution_count": 74,
   "metadata": {},
   "outputs": [
    {
     "data": {
      "image/png": "[encoded data removed]",
      "text/plain": [
       "<Figure size 720x360 with 1 Axes>"
      ]
     },
     "metadata": {
      "needs_background": "light"
     },
     "output_type": "display_data"
    }
   ],
   "source": [
    "# Create an animated histogram displaying tie distribution of the rides by usertype\n",
    "\n",
    "for x in sub_timeofDay.columns:\n",
    "    clear_output(wait=True)\n",
    "    plt.figure(figsize=(10,5))\n",
    "    plt.hist(cust_timeofDay[x], bins=24, color='red', edgecolor='black', alpha=0.5, density='true')\n",
    "    plt.hist(sub_timeofDay[x], bins=24, color='skyblue', edgecolor='black', alpha=0.5, density='true')\n",
    "    plt.axis((0, 24, 0, .15))\n",
    "    plt.ylabel('Proportion of rides')\n",
    "    plt.xlabel('Time of Day')\n",
    "    plt.title(x)\n",
    "    plt.show() \n",
    "    \n",
    "    time.sleep(1.0)"
   ]
  },
  {
   "cell_type": "markdown",
   "metadata": {},
   "source": [
    "The distribution of rides across hours of the day for subscribers is bimodal while the distribution for casual riders appears to be normal. This closely mirrors the the patterns observed for weekday vs weekend traffic, suggesting that most weekday riders are subscribers riding to and from work, while weekend riders are more often casual users. Indeed, the shift observed in April 2020 for the weekday vs weekend distributions is again present in the distributions by usertype with the subscriber distribution losing its bimodality in April and May of 2020 and appearing to converge to the distribution of casual users. "
   ]
  },
  {
   "cell_type": "markdown",
   "metadata": {},
   "source": [
    "**2.7 How did average ride duration change over time?**"
   ]
  },
  {
   "cell_type": "code",
   "execution_count": 75,
   "metadata": {},
   "outputs": [],
   "source": [
    "df_copy=df.set_index(\"starttime\")"
   ]
  },
  {
   "cell_type": "code",
   "execution_count": 76,
   "metadata": {},
   "outputs": [
    {
     "data": {
      "text/html": [
       "<div>\n",
       "<style scoped>\n",
       "    .dataframe tbody tr th:only-of-type {\n",
       "        vertical-align: middle;\n",
       "    }\n",
       "\n",
       "    .dataframe tbody tr th {\n",
       "        vertical-align: top;\n",
       "    }\n",
       "\n",
       "    .dataframe thead th {\n",
       "        text-align: right;\n",
       "    }\n",
       "</style>\n",
       "<table border=\"1\" class=\"dataframe\">\n",
       "  <thead>\n",
       "    <tr style=\"text-align: right;\">\n",
       "      <th></th>\n",
       "      <th>tripduration</th>\n",
       "      <th>stoptime</th>\n",
       "      <th>start station id</th>\n",
       "      <th>start station name</th>\n",
       "      <th>start station latitude</th>\n",
       "      <th>start station longitude</th>\n",
       "      <th>end station id</th>\n",
       "      <th>end station name</th>\n",
       "      <th>end station latitude</th>\n",
       "      <th>end station longitude</th>\n",
       "      <th>bikeid</th>\n",
       "      <th>usertype</th>\n",
       "      <th>birth year</th>\n",
       "      <th>gender</th>\n",
       "      <th>age</th>\n",
       "      <th>year</th>\n",
       "      <th>starthour</th>\n",
       "      <th>stophour</th>\n",
       "    </tr>\n",
       "    <tr>\n",
       "      <th>starttime</th>\n",
       "      <th></th>\n",
       "      <th></th>\n",
       "      <th></th>\n",
       "      <th></th>\n",
       "      <th></th>\n",
       "      <th></th>\n",
       "      <th></th>\n",
       "      <th></th>\n",
       "      <th></th>\n",
       "      <th></th>\n",
       "      <th></th>\n",
       "      <th></th>\n",
       "      <th></th>\n",
       "      <th></th>\n",
       "      <th></th>\n",
       "      <th></th>\n",
       "      <th></th>\n",
       "      <th></th>\n",
       "    </tr>\n",
       "  </thead>\n",
       "  <tbody>\n",
       "    <tr>\n",
       "      <th>2019-01-01 00:01:47.401</th>\n",
       "      <td>320</td>\n",
       "      <td>2019-01-01 00:07:07.581</td>\n",
       "      <td>3160.0</td>\n",
       "      <td>Central Park West &amp; W 76 St</td>\n",
       "      <td>40.778968</td>\n",
       "      <td>-73.973747</td>\n",
       "      <td>3283.0</td>\n",
       "      <td>W 89 St &amp; Columbus Ave</td>\n",
       "      <td>40.788221</td>\n",
       "      <td>-73.970416</td>\n",
       "      <td>15839</td>\n",
       "      <td>Subscriber</td>\n",
       "      <td>1971</td>\n",
       "      <td>1</td>\n",
       "      <td>48</td>\n",
       "      <td>2019</td>\n",
       "      <td>0</td>\n",
       "      <td>0</td>\n",
       "    </tr>\n",
       "    <tr>\n",
       "      <th>2019-01-01 00:04:43.736</th>\n",
       "      <td>316</td>\n",
       "      <td>2019-01-01 00:10:00.608</td>\n",
       "      <td>519.0</td>\n",
       "      <td>Pershing Square North</td>\n",
       "      <td>40.751873</td>\n",
       "      <td>-73.977706</td>\n",
       "      <td>518.0</td>\n",
       "      <td>E 39 St &amp; 2 Ave</td>\n",
       "      <td>40.747804</td>\n",
       "      <td>-73.973442</td>\n",
       "      <td>32723</td>\n",
       "      <td>Subscriber</td>\n",
       "      <td>1964</td>\n",
       "      <td>1</td>\n",
       "      <td>55</td>\n",
       "      <td>2019</td>\n",
       "      <td>0</td>\n",
       "      <td>0</td>\n",
       "    </tr>\n",
       "    <tr>\n",
       "      <th>2019-01-01 00:06:03.997</th>\n",
       "      <td>591</td>\n",
       "      <td>2019-01-01 00:15:55.438</td>\n",
       "      <td>3171.0</td>\n",
       "      <td>Amsterdam Ave &amp; W 82 St</td>\n",
       "      <td>40.785247</td>\n",
       "      <td>-73.976673</td>\n",
       "      <td>3154.0</td>\n",
       "      <td>E 77 St &amp; 3 Ave</td>\n",
       "      <td>40.773142</td>\n",
       "      <td>-73.958562</td>\n",
       "      <td>27451</td>\n",
       "      <td>Subscriber</td>\n",
       "      <td>1987</td>\n",
       "      <td>1</td>\n",
       "      <td>32</td>\n",
       "      <td>2019</td>\n",
       "      <td>0</td>\n",
       "      <td>0</td>\n",
       "    </tr>\n",
       "    <tr>\n",
       "      <th>2019-01-01 00:07:03.545</th>\n",
       "      <td>2719</td>\n",
       "      <td>2019-01-01 00:52:22.650</td>\n",
       "      <td>504.0</td>\n",
       "      <td>1 Ave &amp; E 16 St</td>\n",
       "      <td>40.732219</td>\n",
       "      <td>-73.981656</td>\n",
       "      <td>3709.0</td>\n",
       "      <td>W 15 St &amp; 6 Ave</td>\n",
       "      <td>40.738046</td>\n",
       "      <td>-73.996430</td>\n",
       "      <td>21579</td>\n",
       "      <td>Subscriber</td>\n",
       "      <td>1990</td>\n",
       "      <td>1</td>\n",
       "      <td>29</td>\n",
       "      <td>2019</td>\n",
       "      <td>0</td>\n",
       "      <td>0</td>\n",
       "    </tr>\n",
       "    <tr>\n",
       "      <th>2019-01-01 00:07:35.945</th>\n",
       "      <td>303</td>\n",
       "      <td>2019-01-01 00:12:39.502</td>\n",
       "      <td>229.0</td>\n",
       "      <td>Great Jones St</td>\n",
       "      <td>40.727434</td>\n",
       "      <td>-73.993790</td>\n",
       "      <td>503.0</td>\n",
       "      <td>E 20 St &amp; Park Ave</td>\n",
       "      <td>40.738274</td>\n",
       "      <td>-73.987520</td>\n",
       "      <td>35379</td>\n",
       "      <td>Subscriber</td>\n",
       "      <td>1979</td>\n",
       "      <td>1</td>\n",
       "      <td>40</td>\n",
       "      <td>2019</td>\n",
       "      <td>0</td>\n",
       "      <td>0</td>\n",
       "    </tr>\n",
       "    <tr>\n",
       "      <th>...</th>\n",
       "      <td>...</td>\n",
       "      <td>...</td>\n",
       "      <td>...</td>\n",
       "      <td>...</td>\n",
       "      <td>...</td>\n",
       "      <td>...</td>\n",
       "      <td>...</td>\n",
       "      <td>...</td>\n",
       "      <td>...</td>\n",
       "      <td>...</td>\n",
       "      <td>...</td>\n",
       "      <td>...</td>\n",
       "      <td>...</td>\n",
       "      <td>...</td>\n",
       "      <td>...</td>\n",
       "      <td>...</td>\n",
       "      <td>...</td>\n",
       "      <td>...</td>\n",
       "    </tr>\n",
       "    <tr>\n",
       "      <th>2020-12-31 23:58:21.704</th>\n",
       "      <td>2045</td>\n",
       "      <td>2021-01-01 00:32:27.157</td>\n",
       "      <td>526.0</td>\n",
       "      <td>E 33 St &amp; 5 Ave</td>\n",
       "      <td>40.747659</td>\n",
       "      <td>-73.984907</td>\n",
       "      <td>3614.0</td>\n",
       "      <td>Crescent St &amp; 30 Ave</td>\n",
       "      <td>40.768692</td>\n",
       "      <td>-73.924957</td>\n",
       "      <td>36467</td>\n",
       "      <td>Subscriber</td>\n",
       "      <td>1994</td>\n",
       "      <td>1</td>\n",
       "      <td>26</td>\n",
       "      <td>2020</td>\n",
       "      <td>23</td>\n",
       "      <td>0</td>\n",
       "    </tr>\n",
       "    <tr>\n",
       "      <th>2020-12-31 23:58:37.840</th>\n",
       "      <td>288</td>\n",
       "      <td>2021-01-01 00:03:26.325</td>\n",
       "      <td>3307.0</td>\n",
       "      <td>West End Ave &amp; W 94 St</td>\n",
       "      <td>40.794165</td>\n",
       "      <td>-73.974124</td>\n",
       "      <td>3383.0</td>\n",
       "      <td>Cathedral Pkwy &amp; Broadway</td>\n",
       "      <td>40.804213</td>\n",
       "      <td>-73.966991</td>\n",
       "      <td>47749</td>\n",
       "      <td>Subscriber</td>\n",
       "      <td>1969</td>\n",
       "      <td>0</td>\n",
       "      <td>51</td>\n",
       "      <td>2020</td>\n",
       "      <td>23</td>\n",
       "      <td>0</td>\n",
       "    </tr>\n",
       "    <tr>\n",
       "      <th>2020-12-31 23:58:52.809</th>\n",
       "      <td>152</td>\n",
       "      <td>2021-01-01 00:01:25.672</td>\n",
       "      <td>3510.0</td>\n",
       "      <td>Adam Clayton Powell Blvd &amp; W 123 St</td>\n",
       "      <td>40.807832</td>\n",
       "      <td>-73.949373</td>\n",
       "      <td>3518.0</td>\n",
       "      <td>Lenox Ave &amp; W 126 St</td>\n",
       "      <td>40.808442</td>\n",
       "      <td>-73.945209</td>\n",
       "      <td>48691</td>\n",
       "      <td>Customer</td>\n",
       "      <td>1969</td>\n",
       "      <td>0</td>\n",
       "      <td>51</td>\n",
       "      <td>2020</td>\n",
       "      <td>23</td>\n",
       "      <td>0</td>\n",
       "    </tr>\n",
       "    <tr>\n",
       "      <th>2020-12-31 23:59:55.955</th>\n",
       "      <td>654</td>\n",
       "      <td>2021-01-01 00:10:50.605</td>\n",
       "      <td>4073.0</td>\n",
       "      <td>W 51 St &amp; Rockefeller Plaza</td>\n",
       "      <td>40.759700</td>\n",
       "      <td>-73.978082</td>\n",
       "      <td>500.0</td>\n",
       "      <td>Broadway &amp; W 51 St</td>\n",
       "      <td>40.762288</td>\n",
       "      <td>-73.983362</td>\n",
       "      <td>49564</td>\n",
       "      <td>Subscriber</td>\n",
       "      <td>1994</td>\n",
       "      <td>1</td>\n",
       "      <td>26</td>\n",
       "      <td>2020</td>\n",
       "      <td>23</td>\n",
       "      <td>0</td>\n",
       "    </tr>\n",
       "    <tr>\n",
       "      <th>2020-12-31 23:59:57.407</th>\n",
       "      <td>2589</td>\n",
       "      <td>2021-01-01 00:43:06.449</td>\n",
       "      <td>3581.0</td>\n",
       "      <td>Underhill Ave &amp; Lincoln Pl</td>\n",
       "      <td>40.674012</td>\n",
       "      <td>-73.967146</td>\n",
       "      <td>3581.0</td>\n",
       "      <td>Underhill Ave &amp; Lincoln Pl</td>\n",
       "      <td>40.674012</td>\n",
       "      <td>-73.967146</td>\n",
       "      <td>47364</td>\n",
       "      <td>Customer</td>\n",
       "      <td>1969</td>\n",
       "      <td>0</td>\n",
       "      <td>51</td>\n",
       "      <td>2020</td>\n",
       "      <td>23</td>\n",
       "      <td>0</td>\n",
       "    </tr>\n",
       "  </tbody>\n",
       "</table>\n",
       "<p>40007111 rows × 18 columns</p>\n",
       "</div>"
      ],
      "text/plain": [
       "                         tripduration                stoptime  \\\n",
       "starttime                                                       \n",
       "2019-01-01 00:01:47.401           320 2019-01-01 00:07:07.581   \n",
       "2019-01-01 00:04:43.736           316 2019-01-01 00:10:00.608   \n",
       "2019-01-01 00:06:03.997           591 2019-01-01 00:15:55.438   \n",
       "2019-01-01 00:07:03.545          2719 2019-01-01 00:52:22.650   \n",
       "2019-01-01 00:07:35.945           303 2019-01-01 00:12:39.502   \n",
       "...                               ...                     ...   \n",
       "2020-12-31 23:58:21.704          2045 2021-01-01 00:32:27.157   \n",
       "2020-12-31 23:58:37.840           288 2021-01-01 00:03:26.325   \n",
       "2020-12-31 23:58:52.809           152 2021-01-01 00:01:25.672   \n",
       "2020-12-31 23:59:55.955           654 2021-01-01 00:10:50.605   \n",
       "2020-12-31 23:59:57.407          2589 2021-01-01 00:43:06.449   \n",
       "\n",
       "                         start station id  \\\n",
       "starttime                                   \n",
       "2019-01-01 00:01:47.401            3160.0   \n",
       "2019-01-01 00:04:43.736             519.0   \n",
       "2019-01-01 00:06:03.997            3171.0   \n",
       "2019-01-01 00:07:03.545             504.0   \n",
       "2019-01-01 00:07:35.945             229.0   \n",
       "...                                   ...   \n",
       "2020-12-31 23:58:21.704             526.0   \n",
       "2020-12-31 23:58:37.840            3307.0   \n",
       "2020-12-31 23:58:52.809            3510.0   \n",
       "2020-12-31 23:59:55.955            4073.0   \n",
       "2020-12-31 23:59:57.407            3581.0   \n",
       "\n",
       "                                          start station name  \\\n",
       "starttime                                                      \n",
       "2019-01-01 00:01:47.401          Central Park West & W 76 St   \n",
       "2019-01-01 00:04:43.736                Pershing Square North   \n",
       "2019-01-01 00:06:03.997              Amsterdam Ave & W 82 St   \n",
       "2019-01-01 00:07:03.545                      1 Ave & E 16 St   \n",
       "2019-01-01 00:07:35.945                       Great Jones St   \n",
       "...                                                      ...   \n",
       "2020-12-31 23:58:21.704                      E 33 St & 5 Ave   \n",
       "2020-12-31 23:58:37.840               West End Ave & W 94 St   \n",
       "2020-12-31 23:58:52.809  Adam Clayton Powell Blvd & W 123 St   \n",
       "2020-12-31 23:59:55.955          W 51 St & Rockefeller Plaza   \n",
       "2020-12-31 23:59:57.407           Underhill Ave & Lincoln Pl   \n",
       "\n",
       "                         start station latitude  start station longitude  \\\n",
       "starttime                                                                  \n",
       "2019-01-01 00:01:47.401               40.778968               -73.973747   \n",
       "2019-01-01 00:04:43.736               40.751873               -73.977706   \n",
       "2019-01-01 00:06:03.997               40.785247               -73.976673   \n",
       "2019-01-01 00:07:03.545               40.732219               -73.981656   \n",
       "2019-01-01 00:07:35.945               40.727434               -73.993790   \n",
       "...                                         ...                      ...   \n",
       "2020-12-31 23:58:21.704               40.747659               -73.984907   \n",
       "2020-12-31 23:58:37.840               40.794165               -73.974124   \n",
       "2020-12-31 23:58:52.809               40.807832               -73.949373   \n",
       "2020-12-31 23:59:55.955               40.759700               -73.978082   \n",
       "2020-12-31 23:59:57.407               40.674012               -73.967146   \n",
       "\n",
       "                         end station id            end station name  \\\n",
       "starttime                                                             \n",
       "2019-01-01 00:01:47.401          3283.0      W 89 St & Columbus Ave   \n",
       "2019-01-01 00:04:43.736           518.0             E 39 St & 2 Ave   \n",
       "2019-01-01 00:06:03.997          3154.0             E 77 St & 3 Ave   \n",
       "2019-01-01 00:07:03.545          3709.0             W 15 St & 6 Ave   \n",
       "2019-01-01 00:07:35.945           503.0          E 20 St & Park Ave   \n",
       "...                                 ...                         ...   \n",
       "2020-12-31 23:58:21.704          3614.0        Crescent St & 30 Ave   \n",
       "2020-12-31 23:58:37.840          3383.0   Cathedral Pkwy & Broadway   \n",
       "2020-12-31 23:58:52.809          3518.0        Lenox Ave & W 126 St   \n",
       "2020-12-31 23:59:55.955           500.0          Broadway & W 51 St   \n",
       "2020-12-31 23:59:57.407          3581.0  Underhill Ave & Lincoln Pl   \n",
       "\n",
       "                         end station latitude  end station longitude  bikeid  \\\n",
       "starttime                                                                      \n",
       "2019-01-01 00:01:47.401             40.788221             -73.970416   15839   \n",
       "2019-01-01 00:04:43.736             40.747804             -73.973442   32723   \n",
       "2019-01-01 00:06:03.997             40.773142             -73.958562   27451   \n",
       "2019-01-01 00:07:03.545             40.738046             -73.996430   21579   \n",
       "2019-01-01 00:07:35.945             40.738274             -73.987520   35379   \n",
       "...                                       ...                    ...     ...   \n",
       "2020-12-31 23:58:21.704             40.768692             -73.924957   36467   \n",
       "2020-12-31 23:58:37.840             40.804213             -73.966991   47749   \n",
       "2020-12-31 23:58:52.809             40.808442             -73.945209   48691   \n",
       "2020-12-31 23:59:55.955             40.762288             -73.983362   49564   \n",
       "2020-12-31 23:59:57.407             40.674012             -73.967146   47364   \n",
       "\n",
       "                           usertype  birth year  gender  age  year  starthour  \\\n",
       "starttime                                                                       \n",
       "2019-01-01 00:01:47.401  Subscriber        1971       1   48  2019          0   \n",
       "2019-01-01 00:04:43.736  Subscriber        1964       1   55  2019          0   \n",
       "2019-01-01 00:06:03.997  Subscriber        1987       1   32  2019          0   \n",
       "2019-01-01 00:07:03.545  Subscriber        1990       1   29  2019          0   \n",
       "2019-01-01 00:07:35.945  Subscriber        1979       1   40  2019          0   \n",
       "...                             ...         ...     ...  ...   ...        ...   \n",
       "2020-12-31 23:58:21.704  Subscriber        1994       1   26  2020         23   \n",
       "2020-12-31 23:58:37.840  Subscriber        1969       0   51  2020         23   \n",
       "2020-12-31 23:58:52.809    Customer        1969       0   51  2020         23   \n",
       "2020-12-31 23:59:55.955  Subscriber        1994       1   26  2020         23   \n",
       "2020-12-31 23:59:57.407    Customer        1969       0   51  2020         23   \n",
       "\n",
       "                         stophour  \n",
       "starttime                          \n",
       "2019-01-01 00:01:47.401         0  \n",
       "2019-01-01 00:04:43.736         0  \n",
       "2019-01-01 00:06:03.997         0  \n",
       "2019-01-01 00:07:03.545         0  \n",
       "2019-01-01 00:07:35.945         0  \n",
       "...                           ...  \n",
       "2020-12-31 23:58:21.704         0  \n",
       "2020-12-31 23:58:37.840         0  \n",
       "2020-12-31 23:58:52.809         0  \n",
       "2020-12-31 23:59:55.955         0  \n",
       "2020-12-31 23:59:57.407         0  \n",
       "\n",
       "[40007111 rows x 18 columns]"
      ]
     },
     "execution_count": 76,
     "metadata": {},
     "output_type": "execute_result"
    }
   ],
   "source": [
    "df_copy"
   ]
  },
  {
   "cell_type": "code",
   "execution_count": 77,
   "metadata": {
    "scrolled": true
   },
   "outputs": [
    {
     "data": {
      "image/png": "[encoded data removed]",
      "text/plain": [
       "<Figure size 432x288 with 1 Axes>"
      ]
     },
     "metadata": {
      "needs_background": "light"
     },
     "output_type": "display_data"
    }
   ],
   "source": [
    "weekly = df_copy['tripduration'].resample('W').mean()\n",
    "weekly.plot(style=['-'])\n",
    "plt.ylabel('Weekly Average Trip Duration');"
   ]
  },
  {
   "cell_type": "markdown",
   "metadata": {},
   "source": [
    "In April 2020, the average trip duration greatly increased (both from the previous month and as compared to April 2019). Average trip duration remained high for the following months of the pandemic and through to the fall when ride duration, as is seasonally typical, decreased.  Despite this decrease in trip length, average trip duration remained markedly higher as compared to the same time period in the previous year."
   ]
  },
  {
   "cell_type": "markdown",
   "metadata": {},
   "source": [
    "<u><h2> **Appendix: Further Exploration with Hypothesis Testing**</u></h2>"
   ]
  },
  {
   "cell_type": "markdown",
   "metadata": {
    "id": "kYsiaJJjT77M"
   },
   "source": [
    "**Hypothesis tests for April 2019 and April 2020**\n",
    "Consider a significance level of 0.005"
   ]
  },
  {
   "cell_type": "code",
   "execution_count": 78,
   "metadata": {},
   "outputs": [],
   "source": [
    "#relevant data\n",
    "data419 = pd.read_csv('201904-citibike-tripdata.csv')\n",
    "data420 = pd.read_csv('202004-citibike-tripdata.csv')"
   ]
  },
  {
   "cell_type": "code",
   "execution_count": 79,
   "metadata": {},
   "outputs": [],
   "source": [
    "#relevant data cleaning\n",
    "datas = [data419, data420]\n",
    "for data in datas:\n",
    "    data['birth year'] = data['birth year'].astype(int)\n",
    "    data['age'] = int(data['starttime'][0][:4]) - data['birth year']\n",
    "    data19_20[indx] = data[(data['age'] <= 100) & (data['tripduration'] <= 36000)]"
   ]
  },
  {
   "cell_type": "code",
   "execution_count": 80,
   "metadata": {
    "id": "fwVcJ_fKTYdv"
   },
   "outputs": [
    {
     "name": "stdout",
     "output_type": "stream",
     "text": [
      "MannwhitneyuResult(statistic=451199407294.0, pvalue=0.0)\n",
      "MannwhitneyuResult(statistic=451199407294.0, pvalue=1.0)\n",
      "MannwhitneyuResult(statistic=451199407294.0, pvalue=0.0)\n"
     ]
    }
   ],
   "source": [
    "#April 2019 compared to April 2020 Trip Duration Mann Whitney U Test\n",
    "\n",
    "tripduration2020=np.array(data420['tripduration'])\n",
    "tripduration2019=np.array(data419['tripduration'])\n",
    "\n",
    "tripduration2019 = tripduration2019[np.isfinite(tripduration2019)]\n",
    "tripduration2020 = tripduration2020[np.isfinite(tripduration2020)]\n",
    "\n",
    "from scipy import stats\n",
    "\n",
    "print(stats.mannwhitneyu(tripduration2019,tripduration2020))\n",
    "\n",
    "print(stats.mannwhitneyu(tripduration2019,tripduration2020, alternative='greater'))\n",
    "\n",
    "print(stats.mannwhitneyu(tripduration2019,tripduration2020, alternative='less'))"
   ]
  },
  {
   "cell_type": "code",
   "execution_count": 81,
   "metadata": {
    "id": "muL1OJJBTeGg"
   },
   "outputs": [
    {
     "name": "stdout",
     "output_type": "stream",
     "text": [
      "MannwhitneyuResult(statistic=571436309033.5, pvalue=0.0)\n",
      "MannwhitneyuResult(statistic=571436309033.5, pvalue=1.0)\n",
      "MannwhitneyuResult(statistic=571436309033.5, pvalue=0.0)\n"
     ]
    }
   ],
   "source": [
    "#April 2019 compared to April 2020 Age Mann Whitney U Test\n",
    "\n",
    "age2020=np.array(data420['age'])\n",
    "age2019=np.array(data419['age'])\n",
    "\n",
    "age2019 = age2019[np.isfinite(age2019)]\n",
    "age2020 = age2020[np.isfinite(age2020)]\n",
    "\n",
    "print(stats.mannwhitneyu(age2019,age2020))\n",
    "\n",
    "print(stats.mannwhitneyu(age2019,age2020, alternative='greater'))\n",
    "\n",
    "print(stats.mannwhitneyu(age2019,age2020, alternative='less'))"
   ]
  },
  {
   "cell_type": "code",
   "execution_count": 82,
   "metadata": {
    "id": "JwZdKQihTg5N"
   },
   "outputs": [
    {
     "name": "stdout",
     "output_type": "stream",
     "text": [
      "MannwhitneyuResult(statistic=34359173836.0, pvalue=0.0)\n",
      "MannwhitneyuResult(statistic=34359173836.0, pvalue=1.0)\n",
      "MannwhitneyuResult(statistic=34359173836.0, pvalue=0.0)\n"
     ]
    }
   ],
   "source": [
    "#Trip Duration by Gender Hypothesis Testing April 2020\n",
    "\n",
    "dfmale=data420[data420['gender']==1]\n",
    "\n",
    "dffemale=data420[data420['gender']==2]\n",
    "\n",
    "tripdurationfemale=np.array(dfmale['tripduration'])\n",
    "tripdurationmale=np.array(dffemale['tripduration'])\n",
    "\n",
    "tripdurationfemale = tripdurationfemale[np.isfinite(tripdurationfemale)]\n",
    "tripdurationmale = tripdurationmale[np.isfinite(tripdurationmale)]\n",
    "\n",
    "print(stats.mannwhitneyu(tripdurationfemale,tripdurationmale))\n",
    "\n",
    "print(stats.mannwhitneyu(tripdurationfemale,tripdurationmale, alternative='greater'))\n",
    "\n",
    "print(stats.mannwhitneyu(tripdurationfemale,tripdurationmale, alternative='less'))"
   ]
  },
  {
   "cell_type": "code",
   "execution_count": 83,
   "metadata": {
    "id": "PXT7cWwRTlQ2"
   },
   "outputs": [
    {
     "name": "stdout",
     "output_type": "stream",
     "text": [
      "MannwhitneyuResult(statistic=43356167482.0, pvalue=0.0)\n",
      "MannwhitneyuResult(statistic=43356167482.0, pvalue=0.0)\n",
      "MannwhitneyuResult(statistic=43356167482.0, pvalue=1.0)\n"
     ]
    }
   ],
   "source": [
    "#Age Hypothesis Testing by Gender April 2020\n",
    "\n",
    "agefemale=np.array(dfmale['age'])\n",
    "agemale=np.array(dffemale['age'])\n",
    "\n",
    "agefemale = agefemale[np.isfinite(agefemale)]\n",
    "tripdurationmale = agemale[np.isfinite(agemale)]\n",
    "\n",
    "print(stats.mannwhitneyu(agefemale,agemale))\n",
    "\n",
    "print(stats.mannwhitneyu(agefemale,agemale, alternative='greater'))\n",
    "\n",
    "print(stats.mannwhitneyu(agefemale,agemale, alternative='less'))"
   ]
  },
  {
   "cell_type": "code",
   "execution_count": 84,
   "metadata": {
    "id": "0j-t0Ti3TowE"
   },
   "outputs": [
    {
     "name": "stdout",
     "output_type": "stream",
     "text": [
      "MannwhitneyuResult(statistic=27376881647.0, pvalue=0.0)\n",
      "MannwhitneyuResult(statistic=27376881647.0, pvalue=1.0)\n",
      "MannwhitneyuResult(statistic=27376881647.0, pvalue=0.0)\n"
     ]
    }
   ],
   "source": [
    "#Duration Hypothesis Testing by Customer Type April 2020\n",
    "\n",
    "dfsub=data420[data420['usertype']=='Subscriber']\n",
    "dfcust=data420[data420['usertype']=='Customer']\n",
    "\n",
    "subduration=np.array(dfsub['tripduration'])\n",
    "custduration=np.array(dfcust['tripduration'])\n",
    "\n",
    "subduration = subduration[np.isfinite(subduration)]\n",
    "tripdurationmale = custduration[np.isfinite(custduration)]\n",
    "\n",
    "print(stats.mannwhitneyu(subduration, custduration))\n",
    "\n",
    "print(stats.mannwhitneyu(subduration, custduration, alternative='greater'))\n",
    "\n",
    "print(stats.mannwhitneyu(subduration, custduration, alternative='less'))"
   ]
  },
  {
   "cell_type": "code",
   "execution_count": 85,
   "metadata": {
    "id": "r4B0fNi8Ts8P"
   },
   "outputs": [
    {
     "name": "stdout",
     "output_type": "stream",
     "text": [
      "MannwhitneyuResult(statistic=43722902345.5, pvalue=2.547844133616456e-29)\n",
      "MannwhitneyuResult(statistic=43722902345.5, pvalue=1.273922066808228e-29)\n",
      "MannwhitneyuResult(statistic=43722902345.5, pvalue=1.0)\n"
     ]
    }
   ],
   "source": [
    "#Age Hypothesis Testing by Customer Type April 2020\n",
    "\n",
    "subage=np.array(dfsub['age'])\n",
    "custage=np.array(dfcust['age'])\n",
    "\n",
    "subage = subage[np.isfinite(subage)]\n",
    "custage = custage[np.isfinite(custage)]\n",
    "\n",
    "print(stats.mannwhitneyu(subage,custage))\n",
    "\n",
    "print(stats.mannwhitneyu(subage,custage, alternative='greater'))\n",
    "\n",
    "print(stats.mannwhitneyu(subage,custage, alternative='less'))"
   ]
  },
  {
   "cell_type": "code",
   "execution_count": 86,
   "metadata": {},
   "outputs": [
    {
     "name": "stdout",
     "output_type": "stream",
     "text": [
      "MannwhitneyuResult(statistic=43722902345.5, pvalue=2.547844133616456e-29)\n",
      "MannwhitneyuResult(statistic=43722902345.5, pvalue=1.273922066808228e-29)\n",
      "MannwhitneyuResult(statistic=43722902345.5, pvalue=1.0)\n"
     ]
    }
   ],
   "source": [
    "#Age Hypothesis Testing by Customer Type April 2020\n",
    "\n",
    "subage=np.array(dfsub['age'])\n",
    "custage=np.array(dfcust['age'])\n",
    "\n",
    "subage = subage[np.isfinite(subage)]\n",
    "custage = custage[np.isfinite(custage)]\n",
    "\n",
    "print(stats.mannwhitneyu(subage,custage))\n",
    "\n",
    "print(stats.mannwhitneyu(subage,custage, alternative='greater'))\n",
    "\n",
    "print(stats.mannwhitneyu(subage,custage, alternative='less'))"
   ]
  },
  {
   "cell_type": "code",
   "execution_count": null,
   "metadata": {},
   "outputs": [],
   "source": []
  }
 ],
 "metadata": {
  "colab": {
   "collapsed_sections": [],
   "name": "Citibike_project.ipynb",
   "provenance": []
  },
  "kernelspec": {
   "display_name": "Python 3",
   "language": "python",
   "name": "python3"
  },
  "language_info": {
   "codemirror_mode": {
    "name": "ipython",
    "version": 3
   },
   "file_extension": ".py",
   "mimetype": "text/x-python",
   "name": "python",
   "nbconvert_exporter": "python",
   "pygments_lexer": "ipython3",
   "version": "3.8.8"
  }
 },
 "nbformat": 4,
 "nbformat_minor": 1
}
