{
  "cells": [
    {
      "cell_type": "markdown",
      "metadata": {
        "id": "yOV3bQZN_HSE"
      },
      "source": [
        "\n",
        "\n",
        "\n",
        "<h1><font color='Violet'><center>Programming for Data Science Final Project: Analysis of Citibike Activity between 2019 and 2020</h1></font></center>\n",
        "<center>By Jenna Ellis, Isidora Filipovic, Elizabeth Wheeler, Eugenia Fomitcheva, and Kristin Mullaney</center>"
      ]
    },
    {
      "cell_type": "markdown",
      "metadata": {
        "id": "SovGkDjWsQL_"
      },
      "source": [
        "<u><h2>Questions for Analysis</u></h2>"
      ]
    },
    {
      "cell_type": "markdown",
      "metadata": {
        "id": "QpbFueXX_Y7r"
      },
      "source": [
        "<u>**Section 1: Who are Citibike's users?**</u>\n",
        "\n",
        "- 1.1 What is the gender breakdown of our users? Did it shift over time?\n",
        "- 1.2 Do subscribers or casual users take more rides? Has this shifted over time?\n",
        "- 1.3 What is the average age of our users? Did it shift over time? \n",
        "- 1.4 What is the age distribution of our users?\n",
        "- 1.5 What are the demographics of our subscribers as compared to our casual users?\n",
        "\n",
        "<u>**Section 2: How are Citibikes being used?**</u>\n",
        "\n",
        "- 2.1 Has the overall number of trips changed over time?\n",
        "- 2.2 How did average ride duration change over time?\n",
        "- 2.3 What are the most popular stations?\n",
        "- 2.4 What are the most popular routes?\n",
        "- 2.5 Which stations are likely to run out of bikes?\n",
        "- 2.6 What are the most popular times of day to travel?\n",
        "- 2.7 How much is each bike being used each month?\n",
        "\n",
        "\n",
        "\n",
        "---------------------------------------------------------------------------"
      ]
    },
    {
      "cell_type": "markdown",
      "metadata": {
        "id": "LH003nVrxVaN"
      },
      "source": [
        "<u><h2> **Import Data**</h2></u>"
      ]
    },
    {
      "cell_type": "code",
      "execution_count": null,
      "metadata": {
        "id": "dstikTo3rYiL"
      },
      "outputs": [],
      "source": [
        "import pandas as pd\n",
        "import numpy as np\n",
        "import matplotlib.pyplot as plt\n",
        "from matplotlib.pyplot import figure\n",
        "import time\n",
        "from datetime import datetime\n",
        "from dateutil import parser"
      ]
    },
    {
      "cell_type": "markdown",
      "metadata": {
        "id": "JirskTS2sQMC"
      },
      "source": [
        "<u><h2>**Helper Functions**</h2></u>"
      ]
    },
    {
      "cell_type": "code",
      "execution_count": null,
      "metadata": {
        "id": "UT6OQ7ztsQMC"
      },
      "outputs": [],
      "source": [
        "def rainbow(hist):\n",
        "    '''This is a function that turns the bars of a histogram into a rainbow.'''\n",
        "    cm = plt.cm.get_cmap('gist_rainbow')\n",
        "    n, bins, patches = hist\n",
        "    \n",
        "    bin_centers = 0.5 * (bins[:-1] + bins[1:])\n",
        "    col = bin_centers - min(bin_centers)\n",
        "    col /= max(col)\n",
        "\n",
        "    for c, p in zip(col, patches):\n",
        "        plt.setp(p, 'facecolor', cm(c))"
      ]
    },
    {
      "cell_type": "code",
      "execution_count": null,
      "metadata": {
        "id": "0HkNJPNmsQMD"
      },
      "outputs": [],
      "source": [
        "def distribution(dataframe, components,indx):\n",
        "    '''This is a function that returns a dataframe with the percent of each column that each component accounts for.\n",
        "    Note: 'components' has to be in the form of a list object. '''\n",
        "    \n",
        "    # Create an empty dataframe\n",
        "    dist = pd.DataFrame(index = indx, columns = dataframe.columns)\n",
        "    \n",
        "    for col in dataframe.columns:\n",
        "        # Total nonzero elements in a column\n",
        "        total = len(dataframe[col].dropna())\n",
        "        \n",
        "        # For loop to filter for each component and convert to a percentage\n",
        "        dist[col] = [round(len(dataframe[dataframe[col] == comp])/total*100, 2) for comp in components]\n",
        "    return dist"
      ]
    },
    {
      "cell_type": "code",
      "execution_count": null,
      "metadata": {
        "id": "QpOiHYIzsQMD"
      },
      "outputs": [],
      "source": [
        "def plot_rows(dataframe, title, xtitle, xlabels, ytitle):\n",
        "    '''This is a function that takes in a dataframe and returns a plot with each row as a different line. '''\n",
        "    # Set figure size \n",
        "    plt.figure(figsize = (17,5)) \n",
        "    \n",
        "    # Set colormap to cycle through number of components in distribution (aka the number of rows)\n",
        "    colormap = plt.cm.gist_ncar # choose color scheme \n",
        "    plt.gca().set_prop_cycle(plt.cycler('color', plt.cm.jet(np.linspace(0, 1,dataframe.shape[0])))) # set color cycler to cycle through number of rows \n",
        "    \n",
        "    for x in range(dataframe.shape[0]):\n",
        "        plt.plot(dataframe.iloc[x,:].values, label = dataframe.index[x]) # Plot each row\n",
        "    \n",
        "    # Set plot attributes\n",
        "    plt.legend(loc = 'lower right', frameon = True, framealpha= 1)\n",
        "    plt.xlabel(xtitle)\n",
        "    plt.ylabel(ytitle)\n",
        "    plt.title(title)  \n",
        "    plt.xticks(range(0,dataframe.shape[1]),xlabels) # Overlay x axis labels \n",
        "    plt.show()"
      ]
    },
    {
      "cell_type": "markdown",
      "metadata": {
        "id": "TdUOp9m3sQME"
      },
      "source": [
        "<u><h2>**Declarations**</h2></u>"
      ]
    },
    {
      "cell_type": "code",
      "execution_count": null,
      "metadata": {
        "id": "ME9jz7uSsQMF"
      },
      "outputs": [],
      "source": [
        "gen_data = lambda year: [pd.read_csv('%4d%02d-citibike-tripdata.csv' % (year, month)) for month in range(1, 13)]\n",
        "data19_20 = gen_data(2019) + gen_data(2020)"
      ]
    },
    {
      "cell_type": "code",
      "execution_count": null,
      "metadata": {
        "id": "OD5Gn6cisQMF"
      },
      "outputs": [],
      "source": [
        "# Set variables to be used for plots throughout the project\n",
        "months = ['Jan', 'Feb', 'Mar', 'Apr', 'May', 'Jun', 'Jul', 'Aug', 'Sep', 'Oct', 'Nov', 'Dec']\n",
        "months2y =  ['January 2019', 'February 2019', 'March 2019', 'April 2019', 'May 2019', 'June 2019', 'July 2019', 'August 2019', 'September 2019', 'October 2019', 'November 2019', 'December 2019','January 2020', 'February 2020', 'March 2020', 'April 2020', 'May 2020', 'June 2020', 'July 2020', 'August 2020', 'September 2020', 'October 2020', 'November 2020', 'December 2020']\n",
        "short_months2y = ['Jan19','Feb19','Mar19','Apr19','May19', 'Jun19','Jul19','Aug19','Sep19','Oct19','Nov19','Dec19','Jan20','Feb20','Mar20','Apr20','May20','Jun20','Jul20','Aug20','Sep20','Oct20','Nov20','Dec20']"
      ]
    },
    {
      "cell_type": "markdown",
      "metadata": {
        "id": "-O2p7DO5sKEI"
      },
      "source": [
        "<u><h2> **Data Cleaning**</u></h2>\n",
        "\n",
        "Our given dataset was already pre-cleaned. Additionally, we chose to eliminate any rides from riders over the age of 100 as we view these as outliers and any trips with a duration over 10 hours."
      ]
    },
    {
      "cell_type": "code",
      "execution_count": null,
      "metadata": {
        "id": "LGutuRXQsQMG"
      },
      "outputs": [],
      "source": [
        "#Cleanse data \n",
        "for indx, data in enumerate(data19_20):\n",
        "    data['birth year'] = data['birth year'].astype(int)\n",
        "    data['age'] = int(data['starttime'][0][:4]) - data['birth year']\n",
        "    data19_20[indx] = data[(data['age'] <= 100) & (data['tripduration'] <= 36000)] #cleanse for age and 10H+trips"
      ]
    },
    {
      "cell_type": "markdown",
      "metadata": {
        "id": "B6Tu5CVksQMG"
      },
      "source": [
        "<h2>Section 1: Who are Citibike's users?</h2>"
      ]
    },
    {
      "cell_type": "markdown",
      "metadata": {
        "id": "6oL0M-jmsQMM"
      },
      "source": [
        "**1.1 What is the gender breakdown of our users? Did it shift over time?**\n",
        "\n",
        "For our data:\n",
        "- 0 = unknown \n",
        "- 1 = male\n",
        "- 2 = female"
      ]
    },
    {
      "cell_type": "code",
      "execution_count": null,
      "metadata": {
        "id": "ht51ZlYEsQMG",
        "outputId": "989ca85f-f9b1-4ee0-8b6c-d6ebc76c8c23"
      },
      "outputs": [
        {
          "name": "stdout",
          "output_type": "stream",
          "text": [
            "The most rides taken in one month was 2484762 !\n"
          ]
        }
      ],
      "source": [
        "# First, we must figure out which month had the most rides, so we can create a dataframe that has enough rows to fit that month. \n",
        "# If we don't do this, the dataframe will contain only as many rows as there were rides in January of 2019.\n",
        "\n",
        "most_monthly_rides = 0\n",
        "for month in data19_20:\n",
        "    if month.shape[0] > most_monthly_rides:\n",
        "        most_monthly_rides = month.shape[0]\n",
        "        \n",
        "print('The most rides taken in one month was',most_monthly_rides,'!')"
      ]
    },
    {
      "cell_type": "code",
      "execution_count": null,
      "metadata": {
        "id": "Ajr28DdPsQMM",
        "outputId": "271e26b1-aabe-4387-8c12-e7763648f30e"
      },
      "outputs": [
        {
          "data": {
            "text/html": [
              "<div>\n",
              "<style scoped>\n",
              "    .dataframe tbody tr th:only-of-type {\n",
              "        vertical-align: middle;\n",
              "    }\n",
              "\n",
              "    .dataframe tbody tr th {\n",
              "        vertical-align: top;\n",
              "    }\n",
              "\n",
              "    .dataframe thead th {\n",
              "        text-align: right;\n",
              "    }\n",
              "</style>\n",
              "<table border=\"1\" class=\"dataframe\">\n",
              "  <thead>\n",
              "    <tr style=\"text-align: right;\">\n",
              "      <th></th>\n",
              "      <th>January 2019</th>\n",
              "      <th>February 2019</th>\n",
              "      <th>March 2019</th>\n",
              "      <th>April 2019</th>\n",
              "      <th>May 2019</th>\n",
              "      <th>June 2019</th>\n",
              "      <th>July 2019</th>\n",
              "      <th>August 2019</th>\n",
              "      <th>September 2019</th>\n",
              "      <th>October 2019</th>\n",
              "      <th>...</th>\n",
              "      <th>March 2020</th>\n",
              "      <th>April 2020</th>\n",
              "      <th>May 2020</th>\n",
              "      <th>June 2020</th>\n",
              "      <th>July 2020</th>\n",
              "      <th>August 2020</th>\n",
              "      <th>September 2020</th>\n",
              "      <th>October 2020</th>\n",
              "      <th>November 2020</th>\n",
              "      <th>December 2020</th>\n",
              "    </tr>\n",
              "  </thead>\n",
              "  <tbody>\n",
              "    <tr>\n",
              "      <th>0</th>\n",
              "      <td>1.0</td>\n",
              "      <td>1.0</td>\n",
              "      <td>1.0</td>\n",
              "      <td>1.0</td>\n",
              "      <td>1.0</td>\n",
              "      <td>1.0</td>\n",
              "      <td>1.0</td>\n",
              "      <td>2.0</td>\n",
              "      <td>1.0</td>\n",
              "      <td>1.0</td>\n",
              "      <td>...</td>\n",
              "      <td>1.0</td>\n",
              "      <td>2.0</td>\n",
              "      <td>1.0</td>\n",
              "      <td>2.0</td>\n",
              "      <td>1.0</td>\n",
              "      <td>1.0</td>\n",
              "      <td>1.0</td>\n",
              "      <td>1.0</td>\n",
              "      <td>1.0</td>\n",
              "      <td>2.0</td>\n",
              "    </tr>\n",
              "    <tr>\n",
              "      <th>1</th>\n",
              "      <td>1.0</td>\n",
              "      <td>1.0</td>\n",
              "      <td>1.0</td>\n",
              "      <td>1.0</td>\n",
              "      <td>0.0</td>\n",
              "      <td>2.0</td>\n",
              "      <td>1.0</td>\n",
              "      <td>2.0</td>\n",
              "      <td>0.0</td>\n",
              "      <td>1.0</td>\n",
              "      <td>...</td>\n",
              "      <td>2.0</td>\n",
              "      <td>1.0</td>\n",
              "      <td>1.0</td>\n",
              "      <td>0.0</td>\n",
              "      <td>2.0</td>\n",
              "      <td>1.0</td>\n",
              "      <td>1.0</td>\n",
              "      <td>2.0</td>\n",
              "      <td>2.0</td>\n",
              "      <td>1.0</td>\n",
              "    </tr>\n",
              "    <tr>\n",
              "      <th>2</th>\n",
              "      <td>1.0</td>\n",
              "      <td>1.0</td>\n",
              "      <td>1.0</td>\n",
              "      <td>1.0</td>\n",
              "      <td>1.0</td>\n",
              "      <td>2.0</td>\n",
              "      <td>1.0</td>\n",
              "      <td>1.0</td>\n",
              "      <td>0.0</td>\n",
              "      <td>1.0</td>\n",
              "      <td>...</td>\n",
              "      <td>1.0</td>\n",
              "      <td>1.0</td>\n",
              "      <td>2.0</td>\n",
              "      <td>2.0</td>\n",
              "      <td>0.0</td>\n",
              "      <td>0.0</td>\n",
              "      <td>1.0</td>\n",
              "      <td>1.0</td>\n",
              "      <td>2.0</td>\n",
              "      <td>2.0</td>\n",
              "    </tr>\n",
              "    <tr>\n",
              "      <th>3</th>\n",
              "      <td>1.0</td>\n",
              "      <td>2.0</td>\n",
              "      <td>2.0</td>\n",
              "      <td>1.0</td>\n",
              "      <td>1.0</td>\n",
              "      <td>1.0</td>\n",
              "      <td>1.0</td>\n",
              "      <td>1.0</td>\n",
              "      <td>1.0</td>\n",
              "      <td>1.0</td>\n",
              "      <td>...</td>\n",
              "      <td>1.0</td>\n",
              "      <td>1.0</td>\n",
              "      <td>1.0</td>\n",
              "      <td>0.0</td>\n",
              "      <td>1.0</td>\n",
              "      <td>1.0</td>\n",
              "      <td>2.0</td>\n",
              "      <td>1.0</td>\n",
              "      <td>1.0</td>\n",
              "      <td>0.0</td>\n",
              "    </tr>\n",
              "    <tr>\n",
              "      <th>4</th>\n",
              "      <td>1.0</td>\n",
              "      <td>1.0</td>\n",
              "      <td>1.0</td>\n",
              "      <td>1.0</td>\n",
              "      <td>1.0</td>\n",
              "      <td>1.0</td>\n",
              "      <td>1.0</td>\n",
              "      <td>2.0</td>\n",
              "      <td>1.0</td>\n",
              "      <td>1.0</td>\n",
              "      <td>...</td>\n",
              "      <td>1.0</td>\n",
              "      <td>1.0</td>\n",
              "      <td>1.0</td>\n",
              "      <td>2.0</td>\n",
              "      <td>1.0</td>\n",
              "      <td>0.0</td>\n",
              "      <td>0.0</td>\n",
              "      <td>1.0</td>\n",
              "      <td>1.0</td>\n",
              "      <td>1.0</td>\n",
              "    </tr>\n",
              "    <tr>\n",
              "      <th>...</th>\n",
              "      <td>...</td>\n",
              "      <td>...</td>\n",
              "      <td>...</td>\n",
              "      <td>...</td>\n",
              "      <td>...</td>\n",
              "      <td>...</td>\n",
              "      <td>...</td>\n",
              "      <td>...</td>\n",
              "      <td>...</td>\n",
              "      <td>...</td>\n",
              "      <td>...</td>\n",
              "      <td>...</td>\n",
              "      <td>...</td>\n",
              "      <td>...</td>\n",
              "      <td>...</td>\n",
              "      <td>...</td>\n",
              "      <td>...</td>\n",
              "      <td>...</td>\n",
              "      <td>...</td>\n",
              "      <td>...</td>\n",
              "      <td>...</td>\n",
              "    </tr>\n",
              "    <tr>\n",
              "      <th>2484757</th>\n",
              "      <td>NaN</td>\n",
              "      <td>NaN</td>\n",
              "      <td>NaN</td>\n",
              "      <td>NaN</td>\n",
              "      <td>NaN</td>\n",
              "      <td>NaN</td>\n",
              "      <td>NaN</td>\n",
              "      <td>NaN</td>\n",
              "      <td>NaN</td>\n",
              "      <td>NaN</td>\n",
              "      <td>...</td>\n",
              "      <td>NaN</td>\n",
              "      <td>NaN</td>\n",
              "      <td>NaN</td>\n",
              "      <td>NaN</td>\n",
              "      <td>NaN</td>\n",
              "      <td>NaN</td>\n",
              "      <td>2.0</td>\n",
              "      <td>NaN</td>\n",
              "      <td>NaN</td>\n",
              "      <td>NaN</td>\n",
              "    </tr>\n",
              "    <tr>\n",
              "      <th>2484758</th>\n",
              "      <td>NaN</td>\n",
              "      <td>NaN</td>\n",
              "      <td>NaN</td>\n",
              "      <td>NaN</td>\n",
              "      <td>NaN</td>\n",
              "      <td>NaN</td>\n",
              "      <td>NaN</td>\n",
              "      <td>NaN</td>\n",
              "      <td>NaN</td>\n",
              "      <td>NaN</td>\n",
              "      <td>...</td>\n",
              "      <td>NaN</td>\n",
              "      <td>NaN</td>\n",
              "      <td>NaN</td>\n",
              "      <td>NaN</td>\n",
              "      <td>NaN</td>\n",
              "      <td>NaN</td>\n",
              "      <td>0.0</td>\n",
              "      <td>NaN</td>\n",
              "      <td>NaN</td>\n",
              "      <td>NaN</td>\n",
              "    </tr>\n",
              "    <tr>\n",
              "      <th>2484759</th>\n",
              "      <td>NaN</td>\n",
              "      <td>NaN</td>\n",
              "      <td>NaN</td>\n",
              "      <td>NaN</td>\n",
              "      <td>NaN</td>\n",
              "      <td>NaN</td>\n",
              "      <td>NaN</td>\n",
              "      <td>NaN</td>\n",
              "      <td>NaN</td>\n",
              "      <td>NaN</td>\n",
              "      <td>...</td>\n",
              "      <td>NaN</td>\n",
              "      <td>NaN</td>\n",
              "      <td>NaN</td>\n",
              "      <td>NaN</td>\n",
              "      <td>NaN</td>\n",
              "      <td>NaN</td>\n",
              "      <td>1.0</td>\n",
              "      <td>NaN</td>\n",
              "      <td>NaN</td>\n",
              "      <td>NaN</td>\n",
              "    </tr>\n",
              "    <tr>\n",
              "      <th>2484760</th>\n",
              "      <td>NaN</td>\n",
              "      <td>NaN</td>\n",
              "      <td>NaN</td>\n",
              "      <td>NaN</td>\n",
              "      <td>NaN</td>\n",
              "      <td>NaN</td>\n",
              "      <td>NaN</td>\n",
              "      <td>NaN</td>\n",
              "      <td>NaN</td>\n",
              "      <td>NaN</td>\n",
              "      <td>...</td>\n",
              "      <td>NaN</td>\n",
              "      <td>NaN</td>\n",
              "      <td>NaN</td>\n",
              "      <td>NaN</td>\n",
              "      <td>NaN</td>\n",
              "      <td>NaN</td>\n",
              "      <td>1.0</td>\n",
              "      <td>NaN</td>\n",
              "      <td>NaN</td>\n",
              "      <td>NaN</td>\n",
              "    </tr>\n",
              "    <tr>\n",
              "      <th>2484761</th>\n",
              "      <td>NaN</td>\n",
              "      <td>NaN</td>\n",
              "      <td>NaN</td>\n",
              "      <td>NaN</td>\n",
              "      <td>NaN</td>\n",
              "      <td>NaN</td>\n",
              "      <td>NaN</td>\n",
              "      <td>NaN</td>\n",
              "      <td>NaN</td>\n",
              "      <td>NaN</td>\n",
              "      <td>...</td>\n",
              "      <td>NaN</td>\n",
              "      <td>NaN</td>\n",
              "      <td>NaN</td>\n",
              "      <td>NaN</td>\n",
              "      <td>NaN</td>\n",
              "      <td>NaN</td>\n",
              "      <td>1.0</td>\n",
              "      <td>NaN</td>\n",
              "      <td>NaN</td>\n",
              "      <td>NaN</td>\n",
              "    </tr>\n",
              "  </tbody>\n",
              "</table>\n",
              "<p>2484762 rows × 24 columns</p>\n",
              "</div>"
            ],
            "text/plain": [
              "         January 2019  February 2019  March 2019  April 2019  May 2019  \\\n",
              "0                 1.0            1.0         1.0         1.0       1.0   \n",
              "1                 1.0            1.0         1.0         1.0       0.0   \n",
              "2                 1.0            1.0         1.0         1.0       1.0   \n",
              "3                 1.0            2.0         2.0         1.0       1.0   \n",
              "4                 1.0            1.0         1.0         1.0       1.0   \n",
              "...               ...            ...         ...         ...       ...   \n",
              "2484757           NaN            NaN         NaN         NaN       NaN   \n",
              "2484758           NaN            NaN         NaN         NaN       NaN   \n",
              "2484759           NaN            NaN         NaN         NaN       NaN   \n",
              "2484760           NaN            NaN         NaN         NaN       NaN   \n",
              "2484761           NaN            NaN         NaN         NaN       NaN   \n",
              "\n",
              "         June 2019  July 2019  August 2019  September 2019  October 2019  ...  \\\n",
              "0              1.0        1.0          2.0             1.0           1.0  ...   \n",
              "1              2.0        1.0          2.0             0.0           1.0  ...   \n",
              "2              2.0        1.0          1.0             0.0           1.0  ...   \n",
              "3              1.0        1.0          1.0             1.0           1.0  ...   \n",
              "4              1.0        1.0          2.0             1.0           1.0  ...   \n",
              "...            ...        ...          ...             ...           ...  ...   \n",
              "2484757        NaN        NaN          NaN             NaN           NaN  ...   \n",
              "2484758        NaN        NaN          NaN             NaN           NaN  ...   \n",
              "2484759        NaN        NaN          NaN             NaN           NaN  ...   \n",
              "2484760        NaN        NaN          NaN             NaN           NaN  ...   \n",
              "2484761        NaN        NaN          NaN             NaN           NaN  ...   \n",
              "\n",
              "         March 2020  April 2020  May 2020  June 2020  July 2020  August 2020  \\\n",
              "0               1.0         2.0       1.0        2.0        1.0          1.0   \n",
              "1               2.0         1.0       1.0        0.0        2.0          1.0   \n",
              "2               1.0         1.0       2.0        2.0        0.0          0.0   \n",
              "3               1.0         1.0       1.0        0.0        1.0          1.0   \n",
              "4               1.0         1.0       1.0        2.0        1.0          0.0   \n",
              "...             ...         ...       ...        ...        ...          ...   \n",
              "2484757         NaN         NaN       NaN        NaN        NaN          NaN   \n",
              "2484758         NaN         NaN       NaN        NaN        NaN          NaN   \n",
              "2484759         NaN         NaN       NaN        NaN        NaN          NaN   \n",
              "2484760         NaN         NaN       NaN        NaN        NaN          NaN   \n",
              "2484761         NaN         NaN       NaN        NaN        NaN          NaN   \n",
              "\n",
              "         September 2020  October 2020  November 2020  December 2020  \n",
              "0                   1.0           1.0            1.0            2.0  \n",
              "1                   1.0           2.0            2.0            1.0  \n",
              "2                   1.0           1.0            2.0            2.0  \n",
              "3                   2.0           1.0            1.0            0.0  \n",
              "4                   0.0           1.0            1.0            1.0  \n",
              "...                 ...           ...            ...            ...  \n",
              "2484757             2.0           NaN            NaN            NaN  \n",
              "2484758             0.0           NaN            NaN            NaN  \n",
              "2484759             1.0           NaN            NaN            NaN  \n",
              "2484760             1.0           NaN            NaN            NaN  \n",
              "2484761             1.0           NaN            NaN            NaN  \n",
              "\n",
              "[2484762 rows x 24 columns]"
            ]
          },
          "execution_count": 62,
          "metadata": {},
          "output_type": "execute_result"
        }
      ],
      "source": [
        "Gender2019_2020 = pd.DataFrame(columns = months2y,index=range(most_monthly_rides))\n",
        "\n",
        "#fill the dataframe by pulling the gender columns from each month's data\n",
        "for indx, data in enumerate(data19_20):\n",
        "    Gender2019_2020[months2y[indx]] = data['gender']\n",
        "\n",
        "Gender2019_2020"
      ]
    },
    {
      "cell_type": "code",
      "execution_count": null,
      "metadata": {
        "id": "Z456CQwnsQMN",
        "outputId": "d480792a-3563-4b71-e963-8ddb6e77b413"
      },
      "outputs": [
        {
          "data": {
            "text/html": [
              "<div>\n",
              "<style scoped>\n",
              "    .dataframe tbody tr th:only-of-type {\n",
              "        vertical-align: middle;\n",
              "    }\n",
              "\n",
              "    .dataframe tbody tr th {\n",
              "        vertical-align: top;\n",
              "    }\n",
              "\n",
              "    .dataframe thead th {\n",
              "        text-align: right;\n",
              "    }\n",
              "</style>\n",
              "<table border=\"1\" class=\"dataframe\">\n",
              "  <thead>\n",
              "    <tr style=\"text-align: right;\">\n",
              "      <th></th>\n",
              "      <th>January 2019</th>\n",
              "      <th>February 2019</th>\n",
              "      <th>March 2019</th>\n",
              "      <th>April 2019</th>\n",
              "      <th>May 2019</th>\n",
              "      <th>June 2019</th>\n",
              "      <th>July 2019</th>\n",
              "      <th>August 2019</th>\n",
              "      <th>September 2019</th>\n",
              "      <th>October 2019</th>\n",
              "      <th>...</th>\n",
              "      <th>March 2020</th>\n",
              "      <th>April 2020</th>\n",
              "      <th>May 2020</th>\n",
              "      <th>June 2020</th>\n",
              "      <th>July 2020</th>\n",
              "      <th>August 2020</th>\n",
              "      <th>September 2020</th>\n",
              "      <th>October 2020</th>\n",
              "      <th>November 2020</th>\n",
              "      <th>December 2020</th>\n",
              "    </tr>\n",
              "  </thead>\n",
              "  <tbody>\n",
              "    <tr>\n",
              "      <th>0: Unknown</th>\n",
              "      <td>3.51</td>\n",
              "      <td>3.88</td>\n",
              "      <td>5.36</td>\n",
              "      <td>7.80</td>\n",
              "      <td>8.72</td>\n",
              "      <td>9.32</td>\n",
              "      <td>8.96</td>\n",
              "      <td>9.6</td>\n",
              "      <td>8.40</td>\n",
              "      <td>7.33</td>\n",
              "      <td>...</td>\n",
              "      <td>7.6</td>\n",
              "      <td>11.43</td>\n",
              "      <td>14.09</td>\n",
              "      <td>13.31</td>\n",
              "      <td>12.90</td>\n",
              "      <td>13.19</td>\n",
              "      <td>12.26</td>\n",
              "      <td>11.49</td>\n",
              "      <td>10.45</td>\n",
              "      <td>8.66</td>\n",
              "    </tr>\n",
              "    <tr>\n",
              "      <th>1: Male</th>\n",
              "      <td>75.18</td>\n",
              "      <td>74.56</td>\n",
              "      <td>72.51</td>\n",
              "      <td>69.02</td>\n",
              "      <td>67.24</td>\n",
              "      <td>65.85</td>\n",
              "      <td>66.09</td>\n",
              "      <td>65.3</td>\n",
              "      <td>65.95</td>\n",
              "      <td>68.16</td>\n",
              "      <td>...</td>\n",
              "      <td>67.7</td>\n",
              "      <td>60.47</td>\n",
              "      <td>54.95</td>\n",
              "      <td>55.53</td>\n",
              "      <td>57.01</td>\n",
              "      <td>57.15</td>\n",
              "      <td>57.73</td>\n",
              "      <td>59.39</td>\n",
              "      <td>60.93</td>\n",
              "      <td>64.65</td>\n",
              "    </tr>\n",
              "    <tr>\n",
              "      <th>2: Female</th>\n",
              "      <td>21.31</td>\n",
              "      <td>21.57</td>\n",
              "      <td>22.13</td>\n",
              "      <td>23.18</td>\n",
              "      <td>24.04</td>\n",
              "      <td>24.83</td>\n",
              "      <td>24.94</td>\n",
              "      <td>25.1</td>\n",
              "      <td>25.64</td>\n",
              "      <td>24.51</td>\n",
              "      <td>...</td>\n",
              "      <td>24.7</td>\n",
              "      <td>28.10</td>\n",
              "      <td>30.96</td>\n",
              "      <td>31.16</td>\n",
              "      <td>30.08</td>\n",
              "      <td>29.66</td>\n",
              "      <td>30.01</td>\n",
              "      <td>29.12</td>\n",
              "      <td>28.62</td>\n",
              "      <td>26.69</td>\n",
              "    </tr>\n",
              "  </tbody>\n",
              "</table>\n",
              "<p>3 rows × 24 columns</p>\n",
              "</div>"
            ],
            "text/plain": [
              "            January 2019  February 2019  March 2019  April 2019  May 2019  \\\n",
              "0: Unknown          3.51           3.88        5.36        7.80      8.72   \n",
              "1: Male            75.18          74.56       72.51       69.02     67.24   \n",
              "2: Female          21.31          21.57       22.13       23.18     24.04   \n",
              "\n",
              "            June 2019  July 2019  August 2019  September 2019  October 2019  \\\n",
              "0: Unknown       9.32       8.96          9.6            8.40          7.33   \n",
              "1: Male         65.85      66.09         65.3           65.95         68.16   \n",
              "2: Female       24.83      24.94         25.1           25.64         24.51   \n",
              "\n",
              "            ...  March 2020  April 2020  May 2020  June 2020  July 2020  \\\n",
              "0: Unknown  ...         7.6       11.43     14.09      13.31      12.90   \n",
              "1: Male     ...        67.7       60.47     54.95      55.53      57.01   \n",
              "2: Female   ...        24.7       28.10     30.96      31.16      30.08   \n",
              "\n",
              "            August 2020  September 2020  October 2020  November 2020  \\\n",
              "0: Unknown        13.19           12.26         11.49          10.45   \n",
              "1: Male           57.15           57.73         59.39          60.93   \n",
              "2: Female         29.66           30.01         29.12          28.62   \n",
              "\n",
              "            December 2020  \n",
              "0: Unknown           8.66  \n",
              "1: Male             64.65  \n",
              "2: Female           26.69  \n",
              "\n",
              "[3 rows x 24 columns]"
            ]
          },
          "execution_count": 63,
          "metadata": {},
          "output_type": "execute_result"
        }
      ],
      "source": [
        "genders = [0,1,2] \n",
        "indx = ['0: Unknown', '1: Male', '2: Female']\n",
        "gend_dist = distribution(Gender2019_2020, genders, indx)\n",
        "gend_dist"
      ]
    },
    {
      "cell_type": "code",
      "execution_count": null,
      "metadata": {
        "id": "Tt4LUNICsQMN",
        "outputId": "a407c39d-d508-402d-ff92-795e92d411ba"
      },
      "outputs": [
        {
          "data": {
            "image/png": "[encoded data removed]",
            "text/plain": [
              "<Figure size 1224x360 with 1 Axes>"
            ]
          },
          "metadata": {
            "needs_background": "light"
          },
          "output_type": "display_data"
        }
      ],
      "source": [
        "plot_rows(gend_dist, 'Gender Distribution','Month',short_months2y,'% of riders')"
      ]
    },
    {
      "cell_type": "code",
      "execution_count": null,
      "metadata": {
        "id": "d28njnfnjNkf",
        "outputId": "6889eaa1-0319-4cf9-d0a1-6d7ff84ac1bf"
      },
      "outputs": [
        {
          "data": {
            "image/png": "[encoded data removed]",
            "text/plain": [
              "<Figure size 720x720 with 2 Axes>"
            ]
          },
          "metadata": {},
          "output_type": "display_data"
        }
      ],
      "source": [
        "average_gender_breakdown19 = gend_dist.iloc[:,:12].mean(axis=1)\n",
        "average_gender_breakdown20 = gend_dist.iloc[:,12:].mean(axis=1)\n",
        "\n",
        "fig = plt.figure(figsize=(10,10))\n",
        "labels = ['Female','Male','Unknown']\n",
        "plt.subplot(1,2,1)\n",
        "plt.pie(average_gender_breakdown19, labels = labels,autopct='%1.1f%%')\n",
        "plt.title('2019 Gender Breakdown')\n",
        "\n",
        "plt.subplot(1,2,2)\n",
        "plt.pie(average_gender_breakdown20, labels = labels,autopct='%1.1f%%')\n",
        "plt.title('2020 Gender Breakdown')\n",
        "plt.show()"
      ]
    },
    {
      "cell_type": "markdown",
      "metadata": {
        "id": "dz3-Nu6-sQMN"
      },
      "source": [
        "Throughout 2019 and 2020, men were the largest group by gender each month. They ranged between 75.17% of riders in January 2019 and 54.92% of riders in May 2020. Both women and unknown saw an increase as a percent of overall riders between February and May of 2020. Women peaked in May of 2020 with 30.96% of riders and unknown peaked in May of 2020 with 14.13% of riders."
      ]
    },
    {
      "cell_type": "markdown",
      "metadata": {
        "id": "jpxcSg5jsQMN"
      },
      "source": [
        "**1.2 Do subscribers or casual users take more rides? Has this shifted over time?**\n"
      ]
    },
    {
      "cell_type": "code",
      "execution_count": null,
      "metadata": {
        "id": "OHJjiDHYsQMN"
      },
      "outputs": [],
      "source": [
        "# Create a dataframe of null values with each row being a ride and each column being a month between 2019 and 2020. \n",
        "Subtype2019_2020 = pd.DataFrame(columns = months2y, index=range(most_monthly_rides))\n",
        "\n",
        "#fill the dataframe by pulling the customer type columns from each month's data\n",
        "for indx, data in enumerate(data19_20):\n",
        "    Subtype2019_2020[months2y[indx]] = data['usertype']"
      ]
    },
    {
      "cell_type": "code",
      "execution_count": null,
      "metadata": {
        "id": "ou9yuZbdsQMO",
        "outputId": "623f4ecb-7d4c-465d-d5c5-09e09cd07756"
      },
      "outputs": [
        {
          "data": {
            "text/html": [
              "<div>\n",
              "<style scoped>\n",
              "    .dataframe tbody tr th:only-of-type {\n",
              "        vertical-align: middle;\n",
              "    }\n",
              "\n",
              "    .dataframe tbody tr th {\n",
              "        vertical-align: top;\n",
              "    }\n",
              "\n",
              "    .dataframe thead th {\n",
              "        text-align: right;\n",
              "    }\n",
              "</style>\n",
              "<table border=\"1\" class=\"dataframe\">\n",
              "  <thead>\n",
              "    <tr style=\"text-align: right;\">\n",
              "      <th></th>\n",
              "      <th>January 2019</th>\n",
              "      <th>February 2019</th>\n",
              "      <th>March 2019</th>\n",
              "      <th>April 2019</th>\n",
              "      <th>May 2019</th>\n",
              "      <th>June 2019</th>\n",
              "      <th>July 2019</th>\n",
              "      <th>August 2019</th>\n",
              "      <th>September 2019</th>\n",
              "      <th>October 2019</th>\n",
              "      <th>...</th>\n",
              "      <th>March 2020</th>\n",
              "      <th>April 2020</th>\n",
              "      <th>May 2020</th>\n",
              "      <th>June 2020</th>\n",
              "      <th>July 2020</th>\n",
              "      <th>August 2020</th>\n",
              "      <th>September 2020</th>\n",
              "      <th>October 2020</th>\n",
              "      <th>November 2020</th>\n",
              "      <th>December 2020</th>\n",
              "    </tr>\n",
              "  </thead>\n",
              "  <tbody>\n",
              "    <tr>\n",
              "      <th>Subscriber</th>\n",
              "      <td>95.86</td>\n",
              "      <td>95.11</td>\n",
              "      <td>92.0</td>\n",
              "      <td>87.04</td>\n",
              "      <td>84.72</td>\n",
              "      <td>82.49</td>\n",
              "      <td>82.69</td>\n",
              "      <td>81.09</td>\n",
              "      <td>82.25</td>\n",
              "      <td>85.89</td>\n",
              "      <td>...</td>\n",
              "      <td>85.59</td>\n",
              "      <td>75.7</td>\n",
              "      <td>68.06</td>\n",
              "      <td>69.48</td>\n",
              "      <td>72.75</td>\n",
              "      <td>71.8</td>\n",
              "      <td>73.08</td>\n",
              "      <td>75.72</td>\n",
              "      <td>78.48</td>\n",
              "      <td>84.57</td>\n",
              "    </tr>\n",
              "    <tr>\n",
              "      <th>Customer</th>\n",
              "      <td>4.14</td>\n",
              "      <td>4.89</td>\n",
              "      <td>8.0</td>\n",
              "      <td>12.96</td>\n",
              "      <td>15.28</td>\n",
              "      <td>17.51</td>\n",
              "      <td>17.31</td>\n",
              "      <td>18.91</td>\n",
              "      <td>17.75</td>\n",
              "      <td>14.11</td>\n",
              "      <td>...</td>\n",
              "      <td>14.41</td>\n",
              "      <td>24.3</td>\n",
              "      <td>31.94</td>\n",
              "      <td>30.52</td>\n",
              "      <td>27.25</td>\n",
              "      <td>28.2</td>\n",
              "      <td>26.92</td>\n",
              "      <td>24.28</td>\n",
              "      <td>21.52</td>\n",
              "      <td>15.43</td>\n",
              "    </tr>\n",
              "  </tbody>\n",
              "</table>\n",
              "<p>2 rows × 24 columns</p>\n",
              "</div>"
            ],
            "text/plain": [
              "            January 2019  February 2019  March 2019  April 2019  May 2019  \\\n",
              "Subscriber         95.86          95.11        92.0       87.04     84.72   \n",
              "Customer            4.14           4.89         8.0       12.96     15.28   \n",
              "\n",
              "            June 2019  July 2019  August 2019  September 2019  October 2019  \\\n",
              "Subscriber      82.49      82.69        81.09           82.25         85.89   \n",
              "Customer        17.51      17.31        18.91           17.75         14.11   \n",
              "\n",
              "            ...  March 2020  April 2020  May 2020  June 2020  July 2020  \\\n",
              "Subscriber  ...       85.59        75.7     68.06      69.48      72.75   \n",
              "Customer    ...       14.41        24.3     31.94      30.52      27.25   \n",
              "\n",
              "            August 2020  September 2020  October 2020  November 2020  \\\n",
              "Subscriber         71.8           73.08         75.72          78.48   \n",
              "Customer           28.2           26.92         24.28          21.52   \n",
              "\n",
              "            December 2020  \n",
              "Subscriber          84.57  \n",
              "Customer            15.43  \n",
              "\n",
              "[2 rows x 24 columns]"
            ]
          },
          "execution_count": 87,
          "metadata": {},
          "output_type": "execute_result"
        }
      ],
      "source": [
        "#Create a dataframe of customer types as a percent of monthly customers\n",
        "cust_type = ['Subscriber','Customer']\n",
        "Cust_dist = distribution(Subtype2019_2020, cust_type,cust_type)\n",
        "Cust_dist"
      ]
    },
    {
      "cell_type": "code",
      "execution_count": null,
      "metadata": {
        "id": "87dR14rXsQMO",
        "outputId": "6029224b-6142-402a-81ae-85eee701b0ef"
      },
      "outputs": [
        {
          "data": {
            "image/png": "[encoded data removed]",
            "text/plain": [
              "<Figure size 1224x360 with 1 Axes>"
            ]
          },
          "metadata": {
            "needs_background": "light"
          },
          "output_type": "display_data"
        }
      ],
      "source": [
        "plot_rows(Cust_dist ,'Distribution of Customer Types','Month',short_months2y,'% of riders')"
      ]
    },
    {
      "cell_type": "markdown",
      "metadata": {
        "id": "QBZJLf4lsQMO"
      },
      "source": [
        "We can see that we have far more Subscribers than we do casual users. Between March and May of 2020, the number of rides taken by Subscribers fell precipitously while the number of rides taken by casual users climbed. One possible explanation for this observation is that many subscribers pre-pandemic used citibike to commute to work. As remote working became the norm during the first few months of the pandemic, the commuting subscribers no longer used citibike as regularly."
      ]
    },
    {
      "cell_type": "markdown",
      "metadata": {
        "id": "lY6CCvRAsQMG"
      },
      "source": [
        "**1.3 What is the average age of our users? Did it shift over time?**\n",
        "\n",
        "Note: Since we do not have any customer identifying information to account for how many rides each rider took, we can only calculate the average age per ride. "
      ]
    },
    {
      "cell_type": "code",
      "execution_count": null,
      "metadata": {
        "id": "I-DYTL0esQMH",
        "outputId": "c8f2a025-4b51-43a2-a39e-9e609fbc48a0"
      },
      "outputs": [
        {
          "data": {
            "text/html": [
              "<div>\n",
              "<style scoped>\n",
              "    .dataframe tbody tr th:only-of-type {\n",
              "        vertical-align: middle;\n",
              "    }\n",
              "\n",
              "    .dataframe tbody tr th {\n",
              "        vertical-align: top;\n",
              "    }\n",
              "\n",
              "    .dataframe thead th {\n",
              "        text-align: right;\n",
              "    }\n",
              "</style>\n",
              "<table border=\"1\" class=\"dataframe\">\n",
              "  <thead>\n",
              "    <tr style=\"text-align: right;\">\n",
              "      <th></th>\n",
              "      <th>January 2019</th>\n",
              "      <th>February 2019</th>\n",
              "      <th>March 2019</th>\n",
              "      <th>April 2019</th>\n",
              "      <th>May 2019</th>\n",
              "      <th>June 2019</th>\n",
              "      <th>July 2019</th>\n",
              "      <th>August 2019</th>\n",
              "      <th>September 2019</th>\n",
              "      <th>October 2019</th>\n",
              "      <th>...</th>\n",
              "      <th>March 2020</th>\n",
              "      <th>April 2020</th>\n",
              "      <th>May 2020</th>\n",
              "      <th>June 2020</th>\n",
              "      <th>July 2020</th>\n",
              "      <th>August 2020</th>\n",
              "      <th>September 2020</th>\n",
              "      <th>October 2020</th>\n",
              "      <th>November 2020</th>\n",
              "      <th>December 2020</th>\n",
              "    </tr>\n",
              "  </thead>\n",
              "  <tbody>\n",
              "    <tr>\n",
              "      <th>0</th>\n",
              "      <td>48.0</td>\n",
              "      <td>30.0</td>\n",
              "      <td>30.0</td>\n",
              "      <td>37.0</td>\n",
              "      <td>36.0</td>\n",
              "      <td>27.0</td>\n",
              "      <td>53.0</td>\n",
              "      <td>23.0</td>\n",
              "      <td>51.0</td>\n",
              "      <td>26.0</td>\n",
              "      <td>...</td>\n",
              "      <td>40.0</td>\n",
              "      <td>30.0</td>\n",
              "      <td>27.0</td>\n",
              "      <td>23.0</td>\n",
              "      <td>34.0</td>\n",
              "      <td>22.0</td>\n",
              "      <td>41.0</td>\n",
              "      <td>25.0</td>\n",
              "      <td>31.0</td>\n",
              "      <td>32.0</td>\n",
              "    </tr>\n",
              "    <tr>\n",
              "      <th>1</th>\n",
              "      <td>55.0</td>\n",
              "      <td>29.0</td>\n",
              "      <td>39.0</td>\n",
              "      <td>36.0</td>\n",
              "      <td>50.0</td>\n",
              "      <td>32.0</td>\n",
              "      <td>23.0</td>\n",
              "      <td>21.0</td>\n",
              "      <td>50.0</td>\n",
              "      <td>27.0</td>\n",
              "      <td>...</td>\n",
              "      <td>29.0</td>\n",
              "      <td>46.0</td>\n",
              "      <td>31.0</td>\n",
              "      <td>51.0</td>\n",
              "      <td>30.0</td>\n",
              "      <td>54.0</td>\n",
              "      <td>29.0</td>\n",
              "      <td>22.0</td>\n",
              "      <td>50.0</td>\n",
              "      <td>32.0</td>\n",
              "    </tr>\n",
              "    <tr>\n",
              "      <th>2</th>\n",
              "      <td>32.0</td>\n",
              "      <td>32.0</td>\n",
              "      <td>32.0</td>\n",
              "      <td>31.0</td>\n",
              "      <td>41.0</td>\n",
              "      <td>29.0</td>\n",
              "      <td>33.0</td>\n",
              "      <td>31.0</td>\n",
              "      <td>50.0</td>\n",
              "      <td>24.0</td>\n",
              "      <td>...</td>\n",
              "      <td>29.0</td>\n",
              "      <td>38.0</td>\n",
              "      <td>82.0</td>\n",
              "      <td>32.0</td>\n",
              "      <td>51.0</td>\n",
              "      <td>51.0</td>\n",
              "      <td>36.0</td>\n",
              "      <td>24.0</td>\n",
              "      <td>31.0</td>\n",
              "      <td>43.0</td>\n",
              "    </tr>\n",
              "    <tr>\n",
              "      <th>3</th>\n",
              "      <td>29.0</td>\n",
              "      <td>55.0</td>\n",
              "      <td>32.0</td>\n",
              "      <td>37.0</td>\n",
              "      <td>22.0</td>\n",
              "      <td>32.0</td>\n",
              "      <td>31.0</td>\n",
              "      <td>31.0</td>\n",
              "      <td>29.0</td>\n",
              "      <td>27.0</td>\n",
              "      <td>...</td>\n",
              "      <td>31.0</td>\n",
              "      <td>24.0</td>\n",
              "      <td>24.0</td>\n",
              "      <td>51.0</td>\n",
              "      <td>22.0</td>\n",
              "      <td>30.0</td>\n",
              "      <td>30.0</td>\n",
              "      <td>27.0</td>\n",
              "      <td>39.0</td>\n",
              "      <td>38.0</td>\n",
              "    </tr>\n",
              "    <tr>\n",
              "      <th>4</th>\n",
              "      <td>40.0</td>\n",
              "      <td>40.0</td>\n",
              "      <td>28.0</td>\n",
              "      <td>33.0</td>\n",
              "      <td>52.0</td>\n",
              "      <td>46.0</td>\n",
              "      <td>22.0</td>\n",
              "      <td>54.0</td>\n",
              "      <td>27.0</td>\n",
              "      <td>27.0</td>\n",
              "      <td>...</td>\n",
              "      <td>27.0</td>\n",
              "      <td>43.0</td>\n",
              "      <td>27.0</td>\n",
              "      <td>23.0</td>\n",
              "      <td>28.0</td>\n",
              "      <td>51.0</td>\n",
              "      <td>51.0</td>\n",
              "      <td>31.0</td>\n",
              "      <td>30.0</td>\n",
              "      <td>23.0</td>\n",
              "    </tr>\n",
              "  </tbody>\n",
              "</table>\n",
              "<p>5 rows × 24 columns</p>\n",
              "</div>"
            ],
            "text/plain": [
              "   January 2019  February 2019  March 2019  April 2019  May 2019  June 2019  \\\n",
              "0          48.0           30.0        30.0        37.0      36.0       27.0   \n",
              "1          55.0           29.0        39.0        36.0      50.0       32.0   \n",
              "2          32.0           32.0        32.0        31.0      41.0       29.0   \n",
              "3          29.0           55.0        32.0        37.0      22.0       32.0   \n",
              "4          40.0           40.0        28.0        33.0      52.0       46.0   \n",
              "\n",
              "   July 2019  August 2019  September 2019  October 2019  ...  March 2020  \\\n",
              "0       53.0         23.0            51.0          26.0  ...        40.0   \n",
              "1       23.0         21.0            50.0          27.0  ...        29.0   \n",
              "2       33.0         31.0            50.0          24.0  ...        29.0   \n",
              "3       31.0         31.0            29.0          27.0  ...        31.0   \n",
              "4       22.0         54.0            27.0          27.0  ...        27.0   \n",
              "\n",
              "   April 2020  May 2020  June 2020  July 2020  August 2020  September 2020  \\\n",
              "0        30.0      27.0       23.0       34.0         22.0            41.0   \n",
              "1        46.0      31.0       51.0       30.0         54.0            29.0   \n",
              "2        38.0      82.0       32.0       51.0         51.0            36.0   \n",
              "3        24.0      24.0       51.0       22.0         30.0            30.0   \n",
              "4        43.0      27.0       23.0       28.0         51.0            51.0   \n",
              "\n",
              "   October 2020  November 2020  December 2020  \n",
              "0          25.0           31.0           32.0  \n",
              "1          22.0           50.0           32.0  \n",
              "2          24.0           31.0           43.0  \n",
              "3          27.0           39.0           38.0  \n",
              "4          31.0           30.0           23.0  \n",
              "\n",
              "[5 rows x 24 columns]"
            ]
          },
          "execution_count": 88,
          "metadata": {},
          "output_type": "execute_result"
        }
      ],
      "source": [
        "# Create a dataframe of null values. Each row is a ride. Each column is a month between 2019 and 2020.\n",
        "Ages2019_2020 = pd.DataFrame(columns = months2y,index=range(most_monthly_rides))\n",
        "\n",
        "#fill the dataframe by pulling the age columns from each month's data\n",
        "for indx, data in enumerate(data19_20):\n",
        "    Ages2019_2020[months2y[indx]] = data['age']\n",
        "\n",
        "Ages2019_2020.head(5)"
      ]
    },
    {
      "cell_type": "code",
      "execution_count": null,
      "metadata": {
        "id": "5sFJkF6usQMI",
        "outputId": "6b3b0b18-d001-46a1-e866-fb9ffd5255ef"
      },
      "outputs": [
        {
          "name": "stdout",
          "output_type": "stream",
          "text": [
            "The average age of a rider over the 2019 and 2020 period was 39.01 years old!\n"
          ]
        }
      ],
      "source": [
        "print('The average age of a rider over the 2019 and 2020 period was',round(Ages2019_2020.mean().mean(),2),'years old!')"
      ]
    },
    {
      "cell_type": "code",
      "execution_count": null,
      "metadata": {
        "id": "owXH3zmxsQMI",
        "scrolled": true
      },
      "outputs": [],
      "source": [
        "#Create a dataframe containing the average age of the riders for each month \n",
        "Average_Age_per_Ride = pd.DataFrame({'Month':Ages2019_2020.describe().loc['mean'].values}, index = months2y)"
      ]
    },
    {
      "cell_type": "code",
      "execution_count": null,
      "metadata": {
        "id": "Tk0WdF_UsQMI",
        "outputId": "785430e9-4166-417e-d3fc-9f6e73b2e2dc"
      },
      "outputs": [
        {
          "data": {
            "text/plain": [
              "<matplotlib.legend.Legend at 0x20d8a302a48>"
            ]
          },
          "execution_count": 91,
          "metadata": {},
          "output_type": "execute_result"
        },
        {
          "data": {
            "image/png": "[encoded data removed]",
            "text/plain": [
              "<Figure size 1080x360 with 1 Axes>"
            ]
          },
          "metadata": {
            "needs_background": "light"
          },
          "output_type": "display_data"
        }
      ],
      "source": [
        "#Plot average age\n",
        "plt.figure(figsize=(15,5))\n",
        "plt.xlabel('Month')\n",
        "plt.ylabel('Age(in yrs)')\n",
        "plt.title('Avg Age per Month')\n",
        "plt.plot(Average_Age_per_Ride.iloc[:12].values, label ='2019', marker='o')\n",
        "plt.plot(Average_Age_per_Ride.iloc[12:].values, label = '2020', marker='o')\n",
        "plt.xticks(range(12),months)\n",
        "plt.legend()"
      ]
    },
    {
      "cell_type": "markdown",
      "metadata": {
        "id": "-uDwELgLsQMJ"
      },
      "source": [
        "The average age of riders over the 2019-2020 period was 39 years old. During both 2019 and 2020, the average age of riders attained a minimum in August and rose to a maximum in January. Between February and April of 2020, the average age of Citibike riders increased unlike the same period in 2019 which saw a decrease in average age. One possible explanation for this difference is that older people may have been more cautious at the onset of covid, electing to ride bikes outside rather than risk exposure on the subway and other closed-space public transport systems. "
      ]
    },
    {
      "cell_type": "markdown",
      "metadata": {
        "id": "Iu3HBl0BsQMJ"
      },
      "source": [
        "**1.4 What is the age distribution of our riders? Did it shift over time?**"
      ]
    },
    {
      "cell_type": "code",
      "execution_count": null,
      "metadata": {
        "id": "AsVoJBf5sQMJ",
        "outputId": "e4f372e3-d59a-43f6-96b5-6477403bb88d",
        "scrolled": true
      },
      "outputs": [
        {
          "data": {
            "image/png": "[encoded data removed]",
            "text/plain": [
              "<Figure size 720x360 with 1 Axes>"
            ]
          },
          "metadata": {
            "needs_background": "light"
          },
          "output_type": "display_data"
        }
      ],
      "source": [
        "# Create an animated histogram displaying the ages of the riders each month.\n",
        "from IPython.display import clear_output\n",
        "import time\n",
        "\n",
        "for x in Ages2019_2020.columns:\n",
        "    clear_output(wait=True)\n",
        "    \n",
        "    plt.figure(figsize=(10,5))\n",
        "    rainbow(plt.hist(Ages2019_2020[x], bins=85, color='pink', edgecolor='black')) #bins at 85 so that each age has a bin (16-100)\n",
        "    plt.axis((15, 85, 0, 350000))\n",
        "    plt.ylabel('Number of riders')\n",
        "    plt.xlabel('Age of riders')\n",
        "    plt.title(x)\n",
        "    plt.show() \n",
        "    \n",
        "    time.sleep(1.0)"
      ]
    },
    {
      "cell_type": "code",
      "execution_count": null,
      "metadata": {
        "id": "UqeRwYABjNkh",
        "outputId": "14c726bb-146a-42ef-d4e8-7619bf8089d8"
      },
      "outputs": [
        {
          "data": {
            "text/html": [
              "<div>\n",
              "<style scoped>\n",
              "    .dataframe tbody tr th:only-of-type {\n",
              "        vertical-align: middle;\n",
              "    }\n",
              "\n",
              "    .dataframe tbody tr th {\n",
              "        vertical-align: top;\n",
              "    }\n",
              "\n",
              "    .dataframe thead th {\n",
              "        text-align: right;\n",
              "    }\n",
              "</style>\n",
              "<table border=\"1\" class=\"dataframe\">\n",
              "  <thead>\n",
              "    <tr style=\"text-align: right;\">\n",
              "      <th></th>\n",
              "      <th>Jan19</th>\n",
              "      <th>Feb19</th>\n",
              "      <th>Mar19</th>\n",
              "      <th>Apr19</th>\n",
              "      <th>May19</th>\n",
              "      <th>Jun19</th>\n",
              "      <th>Jul19</th>\n",
              "      <th>Aug19</th>\n",
              "      <th>Sep19</th>\n",
              "      <th>Oct19</th>\n",
              "      <th>...</th>\n",
              "      <th>Mar20</th>\n",
              "      <th>Apr20</th>\n",
              "      <th>May20</th>\n",
              "      <th>Jun20</th>\n",
              "      <th>Jul20</th>\n",
              "      <th>Aug20</th>\n",
              "      <th>Sep20</th>\n",
              "      <th>Oct20</th>\n",
              "      <th>Nov20</th>\n",
              "      <th>Dec20</th>\n",
              "    </tr>\n",
              "  </thead>\n",
              "  <tbody>\n",
              "    <tr>\n",
              "      <th>0</th>\n",
              "      <td>1971</td>\n",
              "      <td>1989.0</td>\n",
              "      <td>1989.0</td>\n",
              "      <td>1982.0</td>\n",
              "      <td>1983.0</td>\n",
              "      <td>1992.0</td>\n",
              "      <td>1966.0</td>\n",
              "      <td>1996.0</td>\n",
              "      <td>1968.0</td>\n",
              "      <td>1993.0</td>\n",
              "      <td>...</td>\n",
              "      <td>1980.0</td>\n",
              "      <td>1990.0</td>\n",
              "      <td>1993.0</td>\n",
              "      <td>1997.0</td>\n",
              "      <td>1986.0</td>\n",
              "      <td>1998.0</td>\n",
              "      <td>1979.0</td>\n",
              "      <td>1995.0</td>\n",
              "      <td>1989.0</td>\n",
              "      <td>1988.0</td>\n",
              "    </tr>\n",
              "    <tr>\n",
              "      <th>1</th>\n",
              "      <td>1964</td>\n",
              "      <td>1990.0</td>\n",
              "      <td>1980.0</td>\n",
              "      <td>1983.0</td>\n",
              "      <td>1969.0</td>\n",
              "      <td>1987.0</td>\n",
              "      <td>1996.0</td>\n",
              "      <td>1998.0</td>\n",
              "      <td>1969.0</td>\n",
              "      <td>1992.0</td>\n",
              "      <td>...</td>\n",
              "      <td>1991.0</td>\n",
              "      <td>1974.0</td>\n",
              "      <td>1989.0</td>\n",
              "      <td>1969.0</td>\n",
              "      <td>1990.0</td>\n",
              "      <td>1966.0</td>\n",
              "      <td>1991.0</td>\n",
              "      <td>1998.0</td>\n",
              "      <td>1970.0</td>\n",
              "      <td>1988.0</td>\n",
              "    </tr>\n",
              "    <tr>\n",
              "      <th>2</th>\n",
              "      <td>1987</td>\n",
              "      <td>1987.0</td>\n",
              "      <td>1987.0</td>\n",
              "      <td>1988.0</td>\n",
              "      <td>1978.0</td>\n",
              "      <td>1990.0</td>\n",
              "      <td>1986.0</td>\n",
              "      <td>1988.0</td>\n",
              "      <td>1969.0</td>\n",
              "      <td>1995.0</td>\n",
              "      <td>...</td>\n",
              "      <td>1991.0</td>\n",
              "      <td>1982.0</td>\n",
              "      <td>1938.0</td>\n",
              "      <td>1988.0</td>\n",
              "      <td>1969.0</td>\n",
              "      <td>1969.0</td>\n",
              "      <td>1984.0</td>\n",
              "      <td>1996.0</td>\n",
              "      <td>1989.0</td>\n",
              "      <td>1977.0</td>\n",
              "    </tr>\n",
              "    <tr>\n",
              "      <th>3</th>\n",
              "      <td>1990</td>\n",
              "      <td>1964.0</td>\n",
              "      <td>1987.0</td>\n",
              "      <td>1982.0</td>\n",
              "      <td>1997.0</td>\n",
              "      <td>1987.0</td>\n",
              "      <td>1988.0</td>\n",
              "      <td>1988.0</td>\n",
              "      <td>1990.0</td>\n",
              "      <td>1992.0</td>\n",
              "      <td>...</td>\n",
              "      <td>1989.0</td>\n",
              "      <td>1996.0</td>\n",
              "      <td>1996.0</td>\n",
              "      <td>1969.0</td>\n",
              "      <td>1998.0</td>\n",
              "      <td>1990.0</td>\n",
              "      <td>1990.0</td>\n",
              "      <td>1993.0</td>\n",
              "      <td>1981.0</td>\n",
              "      <td>1982.0</td>\n",
              "    </tr>\n",
              "    <tr>\n",
              "      <th>4</th>\n",
              "      <td>1979</td>\n",
              "      <td>1979.0</td>\n",
              "      <td>1991.0</td>\n",
              "      <td>1986.0</td>\n",
              "      <td>1967.0</td>\n",
              "      <td>1973.0</td>\n",
              "      <td>1997.0</td>\n",
              "      <td>1965.0</td>\n",
              "      <td>1992.0</td>\n",
              "      <td>1992.0</td>\n",
              "      <td>...</td>\n",
              "      <td>1993.0</td>\n",
              "      <td>1977.0</td>\n",
              "      <td>1993.0</td>\n",
              "      <td>1997.0</td>\n",
              "      <td>1992.0</td>\n",
              "      <td>1969.0</td>\n",
              "      <td>1969.0</td>\n",
              "      <td>1989.0</td>\n",
              "      <td>1990.0</td>\n",
              "      <td>1997.0</td>\n",
              "    </tr>\n",
              "  </tbody>\n",
              "</table>\n",
              "<p>5 rows × 24 columns</p>\n",
              "</div>"
            ],
            "text/plain": [
              "   Jan19   Feb19   Mar19   Apr19   May19   Jun19   Jul19   Aug19   Sep19  \\\n",
              "0   1971  1989.0  1989.0  1982.0  1983.0  1992.0  1966.0  1996.0  1968.0   \n",
              "1   1964  1990.0  1980.0  1983.0  1969.0  1987.0  1996.0  1998.0  1969.0   \n",
              "2   1987  1987.0  1987.0  1988.0  1978.0  1990.0  1986.0  1988.0  1969.0   \n",
              "3   1990  1964.0  1987.0  1982.0  1997.0  1987.0  1988.0  1988.0  1990.0   \n",
              "4   1979  1979.0  1991.0  1986.0  1967.0  1973.0  1997.0  1965.0  1992.0   \n",
              "\n",
              "    Oct19  ...   Mar20   Apr20   May20   Jun20   Jul20   Aug20   Sep20  \\\n",
              "0  1993.0  ...  1980.0  1990.0  1993.0  1997.0  1986.0  1998.0  1979.0   \n",
              "1  1992.0  ...  1991.0  1974.0  1989.0  1969.0  1990.0  1966.0  1991.0   \n",
              "2  1995.0  ...  1991.0  1982.0  1938.0  1988.0  1969.0  1969.0  1984.0   \n",
              "3  1992.0  ...  1989.0  1996.0  1996.0  1969.0  1998.0  1990.0  1990.0   \n",
              "4  1992.0  ...  1993.0  1977.0  1993.0  1997.0  1992.0  1969.0  1969.0   \n",
              "\n",
              "    Oct20   Nov20   Dec20  \n",
              "0  1995.0  1989.0  1988.0  \n",
              "1  1998.0  1970.0  1988.0  \n",
              "2  1996.0  1989.0  1977.0  \n",
              "3  1993.0  1981.0  1982.0  \n",
              "4  1989.0  1990.0  1997.0  \n",
              "\n",
              "[5 rows x 24 columns]"
            ]
          },
          "execution_count": 94,
          "metadata": {},
          "output_type": "execute_result"
        }
      ],
      "source": [
        "#dataframe containing birth years for all of our riders\n",
        "birthyear19_20 = pd.DataFrame()\n",
        "for indx, data in enumerate(data19_20):\n",
        "    birthyear19_20[short_months2y[indx]]= data['birth year']\n",
        "\n",
        "birthyear19_20.head()"
      ]
    },
    {
      "cell_type": "code",
      "execution_count": null,
      "metadata": {
        "id": "XxJRkF2fjNkh",
        "outputId": "8a60af10-10e6-4199-a6d3-8658a317202e"
      },
      "outputs": [
        {
          "name": "stdout",
          "output_type": "stream",
          "text": [
            "\n",
            "\n",
            "Jan19\n",
            "birth year\n",
            "1969    45224\n",
            "1990    38582\n",
            "1988    37610\n",
            "1989    37243\n",
            "1991    36094\n",
            "dtype: int64\n",
            "\n",
            "\n",
            "Feb19\n",
            "birth year\n",
            "1969    46659\n",
            "1990    37533\n",
            "1989    37271\n",
            "1988    36900\n",
            "1991    36267\n",
            "dtype: int64\n",
            "\n",
            "\n",
            "Mar19\n",
            "birth year\n",
            "1969    84140\n",
            "1989    53293\n",
            "1990    52908\n",
            "1988    51905\n",
            "1991    51681\n",
            "dtype: int64\n",
            "\n",
            "\n",
            "Apr19\n",
            "birth year\n",
            "1969    152712\n",
            "1989     72641\n",
            "1990     71818\n",
            "1988     70977\n",
            "1991     69048\n",
            "dtype: int64\n",
            "\n",
            "\n",
            "May19\n",
            "birth year\n",
            "1969    183628\n",
            "1989     78476\n",
            "1990     78159\n",
            "1988     77265\n",
            "1991     74356\n",
            "dtype: int64\n",
            "\n",
            "\n",
            "Jun19\n",
            "birth year\n",
            "1969    213162\n",
            "1990     90575\n",
            "1989     90104\n",
            "1992     86393\n",
            "1991     85365\n",
            "dtype: int64\n",
            "\n",
            "\n",
            "Jul19\n",
            "birth year\n",
            "1969    208112\n",
            "1989     94045\n",
            "1990     92580\n",
            "1991     88499\n",
            "1992     87997\n",
            "dtype: int64\n",
            "\n",
            "\n",
            "Aug19\n",
            "birth year\n",
            "1969    236944\n",
            "1990    102898\n",
            "1989    102841\n",
            "1991     99404\n",
            "1992     97496\n",
            "dtype: int64\n",
            "\n",
            "\n",
            "Sep19\n",
            "birth year\n",
            "1969    221224\n",
            "1989    104229\n",
            "1990    102352\n",
            "1991     99171\n",
            "1992     97781\n",
            "dtype: int64\n",
            "\n",
            "\n",
            "Oct19\n",
            "birth year\n",
            "1969    166556\n",
            "1990     87270\n",
            "1989     86117\n",
            "1992     83942\n",
            "1991     82890\n",
            "dtype: int64\n",
            "\n",
            "\n",
            "Nov19\n",
            "birth year\n",
            "1969    94880\n",
            "1990    59852\n",
            "1989    59465\n",
            "1991    58634\n",
            "1992    57027\n",
            "dtype: int64\n",
            "\n",
            "\n",
            "Dec19\n",
            "birth year\n",
            "1969    54110\n",
            "1989    37593\n",
            "1991    35975\n",
            "1990    35869\n",
            "1992    34591\n",
            "dtype: int64\n",
            "\n",
            "\n",
            "Jan20\n",
            "birth year\n",
            "1969    67033\n",
            "1990    49063\n",
            "1989    48573\n",
            "1991    47438\n",
            "1992    47209\n",
            "dtype: int64\n",
            "\n",
            "\n",
            "Feb20\n",
            "birth year\n",
            "1969    64848\n",
            "1989    45689\n",
            "1990    45575\n",
            "1991    44881\n",
            "1992    43216\n",
            "dtype: int64\n",
            "\n",
            "\n",
            "Mar20\n",
            "birth year\n",
            "1969    88988\n",
            "1990    42762\n",
            "1989    42456\n",
            "1991    41579\n",
            "1992    39734\n",
            "dtype: int64\n",
            "\n",
            "\n",
            "Apr20\n",
            "birth year\n",
            "1969    80388\n",
            "1990    31995\n",
            "1989    29316\n",
            "1988    28535\n",
            "1991    27518\n",
            "dtype: int64\n",
            "\n",
            "\n",
            "May20\n",
            "birth year\n",
            "1969    213643\n",
            "1990     73928\n",
            "1989     67357\n",
            "1991     65358\n",
            "1992     63156\n",
            "dtype: int64\n",
            "\n",
            "\n",
            "Jun20\n",
            "birth year\n",
            "1969    252389\n",
            "1990     96152\n",
            "1991     82150\n",
            "1989     82047\n",
            "1992     80582\n",
            "dtype: int64\n",
            "\n",
            "\n",
            "Jul20\n",
            "birth year\n",
            "1969    273918\n",
            "1990    103383\n",
            "1991     92283\n",
            "1992     90980\n",
            "1989     90926\n",
            "dtype: int64\n",
            "\n",
            "\n",
            "Aug20\n",
            "birth year\n",
            "1969    310351\n",
            "1990    115438\n",
            "1992    102329\n",
            "1991    100809\n",
            "1989     97752\n",
            "dtype: int64\n",
            "\n",
            "\n",
            "Sep20\n",
            "birth year\n",
            "1969    308977\n",
            "1990    120460\n",
            "1992    107075\n",
            "1991    105668\n",
            "1989     97467\n",
            "dtype: int64\n",
            "\n",
            "\n",
            "Oct20\n",
            "birth year\n",
            "1969    262871\n",
            "1990    112777\n",
            "1992     94681\n",
            "1991     93180\n",
            "1993     88195\n",
            "dtype: int64\n",
            "\n",
            "\n",
            "Nov20\n",
            "birth year\n",
            "1969    186650\n",
            "1990     82906\n",
            "1991     70257\n",
            "1992     68915\n",
            "1989     66307\n",
            "dtype: int64\n",
            "\n",
            "\n",
            "Dec20\n",
            "birth year\n",
            "1969    98586\n",
            "1990    48665\n",
            "1989    40684\n",
            "1991    40381\n",
            "1992    38920\n",
            "dtype: int64\n"
          ]
        }
      ],
      "source": [
        "byr = [month.groupby('birth year').size().sort_values(ascending=False) for month in data19_20]\n",
        "for indx, data in enumerate(byr):\n",
        "    print('\\n')\n",
        "    print(short_months2y[indx])\n",
        "    print(byr[indx].head(5))\n"
      ]
    },
    {
      "cell_type": "markdown",
      "metadata": {
        "id": "eWHcaeyksQMK"
      },
      "source": [
        "There is a notable spike in number of rides for users aged 50 in 2019 and 51 in 2020 (corresponding to birth year of 1969 for each). Such a distinct jump in citibike popularity within this birth year seems unlikely. One explanation for this spike is data collection methods. The day of the Unix time epoch (the start time for the Unix clock) is set to January 1st, 1970. However, this start time is subject to shifts from time zones and so anyone to the west of Greenwich, England will be using the start day of December 31st, 1969. We theorize that at some point the birth year column of the data was converted to Unix time to be easier to use and the conversion took all 0's or null values as 1969."
      ]
    },
    {
      "cell_type": "code",
      "execution_count": null,
      "metadata": {
        "id": "7CsPYcfmsQMK"
      },
      "outputs": [],
      "source": [
        "sub_byear = pd.DataFrame(columns = months2y,index=range(most_monthly_rides))\n",
        "cust_byear = pd.DataFrame(columns = months2y,index=range(most_monthly_rides))\n",
        "\n",
        "#fill the dataframes by pulling the birth year columns from each month's data\n",
        "for indx, data in enumerate(data19_20):\n",
        "    sub_byear[months2y[indx]] = data.loc[(data['usertype'] == 'Subscriber'), 'birth year']\n",
        "    cust_byear[months2y[indx]] = data.loc[(data['usertype'] == 'Customer') ,'birth year']"
      ]
    },
    {
      "cell_type": "code",
      "execution_count": null,
      "metadata": {
        "id": "CU8i1pyOsQMK",
        "outputId": "098de1ad-da88-4461-ebc9-26b40978d109"
      },
      "outputs": [
        {
          "data": {
            "image/png": "[encoded data removed]",
            "text/plain": [
              "<Figure size 720x360 with 1 Axes>"
            ]
          },
          "metadata": {
            "needs_background": "light"
          },
          "output_type": "display_data"
        }
      ],
      "source": [
        "for x in sub_byear.columns:\n",
        "    clear_output(wait=True)\n",
        "    plt.figure(figsize=(10,5))\n",
        "    plt.hist(sub_byear[x], bins=85, color='skyblue', edgecolor='black', density='true', label = 'Subscribers')\n",
        "    plt.hist(cust_byear[x], bins=85, color='red', edgecolor='black', density='true', label = 'Casual users')\n",
        "    plt.axis((1930, 2005, 0, .7))\n",
        "    plt.ylabel('Proportion of riders')\n",
        "    plt.xlabel('Birth Year of riders')\n",
        "    plt.legend()\n",
        "    plt.title(x)\n",
        "    plt.show() \n",
        "    \n",
        "    time.sleep(1.0)"
      ]
    },
    {
      "cell_type": "markdown",
      "metadata": {
        "id": "D-xRzve3sQML"
      },
      "source": [
        "The proportion of casual riders with birth year of 1969 is consistently above 40% each month, indicating that the spike in number of riders aged 50/51 is in part due to the overrepresentation in customer user type. This is consistent with the theory that the Unix epoch is changing missing birth years to 1969, since casual riders are far more likely to have missing birth years (and demographic information in general) than subscribers. "
      ]
    },
    {
      "cell_type": "code",
      "execution_count": null,
      "metadata": {
        "id": "GclyEuiksQML",
        "outputId": "dec7a009-aced-4c02-912e-829268a746d7",
        "scrolled": true
      },
      "outputs": [
        {
          "data": {
            "text/html": [
              "<div>\n",
              "<style scoped>\n",
              "    .dataframe tbody tr th:only-of-type {\n",
              "        vertical-align: middle;\n",
              "    }\n",
              "\n",
              "    .dataframe tbody tr th {\n",
              "        vertical-align: top;\n",
              "    }\n",
              "\n",
              "    .dataframe thead th {\n",
              "        text-align: right;\n",
              "    }\n",
              "</style>\n",
              "<table border=\"1\" class=\"dataframe\">\n",
              "  <thead>\n",
              "    <tr style=\"text-align: right;\">\n",
              "      <th></th>\n",
              "      <th>range</th>\n",
              "      <th>January 2019</th>\n",
              "      <th>February 2019</th>\n",
              "      <th>March 2019</th>\n",
              "      <th>April 2019</th>\n",
              "      <th>May 2019</th>\n",
              "      <th>June 2019</th>\n",
              "      <th>July 2019</th>\n",
              "      <th>August 2019</th>\n",
              "      <th>September 2019</th>\n",
              "      <th>...</th>\n",
              "      <th>March 2020</th>\n",
              "      <th>April 2020</th>\n",
              "      <th>May 2020</th>\n",
              "      <th>June 2020</th>\n",
              "      <th>July 2020</th>\n",
              "      <th>August 2020</th>\n",
              "      <th>September 2020</th>\n",
              "      <th>October 2020</th>\n",
              "      <th>November 2020</th>\n",
              "      <th>December 2020</th>\n",
              "    </tr>\n",
              "  </thead>\n",
              "  <tbody>\n",
              "    <tr>\n",
              "      <th>0</th>\n",
              "      <td>15-20</td>\n",
              "      <td>0.005788</td>\n",
              "      <td>0.005670</td>\n",
              "      <td>0.007299</td>\n",
              "      <td>0.009031</td>\n",
              "      <td>0.008909</td>\n",
              "      <td>0.010646</td>\n",
              "      <td>0.012855</td>\n",
              "      <td>0.013012</td>\n",
              "      <td>0.012491</td>\n",
              "      <td>...</td>\n",
              "      <td>0.006701</td>\n",
              "      <td>0.005181</td>\n",
              "      <td>0.007341</td>\n",
              "      <td>0.011783</td>\n",
              "      <td>0.012403</td>\n",
              "      <td>0.015192</td>\n",
              "      <td>0.016353</td>\n",
              "      <td>0.016912</td>\n",
              "      <td>0.017588</td>\n",
              "      <td>0.016418</td>\n",
              "    </tr>\n",
              "    <tr>\n",
              "      <th>1</th>\n",
              "      <td>20-25</td>\n",
              "      <td>0.046027</td>\n",
              "      <td>0.054284</td>\n",
              "      <td>0.057442</td>\n",
              "      <td>0.062385</td>\n",
              "      <td>0.063578</td>\n",
              "      <td>0.069968</td>\n",
              "      <td>0.077002</td>\n",
              "      <td>0.080323</td>\n",
              "      <td>0.087487</td>\n",
              "      <td>...</td>\n",
              "      <td>0.058055</td>\n",
              "      <td>0.046309</td>\n",
              "      <td>0.058739</td>\n",
              "      <td>0.072289</td>\n",
              "      <td>0.073247</td>\n",
              "      <td>0.082822</td>\n",
              "      <td>0.085525</td>\n",
              "      <td>0.085689</td>\n",
              "      <td>0.081749</td>\n",
              "      <td>0.070737</td>\n",
              "    </tr>\n",
              "    <tr>\n",
              "      <th>2</th>\n",
              "      <td>25-30</td>\n",
              "      <td>0.170126</td>\n",
              "      <td>0.173755</td>\n",
              "      <td>0.177067</td>\n",
              "      <td>0.184407</td>\n",
              "      <td>0.183588</td>\n",
              "      <td>0.193407</td>\n",
              "      <td>0.194392</td>\n",
              "      <td>0.201719</td>\n",
              "      <td>0.195167</td>\n",
              "      <td>...</td>\n",
              "      <td>0.172101</td>\n",
              "      <td>0.167732</td>\n",
              "      <td>0.187304</td>\n",
              "      <td>0.193276</td>\n",
              "      <td>0.195475</td>\n",
              "      <td>0.201797</td>\n",
              "      <td>0.199303</td>\n",
              "      <td>0.196356</td>\n",
              "      <td>0.185474</td>\n",
              "      <td>0.166006</td>\n",
              "    </tr>\n",
              "    <tr>\n",
              "      <th>3</th>\n",
              "      <td>30-35</td>\n",
              "      <td>0.179070</td>\n",
              "      <td>0.181667</td>\n",
              "      <td>0.182148</td>\n",
              "      <td>0.182665</td>\n",
              "      <td>0.181147</td>\n",
              "      <td>0.183473</td>\n",
              "      <td>0.184551</td>\n",
              "      <td>0.186123</td>\n",
              "      <td>0.178383</td>\n",
              "      <td>...</td>\n",
              "      <td>0.178562</td>\n",
              "      <td>0.201754</td>\n",
              "      <td>0.207104</td>\n",
              "      <td>0.201431</td>\n",
              "      <td>0.197212</td>\n",
              "      <td>0.194831</td>\n",
              "      <td>0.186858</td>\n",
              "      <td>0.185869</td>\n",
              "      <td>0.182722</td>\n",
              "      <td>0.176361</td>\n",
              "    </tr>\n",
              "    <tr>\n",
              "      <th>4</th>\n",
              "      <td>35-40</td>\n",
              "      <td>0.143725</td>\n",
              "      <td>0.142427</td>\n",
              "      <td>0.136174</td>\n",
              "      <td>0.130617</td>\n",
              "      <td>0.128882</td>\n",
              "      <td>0.126142</td>\n",
              "      <td>0.127147</td>\n",
              "      <td>0.124744</td>\n",
              "      <td>0.123575</td>\n",
              "      <td>...</td>\n",
              "      <td>0.129931</td>\n",
              "      <td>0.128968</td>\n",
              "      <td>0.121405</td>\n",
              "      <td>0.117507</td>\n",
              "      <td>0.119252</td>\n",
              "      <td>0.115436</td>\n",
              "      <td>0.114405</td>\n",
              "      <td>0.114853</td>\n",
              "      <td>0.117559</td>\n",
              "      <td>0.121978</td>\n",
              "    </tr>\n",
              "    <tr>\n",
              "      <th>5</th>\n",
              "      <td>40-45</td>\n",
              "      <td>0.106924</td>\n",
              "      <td>0.102681</td>\n",
              "      <td>0.098856</td>\n",
              "      <td>0.092565</td>\n",
              "      <td>0.092753</td>\n",
              "      <td>0.087950</td>\n",
              "      <td>0.086328</td>\n",
              "      <td>0.082613</td>\n",
              "      <td>0.086546</td>\n",
              "      <td>...</td>\n",
              "      <td>0.092872</td>\n",
              "      <td>0.085094</td>\n",
              "      <td>0.075557</td>\n",
              "      <td>0.073392</td>\n",
              "      <td>0.076010</td>\n",
              "      <td>0.071770</td>\n",
              "      <td>0.074500</td>\n",
              "      <td>0.076102</td>\n",
              "      <td>0.079263</td>\n",
              "      <td>0.086788</td>\n",
              "    </tr>\n",
              "    <tr>\n",
              "      <th>6</th>\n",
              "      <td>45-50</td>\n",
              "      <td>0.096153</td>\n",
              "      <td>0.092666</td>\n",
              "      <td>0.088402</td>\n",
              "      <td>0.080934</td>\n",
              "      <td>0.081425</td>\n",
              "      <td>0.075520</td>\n",
              "      <td>0.072009</td>\n",
              "      <td>0.067997</td>\n",
              "      <td>0.075025</td>\n",
              "      <td>...</td>\n",
              "      <td>0.080698</td>\n",
              "      <td>0.071199</td>\n",
              "      <td>0.060386</td>\n",
              "      <td>0.058959</td>\n",
              "      <td>0.058721</td>\n",
              "      <td>0.055184</td>\n",
              "      <td>0.060647</td>\n",
              "      <td>0.063748</td>\n",
              "      <td>0.068647</td>\n",
              "      <td>0.078967</td>\n",
              "    </tr>\n",
              "    <tr>\n",
              "      <th>7</th>\n",
              "      <td>50-55</td>\n",
              "      <td>0.112619</td>\n",
              "      <td>0.112616</td>\n",
              "      <td>0.124681</td>\n",
              "      <td>0.142367</td>\n",
              "      <td>0.150295</td>\n",
              "      <td>0.150829</td>\n",
              "      <td>0.145498</td>\n",
              "      <td>0.148799</td>\n",
              "      <td>0.141528</td>\n",
              "      <td>...</td>\n",
              "      <td>0.145283</td>\n",
              "      <td>0.172889</td>\n",
              "      <td>0.187479</td>\n",
              "      <td>0.177442</td>\n",
              "      <td>0.173793</td>\n",
              "      <td>0.174278</td>\n",
              "      <td>0.167912</td>\n",
              "      <td>0.162575</td>\n",
              "      <td>0.157623</td>\n",
              "      <td>0.148583</td>\n",
              "    </tr>\n",
              "    <tr>\n",
              "      <th>8</th>\n",
              "      <td>55-60</td>\n",
              "      <td>0.068785</td>\n",
              "      <td>0.066024</td>\n",
              "      <td>0.062659</td>\n",
              "      <td>0.056958</td>\n",
              "      <td>0.054793</td>\n",
              "      <td>0.051612</td>\n",
              "      <td>0.050010</td>\n",
              "      <td>0.047225</td>\n",
              "      <td>0.050607</td>\n",
              "      <td>...</td>\n",
              "      <td>0.063552</td>\n",
              "      <td>0.055789</td>\n",
              "      <td>0.043892</td>\n",
              "      <td>0.043315</td>\n",
              "      <td>0.043902</td>\n",
              "      <td>0.041583</td>\n",
              "      <td>0.044280</td>\n",
              "      <td>0.046108</td>\n",
              "      <td>0.051295</td>\n",
              "      <td>0.063080</td>\n",
              "    </tr>\n",
              "    <tr>\n",
              "      <th>9</th>\n",
              "      <td>60-65</td>\n",
              "      <td>0.041650</td>\n",
              "      <td>0.039565</td>\n",
              "      <td>0.037619</td>\n",
              "      <td>0.034063</td>\n",
              "      <td>0.031972</td>\n",
              "      <td>0.029795</td>\n",
              "      <td>0.029507</td>\n",
              "      <td>0.027931</td>\n",
              "      <td>0.028891</td>\n",
              "      <td>...</td>\n",
              "      <td>0.041433</td>\n",
              "      <td>0.035923</td>\n",
              "      <td>0.027978</td>\n",
              "      <td>0.028250</td>\n",
              "      <td>0.027789</td>\n",
              "      <td>0.026263</td>\n",
              "      <td>0.028446</td>\n",
              "      <td>0.029056</td>\n",
              "      <td>0.031985</td>\n",
              "      <td>0.039646</td>\n",
              "    </tr>\n",
              "    <tr>\n",
              "      <th>10</th>\n",
              "      <td>65-70</td>\n",
              "      <td>0.019424</td>\n",
              "      <td>0.018689</td>\n",
              "      <td>0.018219</td>\n",
              "      <td>0.015720</td>\n",
              "      <td>0.014811</td>\n",
              "      <td>0.013249</td>\n",
              "      <td>0.013211</td>\n",
              "      <td>0.012497</td>\n",
              "      <td>0.012964</td>\n",
              "      <td>...</td>\n",
              "      <td>0.019466</td>\n",
              "      <td>0.018318</td>\n",
              "      <td>0.014312</td>\n",
              "      <td>0.014009</td>\n",
              "      <td>0.013927</td>\n",
              "      <td>0.012807</td>\n",
              "      <td>0.013183</td>\n",
              "      <td>0.013722</td>\n",
              "      <td>0.015969</td>\n",
              "      <td>0.019323</td>\n",
              "    </tr>\n",
              "    <tr>\n",
              "      <th>11</th>\n",
              "      <td>70-75</td>\n",
              "      <td>0.006469</td>\n",
              "      <td>0.006503</td>\n",
              "      <td>0.006192</td>\n",
              "      <td>0.005630</td>\n",
              "      <td>0.005221</td>\n",
              "      <td>0.004880</td>\n",
              "      <td>0.005035</td>\n",
              "      <td>0.004800</td>\n",
              "      <td>0.004866</td>\n",
              "      <td>...</td>\n",
              "      <td>0.006889</td>\n",
              "      <td>0.006443</td>\n",
              "      <td>0.005181</td>\n",
              "      <td>0.005573</td>\n",
              "      <td>0.005426</td>\n",
              "      <td>0.005219</td>\n",
              "      <td>0.005427</td>\n",
              "      <td>0.005674</td>\n",
              "      <td>0.006261</td>\n",
              "      <td>0.007318</td>\n",
              "    </tr>\n",
              "    <tr>\n",
              "      <th>12</th>\n",
              "      <td>75-80</td>\n",
              "      <td>0.002404</td>\n",
              "      <td>0.002489</td>\n",
              "      <td>0.002337</td>\n",
              "      <td>0.001887</td>\n",
              "      <td>0.001875</td>\n",
              "      <td>0.001705</td>\n",
              "      <td>0.001698</td>\n",
              "      <td>0.001529</td>\n",
              "      <td>0.001648</td>\n",
              "      <td>...</td>\n",
              "      <td>0.002511</td>\n",
              "      <td>0.002544</td>\n",
              "      <td>0.001948</td>\n",
              "      <td>0.001718</td>\n",
              "      <td>0.001627</td>\n",
              "      <td>0.001684</td>\n",
              "      <td>0.001862</td>\n",
              "      <td>0.001971</td>\n",
              "      <td>0.002464</td>\n",
              "      <td>0.003009</td>\n",
              "    </tr>\n",
              "    <tr>\n",
              "      <th>13</th>\n",
              "      <td>80-85</td>\n",
              "      <td>0.000625</td>\n",
              "      <td>0.000771</td>\n",
              "      <td>0.000692</td>\n",
              "      <td>0.000569</td>\n",
              "      <td>0.000557</td>\n",
              "      <td>0.000584</td>\n",
              "      <td>0.000507</td>\n",
              "      <td>0.000453</td>\n",
              "      <td>0.000560</td>\n",
              "      <td>...</td>\n",
              "      <td>0.001551</td>\n",
              "      <td>0.001601</td>\n",
              "      <td>0.001040</td>\n",
              "      <td>0.000763</td>\n",
              "      <td>0.000960</td>\n",
              "      <td>0.000864</td>\n",
              "      <td>0.000886</td>\n",
              "      <td>0.000985</td>\n",
              "      <td>0.000880</td>\n",
              "      <td>0.001135</td>\n",
              "    </tr>\n",
              "  </tbody>\n",
              "</table>\n",
              "<p>14 rows × 25 columns</p>\n",
              "</div>"
            ],
            "text/plain": [
              "    range  January 2019  February 2019  March 2019  April 2019  May 2019  \\\n",
              "0   15-20      0.005788       0.005670    0.007299    0.009031  0.008909   \n",
              "1   20-25      0.046027       0.054284    0.057442    0.062385  0.063578   \n",
              "2   25-30      0.170126       0.173755    0.177067    0.184407  0.183588   \n",
              "3   30-35      0.179070       0.181667    0.182148    0.182665  0.181147   \n",
              "4   35-40      0.143725       0.142427    0.136174    0.130617  0.128882   \n",
              "5   40-45      0.106924       0.102681    0.098856    0.092565  0.092753   \n",
              "6   45-50      0.096153       0.092666    0.088402    0.080934  0.081425   \n",
              "7   50-55      0.112619       0.112616    0.124681    0.142367  0.150295   \n",
              "8   55-60      0.068785       0.066024    0.062659    0.056958  0.054793   \n",
              "9   60-65      0.041650       0.039565    0.037619    0.034063  0.031972   \n",
              "10  65-70      0.019424       0.018689    0.018219    0.015720  0.014811   \n",
              "11  70-75      0.006469       0.006503    0.006192    0.005630  0.005221   \n",
              "12  75-80      0.002404       0.002489    0.002337    0.001887  0.001875   \n",
              "13  80-85      0.000625       0.000771    0.000692    0.000569  0.000557   \n",
              "\n",
              "    June 2019  July 2019  August 2019  September 2019  ...  March 2020  \\\n",
              "0    0.010646   0.012855     0.013012        0.012491  ...    0.006701   \n",
              "1    0.069968   0.077002     0.080323        0.087487  ...    0.058055   \n",
              "2    0.193407   0.194392     0.201719        0.195167  ...    0.172101   \n",
              "3    0.183473   0.184551     0.186123        0.178383  ...    0.178562   \n",
              "4    0.126142   0.127147     0.124744        0.123575  ...    0.129931   \n",
              "5    0.087950   0.086328     0.082613        0.086546  ...    0.092872   \n",
              "6    0.075520   0.072009     0.067997        0.075025  ...    0.080698   \n",
              "7    0.150829   0.145498     0.148799        0.141528  ...    0.145283   \n",
              "8    0.051612   0.050010     0.047225        0.050607  ...    0.063552   \n",
              "9    0.029795   0.029507     0.027931        0.028891  ...    0.041433   \n",
              "10   0.013249   0.013211     0.012497        0.012964  ...    0.019466   \n",
              "11   0.004880   0.005035     0.004800        0.004866  ...    0.006889   \n",
              "12   0.001705   0.001698     0.001529        0.001648  ...    0.002511   \n",
              "13   0.000584   0.000507     0.000453        0.000560  ...    0.001551   \n",
              "\n",
              "    April 2020  May 2020  June 2020  July 2020  August 2020  September 2020  \\\n",
              "0     0.005181  0.007341   0.011783   0.012403     0.015192        0.016353   \n",
              "1     0.046309  0.058739   0.072289   0.073247     0.082822        0.085525   \n",
              "2     0.167732  0.187304   0.193276   0.195475     0.201797        0.199303   \n",
              "3     0.201754  0.207104   0.201431   0.197212     0.194831        0.186858   \n",
              "4     0.128968  0.121405   0.117507   0.119252     0.115436        0.114405   \n",
              "5     0.085094  0.075557   0.073392   0.076010     0.071770        0.074500   \n",
              "6     0.071199  0.060386   0.058959   0.058721     0.055184        0.060647   \n",
              "7     0.172889  0.187479   0.177442   0.173793     0.174278        0.167912   \n",
              "8     0.055789  0.043892   0.043315   0.043902     0.041583        0.044280   \n",
              "9     0.035923  0.027978   0.028250   0.027789     0.026263        0.028446   \n",
              "10    0.018318  0.014312   0.014009   0.013927     0.012807        0.013183   \n",
              "11    0.006443  0.005181   0.005573   0.005426     0.005219        0.005427   \n",
              "12    0.002544  0.001948   0.001718   0.001627     0.001684        0.001862   \n",
              "13    0.001601  0.001040   0.000763   0.000960     0.000864        0.000886   \n",
              "\n",
              "    October 2020  November 2020  December 2020  \n",
              "0       0.016912       0.017588       0.016418  \n",
              "1       0.085689       0.081749       0.070737  \n",
              "2       0.196356       0.185474       0.166006  \n",
              "3       0.185869       0.182722       0.176361  \n",
              "4       0.114853       0.117559       0.121978  \n",
              "5       0.076102       0.079263       0.086788  \n",
              "6       0.063748       0.068647       0.078967  \n",
              "7       0.162575       0.157623       0.148583  \n",
              "8       0.046108       0.051295       0.063080  \n",
              "9       0.029056       0.031985       0.039646  \n",
              "10      0.013722       0.015969       0.019323  \n",
              "11      0.005674       0.006261       0.007318  \n",
              "12      0.001971       0.002464       0.003009  \n",
              "13      0.000985       0.000880       0.001135  \n",
              "\n",
              "[14 rows x 25 columns]"
            ]
          },
          "execution_count": 23,
          "metadata": {},
          "output_type": "execute_result"
        }
      ],
      "source": [
        "# Create a dataframe displaying the age distribution of riders each month\n",
        "\n",
        "# Set start age, end age and the increment you want. \n",
        "start = 15\n",
        "end = 85\n",
        "inc = 5\n",
        "\n",
        "# Create a blank dataframe to fill with distribution of ages.\n",
        "Age_dist = pd.DataFrame()\n",
        "Age_dist['range'] = ['%s-%s' % (age, age+inc) for age in range(start, end, inc)]\n",
        "Age_dist.set_index('range')\n",
        "\n",
        "data = Ages2019_2020\n",
        "\n",
        "for x in data.columns:\n",
        "    # Create an empty list to fill with the distribution of ages for month x\n",
        "    month_data = []\n",
        "    for age in range(start, end, inc):\n",
        "        # Fill list 'month_dist'\n",
        "        month_data.append(len(data[(data[x] >= age) & (data[x] < age + inc)])/len(data[data[x].notna()]))\n",
        "    Age_dist[x] = month_data\n",
        "    \n",
        "Age_dist"
      ]
    },
    {
      "cell_type": "code",
      "execution_count": null,
      "metadata": {
        "id": "cntnJXAcsQMM",
        "outputId": "ae3f7183-6bfb-44c1-8cfb-0012e2893ef6",
        "scrolled": true
      },
      "outputs": [
        {
          "data": {
            "image/png": "[encoded data removed]",
            "text/plain": [
              "<Figure size 1224x360 with 1 Axes>"
            ]
          },
          "metadata": {
            "needs_background": "light"
          },
          "output_type": "display_data"
        }
      ],
      "source": [
        "# Plot each row of the dataframe Age_dist \n",
        "\n",
        "plt.figure(figsize = (17,5)) #set figure size \n",
        "\n",
        "colormap = plt.cm.gist_ncar # set color scheme for plot\n",
        "plt.gca().set_prop_cycle(plt.cycler('color', plt.cm.jet(np.linspace(0, 1,14)))) # to cycle through colors for each line plotted\n",
        "\n",
        "for x in range(14):\n",
        "    plt.plot(Age_dist.iloc[13-x,1:].values, label = Age_dist.iloc[13-x,0]) #plot each age group as a percent of monthly riders \n",
        "\n",
        "plt.legend(loc = 'lower right', frameon = True, framealpha= 1)\n",
        "plt.xlabel('Month')\n",
        "plt.ylabel(\"% of Riders\")\n",
        "plt.title('Age Groups as a Percent of Monthly Riders')\n",
        "\n",
        "plt.xticks(range(0,24),short_months2y)\n",
        "plt.yticks(np.arange(0,.25,step=.05),[int(x) for x in np.linspace(0,20,5)])\n",
        "plt.show()"
      ]
    },
    {
      "cell_type": "markdown",
      "metadata": {
        "id": "031ebNmWsQMM"
      },
      "source": [
        "It is evident that younger riders tend to account for a larger percentage of ridership. This can be observed in the rainbow effect of the graph. The two groups that seem to be outliers are the 15-19 age group and the 50-54 age group. We have already explored why the 50-54 age group may be mistakenly overrepresented in our data. However, Unix time mistakes cannot account for the underrepresentation of riders in the 15-19 age group. This group seems to account for a smaller percent of ridership as compared to the next yougest age groups. This could be in part because Citibike's minimum age is 16, but this still would not entirely account for the sharp decrease in ridership in this group in particular. Another reasonable explanation for might be that riders ages 15-19 are less likely to be subscribers. As subscribers vastly outnumber customers in terms of number of rides per month, this may explain the low percentage for 15-19 age group. It is worth noting that both the 15-19 and 20-24 age groups exhibited more seasonal variation that other groups. Specifically, they both exbhibited a large uptick in ridership around the summer months. "
      ]
    },
    {
      "cell_type": "markdown",
      "metadata": {
        "id": "v3CiLrd5sQMO"
      },
      "source": [
        "**1.5 What are the demographics of our subscribers as compared to those of our casual users?**"
      ]
    },
    {
      "cell_type": "markdown",
      "metadata": {
        "id": "vqtDPVoPsQMO"
      },
      "source": [
        "About 45% of casual riders have their gender listed as unknown as compared to less than 2% for subscribers. To compensate for this, we filtered out unknown values (gender = 0). Note that this type of data capturing deficiency also supports the theory around birth year for casual riders. For casual riders, the gender and birth year fields are missing or likely inaccurate."
      ]
    },
    {
      "cell_type": "code",
      "execution_count": null,
      "metadata": {
        "id": "cN2b6j15sQMO"
      },
      "outputs": [],
      "source": [
        "sub_gender = pd.DataFrame(columns = months2y,index=range(most_monthly_rides))\n",
        "cus_gender = pd.DataFrame(columns = months2y,index=range(most_monthly_rides))\n",
        "\n",
        "#fill the dataframes by pulling the gender columns from each month's data\n",
        "for indx, data in enumerate(data19_20):\n",
        "    sub_gender[months2y[indx]] = data.loc[(data['usertype'] == 'Subscriber') & (data['gender'] != 0), 'gender']\n",
        "    cus_gender[months2y[indx]] = data.loc[(data['usertype'] == 'Customer') & (data['gender'] != 0),'gender']"
      ]
    },
    {
      "cell_type": "code",
      "execution_count": null,
      "metadata": {
        "id": "DCPmpvqOsQMO"
      },
      "outputs": [],
      "source": [
        "genders = [1,2] \n",
        "indx = ['1: Male', '2: Female']\n",
        "sub_gen = distribution(sub_gender, genders, indx)\n",
        "cus_gen = distribution(cus_gender, genders, indx)"
      ]
    },
    {
      "cell_type": "code",
      "execution_count": null,
      "metadata": {
        "id": "NQWSzOOfsQMP",
        "outputId": "71e7eb74-7be9-4752-eed1-5844987a2590"
      },
      "outputs": [
        {
          "data": {
            "text/html": [
              "<div>\n",
              "<style scoped>\n",
              "    .dataframe tbody tr th:only-of-type {\n",
              "        vertical-align: middle;\n",
              "    }\n",
              "\n",
              "    .dataframe tbody tr th {\n",
              "        vertical-align: top;\n",
              "    }\n",
              "\n",
              "    .dataframe thead th {\n",
              "        text-align: right;\n",
              "    }\n",
              "</style>\n",
              "<table border=\"1\" class=\"dataframe\">\n",
              "  <thead>\n",
              "    <tr style=\"text-align: right;\">\n",
              "      <th></th>\n",
              "      <th>January 2019</th>\n",
              "      <th>February 2019</th>\n",
              "      <th>March 2019</th>\n",
              "      <th>April 2019</th>\n",
              "      <th>May 2019</th>\n",
              "      <th>June 2019</th>\n",
              "      <th>July 2019</th>\n",
              "      <th>August 2019</th>\n",
              "      <th>September 2019</th>\n",
              "      <th>October 2019</th>\n",
              "      <th>...</th>\n",
              "      <th>March 2020</th>\n",
              "      <th>April 2020</th>\n",
              "      <th>May 2020</th>\n",
              "      <th>June 2020</th>\n",
              "      <th>July 2020</th>\n",
              "      <th>August 2020</th>\n",
              "      <th>September 2020</th>\n",
              "      <th>October 2020</th>\n",
              "      <th>November 2020</th>\n",
              "      <th>December 2020</th>\n",
              "    </tr>\n",
              "  </thead>\n",
              "  <tbody>\n",
              "    <tr>\n",
              "      <th>1: Male</th>\n",
              "      <td>77.99</td>\n",
              "      <td>77.7</td>\n",
              "      <td>77.09</td>\n",
              "      <td>75.72</td>\n",
              "      <td>74.74</td>\n",
              "      <td>73.8</td>\n",
              "      <td>73.75</td>\n",
              "      <td>73.55</td>\n",
              "      <td>73.24</td>\n",
              "      <td>74.36</td>\n",
              "      <td>...</td>\n",
              "      <td>74.29</td>\n",
              "      <td>70.0</td>\n",
              "      <td>66.53</td>\n",
              "      <td>66.29</td>\n",
              "      <td>67.09</td>\n",
              "      <td>67.45</td>\n",
              "      <td>67.28</td>\n",
              "      <td>68.16</td>\n",
              "      <td>68.86</td>\n",
              "      <td>71.1</td>\n",
              "    </tr>\n",
              "    <tr>\n",
              "      <th>2: Female</th>\n",
              "      <td>22.01</td>\n",
              "      <td>22.3</td>\n",
              "      <td>22.91</td>\n",
              "      <td>24.28</td>\n",
              "      <td>25.26</td>\n",
              "      <td>26.2</td>\n",
              "      <td>26.25</td>\n",
              "      <td>26.45</td>\n",
              "      <td>26.76</td>\n",
              "      <td>25.64</td>\n",
              "      <td>...</td>\n",
              "      <td>25.71</td>\n",
              "      <td>30.0</td>\n",
              "      <td>33.47</td>\n",
              "      <td>33.71</td>\n",
              "      <td>32.91</td>\n",
              "      <td>32.55</td>\n",
              "      <td>32.72</td>\n",
              "      <td>31.84</td>\n",
              "      <td>31.14</td>\n",
              "      <td>28.9</td>\n",
              "    </tr>\n",
              "  </tbody>\n",
              "</table>\n",
              "<p>2 rows × 24 columns</p>\n",
              "</div>"
            ],
            "text/plain": [
              "           January 2019  February 2019  March 2019  April 2019  May 2019  \\\n",
              "1: Male           77.99           77.7       77.09       75.72     74.74   \n",
              "2: Female         22.01           22.3       22.91       24.28     25.26   \n",
              "\n",
              "           June 2019  July 2019  August 2019  September 2019  October 2019  \\\n",
              "1: Male         73.8      73.75        73.55           73.24         74.36   \n",
              "2: Female       26.2      26.25        26.45           26.76         25.64   \n",
              "\n",
              "           ...  March 2020  April 2020  May 2020  June 2020  July 2020  \\\n",
              "1: Male    ...       74.29        70.0     66.53      66.29      67.09   \n",
              "2: Female  ...       25.71        30.0     33.47      33.71      32.91   \n",
              "\n",
              "           August 2020  September 2020  October 2020  November 2020  \\\n",
              "1: Male          67.45           67.28         68.16          68.86   \n",
              "2: Female        32.55           32.72         31.84          31.14   \n",
              "\n",
              "           December 2020  \n",
              "1: Male             71.1  \n",
              "2: Female           28.9  \n",
              "\n",
              "[2 rows x 24 columns]"
            ]
          },
          "execution_count": 101,
          "metadata": {},
          "output_type": "execute_result"
        }
      ],
      "source": [
        "sub_gen"
      ]
    },
    {
      "cell_type": "code",
      "execution_count": null,
      "metadata": {
        "id": "PjBi2PGcsQMP",
        "outputId": "7ea148d6-7ee7-4cad-f6f4-5373d195ef70"
      },
      "outputs": [
        {
          "data": {
            "text/html": [
              "<div>\n",
              "<style scoped>\n",
              "    .dataframe tbody tr th:only-of-type {\n",
              "        vertical-align: middle;\n",
              "    }\n",
              "\n",
              "    .dataframe tbody tr th {\n",
              "        vertical-align: top;\n",
              "    }\n",
              "\n",
              "    .dataframe thead th {\n",
              "        text-align: right;\n",
              "    }\n",
              "</style>\n",
              "<table border=\"1\" class=\"dataframe\">\n",
              "  <thead>\n",
              "    <tr style=\"text-align: right;\">\n",
              "      <th></th>\n",
              "      <th>January 2019</th>\n",
              "      <th>February 2019</th>\n",
              "      <th>March 2019</th>\n",
              "      <th>April 2019</th>\n",
              "      <th>May 2019</th>\n",
              "      <th>June 2019</th>\n",
              "      <th>July 2019</th>\n",
              "      <th>August 2019</th>\n",
              "      <th>September 2019</th>\n",
              "      <th>October 2019</th>\n",
              "      <th>...</th>\n",
              "      <th>March 2020</th>\n",
              "      <th>April 2020</th>\n",
              "      <th>May 2020</th>\n",
              "      <th>June 2020</th>\n",
              "      <th>July 2020</th>\n",
              "      <th>August 2020</th>\n",
              "      <th>September 2020</th>\n",
              "      <th>October 2020</th>\n",
              "      <th>November 2020</th>\n",
              "      <th>December 2020</th>\n",
              "    </tr>\n",
              "  </thead>\n",
              "  <tbody>\n",
              "    <tr>\n",
              "      <th>1: Male</th>\n",
              "      <td>74.69</td>\n",
              "      <td>73.09</td>\n",
              "      <td>66.91</td>\n",
              "      <td>63.99</td>\n",
              "      <td>62.63</td>\n",
              "      <td>62.71</td>\n",
              "      <td>63.08</td>\n",
              "      <td>62.49</td>\n",
              "      <td>62.72</td>\n",
              "      <td>65.32</td>\n",
              "      <td>...</td>\n",
              "      <td>62.97</td>\n",
              "      <td>59.2</td>\n",
              "      <td>54.92</td>\n",
              "      <td>55.79</td>\n",
              "      <td>58.02</td>\n",
              "      <td>58.85</td>\n",
              "      <td>59.17</td>\n",
              "      <td>61.56</td>\n",
              "      <td>62.98</td>\n",
              "      <td>67.56</td>\n",
              "    </tr>\n",
              "    <tr>\n",
              "      <th>2: Female</th>\n",
              "      <td>25.31</td>\n",
              "      <td>26.91</td>\n",
              "      <td>33.09</td>\n",
              "      <td>36.01</td>\n",
              "      <td>37.37</td>\n",
              "      <td>37.29</td>\n",
              "      <td>36.92</td>\n",
              "      <td>37.51</td>\n",
              "      <td>37.28</td>\n",
              "      <td>34.68</td>\n",
              "      <td>...</td>\n",
              "      <td>37.03</td>\n",
              "      <td>40.8</td>\n",
              "      <td>45.08</td>\n",
              "      <td>44.21</td>\n",
              "      <td>41.98</td>\n",
              "      <td>41.15</td>\n",
              "      <td>40.83</td>\n",
              "      <td>38.44</td>\n",
              "      <td>37.02</td>\n",
              "      <td>32.44</td>\n",
              "    </tr>\n",
              "  </tbody>\n",
              "</table>\n",
              "<p>2 rows × 24 columns</p>\n",
              "</div>"
            ],
            "text/plain": [
              "           January 2019  February 2019  March 2019  April 2019  May 2019  \\\n",
              "1: Male           74.69          73.09       66.91       63.99     62.63   \n",
              "2: Female         25.31          26.91       33.09       36.01     37.37   \n",
              "\n",
              "           June 2019  July 2019  August 2019  September 2019  October 2019  \\\n",
              "1: Male        62.71      63.08        62.49           62.72         65.32   \n",
              "2: Female      37.29      36.92        37.51           37.28         34.68   \n",
              "\n",
              "           ...  March 2020  April 2020  May 2020  June 2020  July 2020  \\\n",
              "1: Male    ...       62.97        59.2     54.92      55.79      58.02   \n",
              "2: Female  ...       37.03        40.8     45.08      44.21      41.98   \n",
              "\n",
              "           August 2020  September 2020  October 2020  November 2020  \\\n",
              "1: Male          58.85           59.17         61.56          62.98   \n",
              "2: Female        41.15           40.83         38.44          37.02   \n",
              "\n",
              "           December 2020  \n",
              "1: Male            67.56  \n",
              "2: Female          32.44  \n",
              "\n",
              "[2 rows x 24 columns]"
            ]
          },
          "execution_count": 102,
          "metadata": {},
          "output_type": "execute_result"
        }
      ],
      "source": [
        "cus_gen"
      ]
    },
    {
      "cell_type": "code",
      "execution_count": null,
      "metadata": {
        "id": "eLkPxK96sQMP",
        "outputId": "a1856be4-f0f8-4cbd-c48a-e8c0791b6558"
      },
      "outputs": [
        {
          "data": {
            "image/png": "[encoded data removed]",
            "text/plain": [
              "<Figure size 1440x360 with 1 Axes>"
            ]
          },
          "metadata": {
            "needs_background": "light"
          },
          "output_type": "display_data"
        }
      ],
      "source": [
        "plt.figure(figsize=(20,5))\n",
        "plt.xlabel('Month')\n",
        "plt.ylabel('% of Riders')\n",
        "plt.title('Men as % of Customers')\n",
        "plt.plot(cus_gen.iloc[0,:].values, label = 'Casual Riders')\n",
        "plt.plot(sub_gen.iloc[0,:].values, label = 'Subscribers')\n",
        "plt.xticks(range(24), short_months2y)\n",
        "plt.legend()\n",
        "plt.show()"
      ]
    },
    {
      "cell_type": "code",
      "execution_count": null,
      "metadata": {
        "id": "KwzdhHxysQMP",
        "outputId": "b84470cc-8c29-4bde-be4f-491e93bcaeae"
      },
      "outputs": [
        {
          "data": {
            "image/png": "[encoded data removed]",
            "text/plain": [
              "<Figure size 1440x360 with 1 Axes>"
            ]
          },
          "metadata": {
            "needs_background": "light"
          },
          "output_type": "display_data"
        }
      ],
      "source": [
        "plt.figure(figsize=(20,5))\n",
        "plt.xlabel('Month')\n",
        "plt.ylabel('% of Riders')\n",
        "plt.title('Women as % of Customers')\n",
        "plt.plot(cus_gen.iloc[1,:].values, label = 'Casual Riders')\n",
        "plt.plot(sub_gen.iloc[1,:].values, label = 'Subscribers')\n",
        "plt.xticks(range(24), short_months2y)\n",
        "plt.legend()\n",
        "plt.show()"
      ]
    },
    {
      "cell_type": "code",
      "execution_count": null,
      "metadata": {
        "id": "sSiZJtmcsQMP"
      },
      "outputs": [],
      "source": [
        "sub_age = pd.DataFrame(columns = months2y,index=range(most_monthly_rides))\n",
        "cus_age = pd.DataFrame(columns = months2y,index=range(most_monthly_rides))\n",
        "\n",
        "#fill the dataframes by pulling the age columns from each month's data\n",
        "for indx, data in enumerate(data19_20):\n",
        "    sub_age[months2y[indx]] = data.loc[(data['usertype'] == 'Subscriber'), 'age']\n",
        "    cus_age[months2y[indx]] = data.loc[(data['usertype'] == 'Customer'),'age']"
      ]
    },
    {
      "cell_type": "code",
      "execution_count": null,
      "metadata": {
        "id": "14W0v7L9sQMP",
        "scrolled": true
      },
      "outputs": [],
      "source": [
        "# Set start age, end age and the increment you want. \n",
        "start = 15\n",
        "end = 85\n",
        "inc = 10\n",
        "\n",
        "# Create a blank dataframe to fill with distribution of ages.\n",
        "Subage = pd.DataFrame(index = ['%s-%s' % (age, age+inc) for age in range(start, end, inc)])\n",
        "\n",
        "data = sub_age\n",
        "\n",
        "for x in data.columns:\n",
        "    # Create an empty list to fill with the distribution of ages for month x\n",
        "    month_data = []\n",
        "    for age in range(start, end, inc):\n",
        "        month_data.append(len(data[(data[x] >= age) & (data[x] < age + inc)])/len(data[data[x].notna()]))\n",
        "    Subage[x] = month_data\n",
        "    \n",
        "Subage = Subage*100"
      ]
    },
    {
      "cell_type": "code",
      "execution_count": null,
      "metadata": {
        "id": "HNagpLW6sQMQ"
      },
      "outputs": [],
      "source": [
        "# Create a blank dataframe to fill with distribution of ages.\n",
        "Cusage = pd.DataFrame(index = ['%s-%s' % (age, age+inc) for age in range(start, end, inc)])\n",
        "\n",
        "data = cus_age\n",
        "\n",
        "for x in data.columns:\n",
        "    # Create an empty list to fill with the distribution of ages for month x\n",
        "    month_data = []\n",
        "    for age in range(start, end, inc):\n",
        "        month_data.append(len(data[(data[x] >= age) & (data[x] < age + inc)])/len(data[data[x].notna()]))\n",
        "    Cusage[x] = month_data\n",
        "    \n",
        "Cusage = Cusage*100"
      ]
    },
    {
      "cell_type": "code",
      "execution_count": null,
      "metadata": {
        "id": "AWBq5EC9sQMQ",
        "outputId": "615f20a4-1a19-4ca1-e335-bb8e038c4cdb"
      },
      "outputs": [
        {
          "data": {
            "image/png": "[encoded data removed]",
            "text/plain": [
              "<Figure size 720x360 with 1 Axes>"
            ]
          },
          "metadata": {
            "needs_background": "light"
          },
          "output_type": "display_data"
        }
      ],
      "source": [
        "sub_means = list(Subage.mean(axis=1).values)\n",
        "cus_means = list(Cusage.mean(axis=1).values)\n",
        "\n",
        "labels= ['%s-%s' % (age, age+inc-1) for age in range(start, end, inc)]\n",
        "plt.figure(figsize =(10,5))\n",
        "x1 = [1,2,3,4,5,6,7]\n",
        "x2 = [.7,1.7,2.7,3.7,4.7,5.7,6.7]\n",
        "ax = plt.subplot()\n",
        "ax.bar(x1,sub_means, width=0.3, color='orange',align ='center', label='Subscribers')\n",
        "ax.bar(x2, cus_means, width=0.3, color ='b', align='center',label='Casual riders')\n",
        "ax.set_ylabel('% of riders')\n",
        "ax.set_title('Distribution of Customer Type by Age')\n",
        "plt.xticks(x1, labels)\n",
        "plt.legend()\n",
        "plt.show()"
      ]
    },
    {
      "cell_type": "markdown",
      "metadata": {
        "id": "0q8Ej9TosQMQ"
      },
      "source": [
        "Gender:\n",
        "There seems to be a skew towards men being subscribers. They consistently account for a larger chunk of the subscriber rides than they do casual rides. Women seem to be the opposite, consistently accounting for a larger chunk of the casual rides as compared to subscriber rides. Both casual and subscription rides followed a similar pattern in seeing fewer female riders around January. This was true for both 2019 and 2020.\n",
        "\n",
        "Age:\n",
        "It seems that the proportion of subscription rides decreases steadily from the 25-34 age group onward, and casual rides increase in frequency up until the 45-54 age group. \n",
        "Notably, subscriber rides outnumber customer rides in every age group apart from 15-24 and 45-54. This observation is consistent with a previous observation that the birth year of 1969 accounts for at least 40% of all customer rides across all 24 months. This graph also supports the theory that riders aged 15-19 are less likely to be subscribers than riders in other age groups. \n"
      ]
    },
    {
      "cell_type": "markdown",
      "metadata": {
        "id": "V2D9SbiasQMQ"
      },
      "source": [
        "<h2>Section 2: How are Citibike's being used?</h2>"
      ]
    },
    {
      "cell_type": "markdown",
      "metadata": {
        "id": "_ENC5EO3sQMQ"
      },
      "source": [
        "**2.1 Has the overall number of trips changed over time?**"
      ]
    },
    {
      "cell_type": "code",
      "execution_count": null,
      "metadata": {
        "id": "aqrAoyqmsQMQ"
      },
      "outputs": [],
      "source": [
        "trips_per_month =[]\n",
        "for data in data19_20:\n",
        "    trips_per_month.append(data.shape[0])"
      ]
    },
    {
      "cell_type": "code",
      "execution_count": null,
      "metadata": {
        "id": "g2qouJhdsQMR",
        "outputId": "dd1d5319-c72b-47a6-e372-480abb146bf0"
      },
      "outputs": [
        {
          "data": {
            "image/png": "[encoded data removed]",
            "text/plain": [
              "<Figure size 1296x360 with 1 Axes>"
            ]
          },
          "metadata": {
            "needs_background": "light"
          },
          "output_type": "display_data"
        }
      ],
      "source": [
        "plt.figure(figsize=(18,5))\n",
        "plt.title(\"Numbers of Trips per Month\")\n",
        "plt.ylabel('Trips')\n",
        "plt.xlabel('Month')\n",
        "plt.xticks(range(24),short_months2y)\n",
        "plt.plot(trips_per_month, marker='o')\n",
        "plt.show()"
      ]
    },
    {
      "cell_type": "markdown",
      "metadata": {
        "id": "rYojyUqtsQMR"
      },
      "source": [
        "Despite the confounding factor of the pandemic, the line graph suggests a seasonality to volume of rides with a decrease in trips during colder month and a gradual increase with warmer weather. "
      ]
    },
    {
      "cell_type": "code",
      "execution_count": null,
      "metadata": {
        "id": "8q5w5AISsQMR",
        "outputId": "7a1f57a8-48b0-4c15-f3eb-3f2dd711881d"
      },
      "outputs": [
        {
          "data": {
            "image/png": "[encoded data removed]",
            "text/plain": [
              "<Figure size 936x360 with 1 Axes>"
            ]
          },
          "metadata": {
            "needs_background": "light"
          },
          "output_type": "display_data"
        }
      ],
      "source": [
        "plt.figure(figsize=(13,5))\n",
        "plt.title(\"Numbers of Trips per Month\")\n",
        "plt.ylabel('Trips')\n",
        "plt.xlabel('Month')\n",
        "plt.xticks(range(12),months)\n",
        "plt.plot(trips_per_month[:12], marker='o', label='2019')\n",
        "plt.plot(trips_per_month[12:], marker='o', label='2020')\n",
        "plt.legend()\n",
        "plt.show()"
      ]
    },
    {
      "cell_type": "markdown",
      "metadata": {
        "id": "6WYx_0_lsQMR"
      },
      "source": [
        "The number of trips taken between March and July 2020 was below 2019 levels but by August 2020 the number of rides had caught up. The number of rides then went on to surpass 2019 levels for the rest of the year. "
      ]
    },
    {
      "cell_type": "markdown",
      "metadata": {
        "id": "8Y1oEE1PsQMR"
      },
      "source": [
        "**2.2 How did average ride duration change over time?**"
      ]
    },
    {
      "cell_type": "code",
      "execution_count": null,
      "metadata": {
        "id": "06MHKuujsQMU"
      },
      "outputs": [],
      "source": [
        "#Create a dataframe df that concats each month's data horizontally\n",
        "df = pd.concat(data19_20, ignore_index=True)"
      ]
    },
    {
      "cell_type": "code",
      "execution_count": null,
      "metadata": {
        "id": "-OAaaRXNpQ6u"
      },
      "outputs": [],
      "source": [
        "df"
      ]
    },
    {
      "cell_type": "code",
      "execution_count": null,
      "metadata": {
        "id": "QECAPKwIpQ6v"
      },
      "outputs": [],
      "source": [
        "df_copy=df.set_index(\"starttime\")\n",
        "df_copy"
      ]
    },
    {
      "cell_type": "code",
      "execution_count": null,
      "metadata": {
        "id": "9MpTUSWBsQMb",
        "scrolled": true
      },
      "outputs": [],
      "source": [
        "weekly = df_copy['tripduration'].resample('W').mean()\n",
        "weekly.plot(style=['-'])\n",
        "plt.ylabel('Weekly Average Trip Duration');"
      ]
    },
    {
      "cell_type": "markdown",
      "metadata": {
        "id": "N7_seUWgpQ6v"
      },
      "source": [
        "In April 2020, the average trip duration greatly increased (both from the previous month and as compared to April 2019). Average trip duration remained high for the following months of the pandemic and through to the fall when ride duration, as is seasonally typical, decreased. Despite this decrease in trip length, average trip duration remained markedly higher as compared to the same time period in the previous year."
      ]
    },
    {
      "cell_type": "markdown",
      "metadata": {
        "id": "oUYfLWJBpQ6v"
      },
      "source": [
        "**2.3 What are the most popular stations?**"
      ]
    },
    {
      "cell_type": "code",
      "execution_count": null,
      "metadata": {
        "id": "t3LUuacesQMS",
        "outputId": "af6b19c2-ca20-4cba-c60a-317fc8f2ac6f"
      },
      "outputs": [
        {
          "name": "stdout",
          "output_type": "stream",
          "text": [
            "January 2019\n",
            "Pershing Square North    8871\n",
            "W 21 St & 6 Ave          6538\n",
            "Name: start station name, dtype: int64\n",
            "\n",
            "\n",
            "February 2019\n",
            "Pershing Square North    8082\n",
            "W 21 St & 6 Ave          6298\n",
            "Name: start station name, dtype: int64\n",
            "\n",
            "\n",
            "March 2019\n",
            "Pershing Square North    10887\n",
            "8 Ave & W 31 St           8565\n",
            "Name: start station name, dtype: int64\n",
            "\n",
            "\n",
            "April 2019\n",
            "Pershing Square North    13620\n",
            "Broadway & E 22 St       10690\n",
            "Name: start station name, dtype: int64\n",
            "\n",
            "\n",
            "May 2019\n",
            "Pershing Square North    14715\n",
            "Broadway & E 14 St       12468\n",
            "Name: start station name, dtype: int64\n",
            "\n",
            "\n",
            "June 2019\n",
            "Pershing Square North    14773\n",
            "12 Ave & W 40 St         13504\n",
            "Name: start station name, dtype: int64\n",
            "\n",
            "\n",
            "July 2019\n",
            "Pershing Square North    16343\n",
            "12 Ave & W 40 St         12965\n",
            "Name: start station name, dtype: int64\n",
            "\n",
            "\n",
            "August 2019\n",
            "Pershing Square North    16562\n",
            "E 17 St & Broadway       14330\n",
            "Name: start station name, dtype: int64\n",
            "\n",
            "\n",
            "September 2019\n",
            "Pershing Square North    16964\n",
            "Broadway & E 14 St       15116\n",
            "Name: start station name, dtype: int64\n",
            "\n",
            "\n",
            "October 2019\n",
            "Pershing Square North    16421\n",
            "8 Ave & W 31 St          12834\n",
            "Name: start station name, dtype: int64\n",
            "\n",
            "\n",
            "November 2019\n",
            "Pershing Square North    11732\n",
            "W 21 St & 6 Ave           9249\n",
            "Name: start station name, dtype: int64\n",
            "\n",
            "\n",
            "December 2019\n",
            "Pershing Square North    7561\n",
            "W 21 St & 6 Ave          6421\n",
            "Name: start station name, dtype: int64\n",
            "\n",
            "\n",
            "January 2020\n",
            "Pershing Square North    10728\n",
            "8 Ave & W 31 St           7847\n",
            "Name: start station name, dtype: int64\n",
            "\n",
            "\n",
            "February 2020\n",
            "Pershing Square North    9393\n",
            "W 21 St & 6 Ave          7137\n",
            "Name: start station name, dtype: int64\n",
            "\n",
            "\n",
            "March 2020\n",
            "Pershing Square North    6675\n",
            "W 21 St & 6 Ave          6037\n",
            "Name: start station name, dtype: int64\n",
            "\n",
            "\n",
            "April 2020\n",
            "1 Ave & E 68 St          4477\n",
            "West St & Chambers St    4367\n",
            "Name: start station name, dtype: int64\n",
            "\n",
            "\n",
            "May 2020\n",
            "12 Ave & W 40 St         10099\n",
            "West St & Chambers St     9478\n",
            "Name: start station name, dtype: int64\n",
            "\n",
            "\n",
            "June 2020\n",
            "12 Ave & W 40 St    12232\n",
            "1 Ave & E 68 St     10946\n",
            "Name: start station name, dtype: int64\n",
            "\n",
            "\n",
            "July 2020\n",
            "12 Ave & W 40 St         12651\n",
            "West St & Chambers St    12129\n",
            "Name: start station name, dtype: int64\n",
            "\n",
            "\n",
            "August 2020\n",
            "12 Ave & W 40 St         14353\n",
            "West St & Chambers St    13409\n",
            "Name: start station name, dtype: int64\n",
            "\n",
            "\n",
            "September 2020\n",
            "W 21 St & 6 Ave          13852\n",
            "West St & Chambers St    13211\n",
            "Name: start station name, dtype: int64\n",
            "\n",
            "\n",
            "October 2020\n",
            "1 Ave & E 68 St    12154\n",
            "W 21 St & 6 Ave    12034\n",
            "Name: start station name, dtype: int64\n",
            "\n",
            "\n",
            "November 2020\n",
            "1 Ave & E 68 St    9649\n",
            "W 21 St & 6 Ave    8883\n",
            "Name: start station name, dtype: int64\n",
            "\n",
            "\n",
            "December 2020\n",
            "1 Ave & E 68 St    7203\n",
            "W 21 St & 6 Ave    6239\n",
            "Name: start station name, dtype: int64\n",
            "\n",
            "\n"
          ]
        }
      ],
      "source": [
        "#we are interested in the top stations every month during the course of 2019 and 2020 - has there been a change?\n",
        "for index, data in enumerate(data19_20):\n",
        "    print(months2y[index])\n",
        "    print(data['start station name'].value_counts().head(2))\n",
        "    print('\\n')"
      ]
    },
    {
      "cell_type": "markdown",
      "metadata": {
        "id": "c5zddAbjsQMS"
      },
      "source": [
        "From the output here we see that the to two stations in 2019 are not all that interesting - \n",
        "Pershing Square North holds the top spot every month, the second most popular changes monthly.\n",
        "\n",
        "In April 2020 with the beginning of Covid, 1 Ave & E 68 St and then 12 Ave & W 40 St become our most popular stations.\n",
        "We will further investigate this interesting shift."
      ]
    },
    {
      "cell_type": "markdown",
      "metadata": {
        "id": "KFINw_rzsQMU"
      },
      "source": [
        "**2.4 What are the most popular routes?**"
      ]
    },
    {
      "cell_type": "code",
      "execution_count": null,
      "metadata": {
        "id": "cX1SVVxIsQMV",
        "outputId": "54e36868-bb5a-454d-dde3-78367cbd5e31"
      },
      "outputs": [
        {
          "data": {
            "text/html": [
              "<div>\n",
              "<style scoped>\n",
              "    .dataframe tbody tr th:only-of-type {\n",
              "        vertical-align: middle;\n",
              "    }\n",
              "\n",
              "    .dataframe tbody tr th {\n",
              "        vertical-align: top;\n",
              "    }\n",
              "\n",
              "    .dataframe thead th {\n",
              "        text-align: right;\n",
              "    }\n",
              "</style>\n",
              "<table border=\"1\" class=\"dataframe\">\n",
              "  <thead>\n",
              "    <tr style=\"text-align: right;\">\n",
              "      <th></th>\n",
              "      <th>start station name</th>\n",
              "      <th>end station name</th>\n",
              "      <th>0</th>\n",
              "    </tr>\n",
              "  </thead>\n",
              "  <tbody>\n",
              "    <tr>\n",
              "      <th>0</th>\n",
              "      <td>West Drive &amp; Prospect Park West</td>\n",
              "      <td>West Drive &amp; Prospect Park West</td>\n",
              "      <td>17948</td>\n",
              "    </tr>\n",
              "    <tr>\n",
              "      <th>1</th>\n",
              "      <td>Central Park S &amp; 6 Ave</td>\n",
              "      <td>Central Park S &amp; 6 Ave</td>\n",
              "      <td>13599</td>\n",
              "    </tr>\n",
              "    <tr>\n",
              "      <th>2</th>\n",
              "      <td>E 7 St &amp; Avenue A</td>\n",
              "      <td>Cooper Square &amp; Astor Pl</td>\n",
              "      <td>10933</td>\n",
              "    </tr>\n",
              "    <tr>\n",
              "      <th>3</th>\n",
              "      <td>12 Ave &amp; W 40 St</td>\n",
              "      <td>West St &amp; Chambers St</td>\n",
              "      <td>10496</td>\n",
              "    </tr>\n",
              "    <tr>\n",
              "      <th>4</th>\n",
              "      <td>12 Ave &amp; W 40 St</td>\n",
              "      <td>12 Ave &amp; W 40 St</td>\n",
              "      <td>9857</td>\n",
              "    </tr>\n",
              "  </tbody>\n",
              "</table>\n",
              "</div>"
            ],
            "text/plain": [
              "                start station name                 end station name      0\n",
              "0  West Drive & Prospect Park West  West Drive & Prospect Park West  17948\n",
              "1           Central Park S & 6 Ave           Central Park S & 6 Ave  13599\n",
              "2                E 7 St & Avenue A         Cooper Square & Astor Pl  10933\n",
              "3                 12 Ave & W 40 St            West St & Chambers St  10496\n",
              "4                 12 Ave & W 40 St                 12 Ave & W 40 St   9857"
            ]
          },
          "execution_count": 130,
          "metadata": {},
          "output_type": "execute_result"
        }
      ],
      "source": [
        "df.groupby(['start station name', 'end station name']).size().nlargest(5).reset_index()"
      ]
    },
    {
      "cell_type": "markdown",
      "metadata": {
        "id": "-xc8j2atsQMV"
      },
      "source": [
        "The most popular route of 2019 & 2020 combined is starting and ending at the West Drive & Prospect Park West location. Riders love Prospect Park!"
      ]
    },
    {
      "cell_type": "code",
      "execution_count": null,
      "metadata": {
        "id": "zWQGLQ3OsQMV"
      },
      "outputs": [],
      "source": [
        "# df['starttime'] = df['starttime'].astype('datetime64[ns]')\n",
        "# df['year'] = df.starttime.dt.year\n",
        "df['year'] = df['starttime'].str[:4].astype(int)"
      ]
    },
    {
      "cell_type": "code",
      "execution_count": null,
      "metadata": {
        "id": "An3cTn6qsQMV",
        "outputId": "cddc661b-c35b-4299-a8c8-9d29356f4f62"
      },
      "outputs": [
        {
          "name": "stdout",
          "output_type": "stream",
          "text": [
            "                start station name                 end station name     0\n",
            "0                E 7 St & Avenue A         Cooper Square & Astor Pl  8425\n",
            "1           Central Park S & 6 Ave           Central Park S & 6 Ave  6773\n",
            "2           Central Park S & 6 Ave                  5 Ave & E 88 St  6086\n",
            "3    North Moore St & Greenwich St         Vesey Pl & River Terrace  5365\n",
            "4  West Drive & Prospect Park West  West Drive & Prospect Park West  5346\n"
          ]
        }
      ],
      "source": [
        "# print(df[df['year']==2019]['start_end'].value_counts().head(5))\n",
        "print(df[df['year']==2019].groupby(['start station name', 'end station name']).size().nlargest(5).reset_index())"
      ]
    },
    {
      "cell_type": "code",
      "execution_count": null,
      "metadata": {
        "id": "g6gyVR1XsQMW",
        "outputId": "2894da29-fcf0-4e35-8e9b-7db28e57c463"
      },
      "outputs": [
        {
          "name": "stdout",
          "output_type": "stream",
          "text": [
            "                start station name                 end station name      0\n",
            "0  West Drive & Prospect Park West  West Drive & Prospect Park West  12602\n",
            "1           Central Park S & 6 Ave           Central Park S & 6 Ave   6826\n",
            "2                 12 Ave & W 40 St                 12 Ave & W 40 St   6564\n",
            "3                12 Ave & W 125 St                12 Ave & W 125 St   6213\n",
            "4               Broadway & W 60 St               Broadway & W 60 St   5887\n"
          ]
        }
      ],
      "source": [
        "# print(df[df['year']==2020]['start_end'].value_counts().head(5))\n",
        "print(df[df['year']==2020].groupby(['start station name', 'end station name']).size().nlargest(5).reset_index())"
      ]
    },
    {
      "cell_type": "markdown",
      "metadata": {
        "id": "xUbgk2S3sQMW"
      },
      "source": [
        "Very interesting results comparing the top 5 routes of 2019 and 2020! The top 5 routes of 2020 have the same start and end locations, looks like cycling in the city that year was less so a form of transportation but rather an activity in and of itself."
      ]
    },
    {
      "cell_type": "markdown",
      "metadata": {
        "id": "j3_E8PgxsQMW"
      },
      "source": [
        "**2.5 Which stations are likely to run out of bikes?**"
      ]
    },
    {
      "cell_type": "code",
      "execution_count": null,
      "metadata": {
        "id": "d8kqRlqVsQMW"
      },
      "outputs": [],
      "source": [
        "df['starttime'] = df['starttime'].astype('datetime64[ns]')\n",
        "df['stoptime'] = df['stoptime'].astype('datetime64[ns]')\n",
        "df['starthour'] = df.starttime.dt.hour\n",
        "df['stophour'] = df.stoptime.dt.hour"
      ]
    },
    {
      "cell_type": "code",
      "execution_count": null,
      "metadata": {
        "id": "--jF1IJ4sQMW",
        "outputId": "33733507-2c89-471a-a952-fe1f87625340"
      },
      "outputs": [
        {
          "name": "stdout",
          "output_type": "stream",
          "text": [
            "Pershing Square North    156531\n",
            "E 17 St & Broadway       121579\n",
            "8 Ave & W 31 St          119918\n",
            "Broadway & E 22 St       112960\n",
            "Broadway & E 14 St       112885\n",
            "Name: start station name, dtype: int64\n"
          ]
        }
      ],
      "source": [
        "print(df[df['year']==2019]['start station name'].value_counts().head(5))"
      ]
    },
    {
      "cell_type": "code",
      "execution_count": null,
      "metadata": {
        "id": "JxUG_wY9sQMW",
        "outputId": "f8971e12-3e64-4dad-f1c5-e68d429227a7"
      },
      "outputs": [
        {
          "name": "stdout",
          "output_type": "stream",
          "text": [
            "Pershing Square North    155417\n",
            "E 17 St & Broadway       125266\n",
            "Broadway & E 22 St       123008\n",
            "8 Ave & W 31 St          121521\n",
            "West St & Chambers St    115954\n",
            "Name: end station name, dtype: int64\n"
          ]
        }
      ],
      "source": [
        "print(df[df['year']==2019]['end station name'].value_counts().head(5))"
      ]
    },
    {
      "cell_type": "code",
      "execution_count": null,
      "metadata": {
        "id": "NV5cxZVTsQMW",
        "outputId": "965ef3ed-576f-4658-9d16-ca07b0887262"
      },
      "outputs": [
        {
          "name": "stdout",
          "output_type": "stream",
          "text": [
            "1 Ave & E 68 St          100690\n",
            "West St & Chambers St     99256\n",
            "W 21 St & 6 Ave           99042\n",
            "12 Ave & W 40 St          97305\n",
            "Broadway & W 60 St        91781\n",
            "Name: start station name, dtype: int64\n"
          ]
        }
      ],
      "source": [
        "print(df[df['year']==2020]['start station name'].value_counts().head(5))"
      ]
    },
    {
      "cell_type": "code",
      "execution_count": null,
      "metadata": {
        "id": "Ha30UgHksQMX",
        "outputId": "f25b8048-457b-48bd-87b3-e20ee6b30838"
      },
      "outputs": [
        {
          "name": "stdout",
          "output_type": "stream",
          "text": [
            "West St & Chambers St    101704\n",
            "W 21 St & 6 Ave          100171\n",
            "1 Ave & E 68 St          100129\n",
            "12 Ave & W 40 St          99247\n",
            "E 17 St & Broadway        93832\n",
            "Name: end station name, dtype: int64\n"
          ]
        }
      ],
      "source": [
        "print(df[df['year']==2020]['end station name'].value_counts().head(5))"
      ]
    },
    {
      "cell_type": "markdown",
      "metadata": {
        "id": "x6LVuzIesQMX"
      },
      "source": [
        "As noted previously in our report, Pershing Square North is a popular station, it is at the top of this list as starting and ending station for 2019. For 2019, top starting and ending stations are pretty similar, with the exception of Broadway & E 14 St which makes that starting list and West St & Chambers St which makes the ending list.\n",
        "\n",
        "2020 has a few different stations than 2019, first off, Pershing Square North is no longer in the top 5! Some of the new popular stations are: 1 Ave & E 68 St, W 21 St & 6 Ave, 12 Ave & W 40 St, and Broadway & W 60 St.\n",
        "\n",
        "We will look into a few of the stations above to see the balance of bikes going in and out. Additionally, we will look at 2019 and 2020 separately to see if Covid times were different than \"normal\"."
      ]
    },
    {
      "cell_type": "code",
      "execution_count": null,
      "metadata": {
        "id": "z55xlk-msQMX"
      },
      "outputs": [],
      "source": [
        "def coming_and_going(station, year):\n",
        "    plt.hist([df[(df['start station name'] == station) & (df['year'] == year)]['starthour'], df[(df['end station name'] == station) & (df['year'] == year)]['stophour']], label=['Out', 'In'])\n",
        "    plt.title('# of Bikes Entering and Leaving ' + str(station) + ' in ' + str(year))\n",
        "    plt.xlabel('Time of Day')\n",
        "    plt.ylabel('# of Bikes')\n",
        "    plt.legend(loc='upper left')\n",
        "    plt.show()"
      ]
    },
    {
      "cell_type": "code",
      "execution_count": null,
      "metadata": {
        "id": "uM0SICMhsQMX",
        "outputId": "fcd91b10-a7ad-41e6-8d52-7d18ad696a31"
      },
      "outputs": [
        {
          "data": {
            "image/png": "[encoded data removed]",
            "text/plain": [
              "<Figure size 432x288 with 1 Axes>"
            ]
          },
          "metadata": {
            "needs_background": "light"
          },
          "output_type": "display_data"
        }
      ],
      "source": [
        "coming_and_going('Pershing Square North', 2019)"
      ]
    },
    {
      "cell_type": "code",
      "execution_count": null,
      "metadata": {
        "id": "8i50ib3DsQMX",
        "outputId": "299d0e2f-4097-436a-9034-aafc315c294c"
      },
      "outputs": [
        {
          "data": {
            "image/png": "[encoded data removed]",
            "text/plain": [
              "<Figure size 432x288 with 1 Axes>"
            ]
          },
          "metadata": {
            "needs_background": "light"
          },
          "output_type": "display_data"
        }
      ],
      "source": [
        "coming_and_going('Pershing Square North', 2020)"
      ]
    },
    {
      "cell_type": "markdown",
      "metadata": {
        "id": "kO2XbCuCsQMX"
      },
      "source": [
        "Looks like Pershing Square North has a healthy intake and outake of bikes throughout the day, with a slight change during rush hours."
      ]
    },
    {
      "cell_type": "code",
      "execution_count": null,
      "metadata": {
        "id": "AcujxqaisQMY",
        "outputId": "2ff28993-4e25-4b0a-8675-4ecea1821d48"
      },
      "outputs": [
        {
          "data": {
            "image/png": "[encoded data removed]",
            "text/plain": [
              "<Figure size 432x288 with 1 Axes>"
            ]
          },
          "metadata": {
            "needs_background": "light"
          },
          "output_type": "display_data"
        }
      ],
      "source": [
        "coming_and_going('8 Ave & W 31 St', 2019)"
      ]
    },
    {
      "cell_type": "code",
      "execution_count": null,
      "metadata": {
        "id": "7OORFTp5sQMY",
        "outputId": "a757728e-67f3-48a1-84dd-b814de03da87"
      },
      "outputs": [
        {
          "data": {
            "image/png": "[encoded data removed]",
            "text/plain": [
              "<Figure size 432x288 with 1 Axes>"
            ]
          },
          "metadata": {
            "needs_background": "light"
          },
          "output_type": "display_data"
        }
      ],
      "source": [
        "coming_and_going('8 Ave & W 31 St', 2020)"
      ]
    },
    {
      "cell_type": "markdown",
      "metadata": {
        "id": "DqrKXVdesQMY"
      },
      "source": [
        "8 Ave & W 31 St is not quite as balance. We are seeing a lot of people taking bikes in the morning and a lot coming back in the afternoon/evening. This is something Citibike should note when distributing bikes to stations throughout the day. Don't want the station empty in the morning for those commuters!"
      ]
    },
    {
      "cell_type": "code",
      "execution_count": null,
      "metadata": {
        "id": "nxzAhhubsQMY",
        "outputId": "cd429a05-68e5-4328-c31c-08db0c21356b"
      },
      "outputs": [
        {
          "data": {
            "image/png": "[encoded data removed]",
            "text/plain": [
              "<Figure size 432x288 with 1 Axes>"
            ]
          },
          "metadata": {
            "needs_background": "light"
          },
          "output_type": "display_data"
        }
      ],
      "source": [
        "coming_and_going('West St & Chambers St', 2019)"
      ]
    },
    {
      "cell_type": "code",
      "execution_count": null,
      "metadata": {
        "id": "EkAj8CidsQMY",
        "outputId": "fd3080c5-2ec7-46ea-e2d2-34d8a0c4f3f3"
      },
      "outputs": [
        {
          "data": {
            "image/png": "[encoded data removed]",
            "text/plain": [
              "<Figure size 432x288 with 1 Axes>"
            ]
          },
          "metadata": {
            "needs_background": "light"
          },
          "output_type": "display_data"
        }
      ],
      "source": [
        "coming_and_going('West St & Chambers St', 2020)"
      ]
    },
    {
      "cell_type": "markdown",
      "metadata": {
        "id": "txSRfQLisQMY"
      },
      "source": [
        "In 2019, West St & Chambers St is seeing the opposite situation to 8 Ave & W 31 St. In 2019, more bikes were coming in than out in the morning. In 2020 this levels off, as potentially fewer people were coming into their Wall St. offices."
      ]
    },
    {
      "cell_type": "code",
      "execution_count": null,
      "metadata": {
        "id": "y6WXthKwsQMZ",
        "outputId": "74200392-3de3-48bd-ab26-4c190eda8842"
      },
      "outputs": [
        {
          "data": {
            "image/png": "[encoded data removed]",
            "text/plain": [
              "<Figure size 432x288 with 1 Axes>"
            ]
          },
          "metadata": {
            "needs_background": "light"
          },
          "output_type": "display_data"
        }
      ],
      "source": [
        "coming_and_going('12 Ave & W 40 St', 2019)"
      ]
    },
    {
      "cell_type": "code",
      "execution_count": null,
      "metadata": {
        "id": "uwwLrtQMsQMZ",
        "outputId": "a8fc46a5-4ff2-4178-fce4-e476094e0fb9"
      },
      "outputs": [
        {
          "data": {
            "image/png": "[encoded data removed]",
            "text/plain": [
              "<Figure size 432x288 with 1 Axes>"
            ]
          },
          "metadata": {
            "needs_background": "light"
          },
          "output_type": "display_data"
        }
      ],
      "source": [
        "coming_and_going('12 Ave & W 40 St', 2020)"
      ]
    },
    {
      "cell_type": "markdown",
      "metadata": {
        "id": "kn_-RREssQMZ"
      },
      "source": [
        "12 Ave & W 40 St is right next to a ferry terminal on the west side. One can theorize from these graphs that this was a large commuter station for people taking the ferry from NJ to Manhattan. 2020 is a lot more balance with the arrivals and deparatures of bikes into the station. Though interestingly enough, this station didn't make the top 5 stations of 2019, but did for 2020. Citibike should take note of 2019, for if we do return to in person work in the future, it might be worth adding an additional station near the ferry terminal for commuters.\n"
      ]
    },
    {
      "cell_type": "code",
      "execution_count": null,
      "metadata": {
        "id": "gJGSQb4jsQMZ",
        "outputId": "46f39791-cf04-4898-c95a-a4ba55ba6309"
      },
      "outputs": [
        {
          "data": {
            "image/png": "[encoded data removed]",
            "text/plain": [
              "<Figure size 432x288 with 1 Axes>"
            ]
          },
          "metadata": {
            "needs_background": "light"
          },
          "output_type": "display_data"
        }
      ],
      "source": [
        "plt.hist([df[df['year'] ==2019]['starthour'], df[df['year'] ==2019]['stophour']], label=['Out', 'In'])\n",
        "plt.title('# of Bikes Entering and Leaving Stations in 2019')\n",
        "plt.legend(loc='upper left')\n",
        "plt.show()"
      ]
    },
    {
      "cell_type": "code",
      "execution_count": null,
      "metadata": {
        "id": "ZHasVTsVsQMZ",
        "outputId": "0515927e-8668-4fce-d99e-368f06275f6d"
      },
      "outputs": [
        {
          "data": {
            "image/png": "[encoded data removed]",
            "text/plain": [
              "<Figure size 432x288 with 1 Axes>"
            ]
          },
          "metadata": {
            "needs_background": "light"
          },
          "output_type": "display_data"
        }
      ],
      "source": [
        "plt.hist([df[df['year'] ==2020]['starthour'], df[df['year'] ==2020]['stophour']], label=['Out', 'In'])\n",
        "plt.title('# of Bikes Entering and Leaving Stations in 2020')\n",
        "plt.legend(loc='upper left')\n",
        "plt.show()"
      ]
    },
    {
      "cell_type": "markdown",
      "metadata": {
        "id": "2JLJ1jX_sQMZ"
      },
      "source": [
        "Overall, the inflow and outflow of bikes in both years seems even and well distributed. In 2019, we see our most popular times were in the morning and afternoon/early evening. Meanwhile, in 2020 morning traffic wasn't as commom, instead 3pm was the most popular time."
      ]
    },
    {
      "cell_type": "markdown",
      "metadata": {
        "id": "NuqqNo2LsQMZ"
      },
      "source": [
        "**2.6 What are the most popular times of day?**"
      ]
    },
    {
      "cell_type": "code",
      "execution_count": null,
      "metadata": {
        "id": "b2LvtijhsQMa"
      },
      "outputs": [],
      "source": [
        "#resetting index of all dataframes as datetimeindex of starttime\n",
        "#creating new columns for day of week, weekend indicator and time in fraction form\n",
        "#reset index because there are duplicate starttimes that cause issues when separating data into weekend&weekday/subscriber&customer\n",
        "for indx,data in enumerate(data19_20):\n",
        "    data['starttime'] = pd.to_datetime(data['starttime'])\n",
        "    data=data.set_index('starttime')#index on starttime date and time stamp\n",
        "    data['weekday']=data.index.strftime('%A') #create column for day of the week\n",
        "    data['weekend'] = np.where((data['weekday']=='Saturday') | (data['weekday']=='Sunday'), 1, 0) #create column for weekend indicator where 1=weekend and 0=weekday \n",
        "    data['fracTime']=data.index.hour + (data.index.minute/60) #convert time to fraction for histograms\n",
        "    data=data.reset_index()\n",
        "    data19_20[indx]=data"
      ]
    },
    {
      "cell_type": "code",
      "execution_count": null,
      "metadata": {
        "id": "wuXnzHcpsQMa",
        "outputId": "4769e3cf-e771-48f1-e8dd-4bd54b5e7493"
      },
      "outputs": [
        {
          "data": {
            "image/png": "[encoded data removed]",
            "text/plain": [
              "<Figure size 720x360 with 1 Axes>"
            ]
          },
          "metadata": {
            "needs_background": "light"
          },
          "output_type": "display_data"
        }
      ],
      "source": [
        "Hrs2019_2020 = pd.DataFrame(columns = months2y,index=range(most_monthly_rides))\n",
        "\n",
        "#fill the dataframe by pulling the Time (as a number out of 24) columns from each month's data\n",
        "for indx, data in enumerate(data19_20):\n",
        "    Hrs2019_2020[months2y[indx]] = data['fracTime']\n",
        "\n",
        "# Create an animated histogram displaying the distribution of the rides (bike traffic)across hours of the day each month.\n",
        "from IPython.display import clear_output\n",
        "import time\n",
        "for x in Hrs2019_2020.columns:\n",
        "    clear_output(wait=True)\n",
        "    plt.figure(figsize=(10,5))\n",
        "    rainbow(plt.hist(Hrs2019_2020[x], bins=24, color='red', edgecolor='black', density='true'))\n",
        "    plt.axis((0, 24, 0, .15))\n",
        "    plt.ylabel('Proportion of rides')\n",
        "    plt.xlabel('Time of Day')\n",
        "    plt.title(x)\n",
        "    plt.show() \n",
        "    \n",
        "    time.sleep(1.0)"
      ]
    },
    {
      "cell_type": "code",
      "execution_count": null,
      "metadata": {
        "id": "I5LrTBEosQMa"
      },
      "outputs": [],
      "source": [
        "weekend_timeofDay = pd.DataFrame(columns = months2y,index=range(most_monthly_rides))\n",
        "weekday_timeofDay = pd.DataFrame(columns = months2y,index=range(most_monthly_rides))\n",
        "\n",
        "sub_timeofDay = pd.DataFrame(columns = months2y,index=range(most_monthly_rides))\n",
        "cust_timeofDay = pd.DataFrame(columns = months2y,index=range(most_monthly_rides))\n",
        "\n",
        "#fill the dataframes by pulling the fraction time columns from each month's data\n",
        "for indx, data in enumerate(data19_20):\n",
        "    weekend_timeofDay[months2y[indx]] = data.loc[(data['weekend'] == 1), 'fracTime']\n",
        "    weekday_timeofDay[months2y[indx]] = data.loc[(data['weekend'] == 0) ,'fracTime']\n",
        "    \n",
        "for indx, data in enumerate(data19_20):\n",
        "    sub_timeofDay[months2y[indx]] = data.loc[(data['usertype'] == 'Subscriber'), 'fracTime']\n",
        "    cust_timeofDay[months2y[indx]] = data.loc[(data['usertype'] == 'Customer') ,'fracTime']"
      ]
    },
    {
      "cell_type": "code",
      "execution_count": null,
      "metadata": {
        "id": "-00O99FysQMa",
        "outputId": "139aabf4-2f60-4e6a-b69c-db3c66fa8349"
      },
      "outputs": [
        {
          "data": {
            "image/png": "[encoded data removed]",
            "text/plain": [
              "<Figure size 720x360 with 1 Axes>"
            ]
          },
          "metadata": {
            "needs_background": "light"
          },
          "output_type": "display_data"
        }
      ],
      "source": [
        "# Create an animated histogram displaying tie distribution of the rides by weekend vs weekday\n",
        "\n",
        "for x in weekend_timeofDay.columns:\n",
        "    clear_output(wait=True)\n",
        "    plt.figure(figsize=(10,5))\n",
        "    plt.hist(weekend_timeofDay[x], bins=24, color='red', edgecolor='black', alpha=0.5, density='true')\n",
        "    plt.hist(weekday_timeofDay[x], bins=24, color='skyblue', edgecolor='black', alpha=0.5, density='true')\n",
        "    plt.axis((0, 24, 0, .15))\n",
        "    plt.ylabel('Proportion of rides')\n",
        "    plt.xlabel('Time of Day')\n",
        "    plt.title(x)\n",
        "    plt.show() \n",
        "    \n",
        "    time.sleep(1.0)"
      ]
    },
    {
      "cell_type": "markdown",
      "metadata": {
        "id": "k-GU_bJ7sQMa"
      },
      "source": [
        "The distribution of rides across hours of the day on weekdays is bimodal, as bike traffic seems to be heaviest between the hours of 8AM and 9AM--presumably as commuters make their way to work--and between the hours of 5 PM and 6 PM as they return from work. This is distinctly different from the more normally distibuted bike traffic during the weekend. This pattern is consistent across months until April 2020. In April 2020 and May 2020, the distribution of weekdays loses its bimodal appearance and converges towards to normal distribution of the weekend. As the shift of weekday distribution coincides with the start of the pandemic, a reasonable explanation for this change is the adoption of remote working by many workplace in New York City.  "
      ]
    },
    {
      "cell_type": "code",
      "execution_count": null,
      "metadata": {
        "id": "-xOUMWI3sQMb",
        "outputId": "0fdb8e5a-f6a2-4eeb-d6f5-242dd889959c"
      },
      "outputs": [
        {
          "data": {
            "image/png": "[encoded data removed]",
            "text/plain": [
              "<Figure size 720x360 with 1 Axes>"
            ]
          },
          "metadata": {
            "needs_background": "light"
          },
          "output_type": "display_data"
        }
      ],
      "source": [
        "# Create an animated histogram displaying tie distribution of the rides by usertype\n",
        "\n",
        "for x in sub_timeofDay.columns:\n",
        "    clear_output(wait=True)\n",
        "    plt.figure(figsize=(10,5))\n",
        "    plt.hist(cust_timeofDay[x], bins=24, color='red', edgecolor='black', alpha=0.5, density='true')\n",
        "    plt.hist(sub_timeofDay[x], bins=24, color='skyblue', edgecolor='black', alpha=0.5, density='true')\n",
        "    plt.axis((0, 24, 0, .15))\n",
        "    plt.ylabel('Proportion of rides')\n",
        "    plt.xlabel('Time of Day')\n",
        "    plt.title(x)\n",
        "    plt.show() \n",
        "    \n",
        "    time.sleep(1.0)"
      ]
    },
    {
      "cell_type": "markdown",
      "metadata": {
        "id": "I89XK4X6sQMb"
      },
      "source": [
        "The distribution of rides across hours of the day for subscribers is bimodal while the distribution for casual riders appears to be normal. This closely mirrors the the patterns observed for weekday vs weekend traffic, suggesting that most weekday riders are subscribers riding to and from work, while weekend riders are more often casual users. Indeed, the shift observed in April 2020 for the weekday vs weekend distributions is again present in the distributions by usertype with the subscriber distribution losing its bimodality in April and May of 2020 and appearing to converge to the distribution of casual users. "
      ]
    },
    {
      "cell_type": "markdown",
      "metadata": {
        "id": "uayz1U7TsQMS"
      },
      "source": [
        "**2.3 How much is each bike being used each month?**"
      ]
    },
    {
      "cell_type": "code",
      "execution_count": null,
      "metadata": {
        "id": "UsMc7k-NsQMS",
        "outputId": "6a549bde-ef98-4028-e595-8d4bd8ca5685"
      },
      "outputs": [
        {
          "name": "stdout",
          "output_type": "stream",
          "text": [
            "The total time the program took to run was 160.136 seconds\n"
          ]
        }
      ],
      "source": [
        "# DONT RUN! First version: inefficient method for counting rides\n",
        "starttime1 = time.time()\n",
        "\n",
        "avg_rides = []\n",
        "for data in data19_20:\n",
        "    num_bikes = len(data['bikeid'].unique())\n",
        "    num_rides = len(data.dropna().values)\n",
        "    avg_rides.append(round(num_rides/num_bikes,2))\n",
        "\n",
        "rides = pd.DataFrame({'2019': avg_rides[:12],'2020': avg_rides[12:]},index = months)\n",
        "\n",
        "endtime1 = time.time()\n",
        "totaltime1 = endtime1 - starttime1\n",
        "print('The total time the program took to run was',round(totaltime1,3),'seconds')"
      ]
    },
    {
      "cell_type": "code",
      "execution_count": null,
      "metadata": {
        "id": "7H8gWwfNsQMS",
        "outputId": "f7900901-b433-4b78-b498-de48391e871c"
      },
      "outputs": [
        {
          "name": "stdout",
          "output_type": "stream",
          "text": [
            "The total time the program took to run was 2.796 seconds\n"
          ]
        }
      ],
      "source": [
        "# Second version: more efficient method for counting rides\n",
        "starttime2 = time.time()\n",
        "\n",
        "avg_rides = []\n",
        "for data in data19_20:\n",
        "    num_bikes = data['bikeid'].nunique()\n",
        "    num_rides = data['bikeid'].dropna().count()\n",
        "    avg_rides.append(round(num_rides/num_bikes,2))\n",
        "    \n",
        "rides = pd.DataFrame({'2019': avg_rides[:12],'2020': avg_rides[12:]},index = months)\n",
        "\n",
        "endtime2 = time.time()\n",
        "totaltime2 = endtime2 - starttime2\n",
        "print('The total time the program took to run was',round(totaltime2,3),'seconds')"
      ]
    },
    {
      "cell_type": "code",
      "execution_count": null,
      "metadata": {
        "id": "O-VNk_p2pQ62",
        "outputId": "e7c3730d-6292-4f46-834b-dd526cb65d96"
      },
      "outputs": [
        {
          "data": {
            "text/html": [
              "<div>\n",
              "<style scoped>\n",
              "    .dataframe tbody tr th:only-of-type {\n",
              "        vertical-align: middle;\n",
              "    }\n",
              "\n",
              "    .dataframe tbody tr th {\n",
              "        vertical-align: top;\n",
              "    }\n",
              "\n",
              "    .dataframe thead th {\n",
              "        text-align: right;\n",
              "    }\n",
              "</style>\n",
              "<table border=\"1\" class=\"dataframe\">\n",
              "  <thead>\n",
              "    <tr style=\"text-align: right;\">\n",
              "      <th></th>\n",
              "      <th>2019</th>\n",
              "      <th>2020</th>\n",
              "    </tr>\n",
              "  </thead>\n",
              "  <tbody>\n",
              "    <tr>\n",
              "      <th>Jan</th>\n",
              "      <td>76.41</td>\n",
              "      <td>95.00</td>\n",
              "    </tr>\n",
              "    <tr>\n",
              "      <th>Feb</th>\n",
              "      <td>74.70</td>\n",
              "      <td>86.70</td>\n",
              "    </tr>\n",
              "    <tr>\n",
              "      <th>Mar</th>\n",
              "      <td>94.97</td>\n",
              "      <td>71.69</td>\n",
              "    </tr>\n",
              "    <tr>\n",
              "      <th>Apr</th>\n",
              "      <td>121.99</td>\n",
              "      <td>46.10</td>\n",
              "    </tr>\n",
              "    <tr>\n",
              "      <th>May</th>\n",
              "      <td>149.11</td>\n",
              "      <td>99.00</td>\n",
              "    </tr>\n",
              "    <tr>\n",
              "      <th>Jun</th>\n",
              "      <td>148.27</td>\n",
              "      <td>118.54</td>\n",
              "    </tr>\n",
              "    <tr>\n",
              "      <th>Jul</th>\n",
              "      <td>151.77</td>\n",
              "      <td>123.13</td>\n",
              "    </tr>\n",
              "    <tr>\n",
              "      <th>Aug</th>\n",
              "      <td>167.49</td>\n",
              "      <td>130.43</td>\n",
              "    </tr>\n",
              "    <tr>\n",
              "      <th>Sep</th>\n",
              "      <td>153.88</td>\n",
              "      <td>135.92</td>\n",
              "    </tr>\n",
              "    <tr>\n",
              "      <th>Oct</th>\n",
              "      <td>131.72</td>\n",
              "      <td>121.61</td>\n",
              "    </tr>\n",
              "    <tr>\n",
              "      <th>Nov</th>\n",
              "      <td>95.10</td>\n",
              "      <td>91.33</td>\n",
              "    </tr>\n",
              "    <tr>\n",
              "      <th>Dec</th>\n",
              "      <td>69.07</td>\n",
              "      <td>64.59</td>\n",
              "    </tr>\n",
              "  </tbody>\n",
              "</table>\n",
              "</div>"
            ],
            "text/plain": [
              "       2019    2020\n",
              "Jan   76.41   95.00\n",
              "Feb   74.70   86.70\n",
              "Mar   94.97   71.69\n",
              "Apr  121.99   46.10\n",
              "May  149.11   99.00\n",
              "Jun  148.27  118.54\n",
              "Jul  151.77  123.13\n",
              "Aug  167.49  130.43\n",
              "Sep  153.88  135.92\n",
              "Oct  131.72  121.61\n",
              "Nov   95.10   91.33\n",
              "Dec   69.07   64.59"
            ]
          },
          "execution_count": 50,
          "metadata": {},
          "output_type": "execute_result"
        }
      ],
      "source": [
        "rides"
      ]
    },
    {
      "cell_type": "code",
      "execution_count": null,
      "metadata": {
        "id": "AKxY4isosQMT",
        "outputId": "63e422e4-1409-4547-b8b0-ec5f2f7d375e"
      },
      "outputs": [
        {
          "data": {
            "text/html": [
              "<div>\n",
              "<style scoped>\n",
              "    .dataframe tbody tr th:only-of-type {\n",
              "        vertical-align: middle;\n",
              "    }\n",
              "\n",
              "    .dataframe tbody tr th {\n",
              "        vertical-align: top;\n",
              "    }\n",
              "\n",
              "    .dataframe thead th {\n",
              "        text-align: right;\n",
              "    }\n",
              "</style>\n",
              "<table border=\"1\" class=\"dataframe\">\n",
              "  <thead>\n",
              "    <tr style=\"text-align: right;\">\n",
              "      <th></th>\n",
              "      <th>2019</th>\n",
              "      <th>2020</th>\n",
              "    </tr>\n",
              "  </thead>\n",
              "  <tbody>\n",
              "    <tr>\n",
              "      <th>Jan</th>\n",
              "      <td>2.547</td>\n",
              "      <td>3.167</td>\n",
              "    </tr>\n",
              "    <tr>\n",
              "      <th>Feb</th>\n",
              "      <td>2.490</td>\n",
              "      <td>2.890</td>\n",
              "    </tr>\n",
              "    <tr>\n",
              "      <th>Mar</th>\n",
              "      <td>3.166</td>\n",
              "      <td>2.390</td>\n",
              "    </tr>\n",
              "    <tr>\n",
              "      <th>Apr</th>\n",
              "      <td>4.066</td>\n",
              "      <td>1.537</td>\n",
              "    </tr>\n",
              "    <tr>\n",
              "      <th>May</th>\n",
              "      <td>4.970</td>\n",
              "      <td>3.300</td>\n",
              "    </tr>\n",
              "    <tr>\n",
              "      <th>Jun</th>\n",
              "      <td>4.942</td>\n",
              "      <td>3.951</td>\n",
              "    </tr>\n",
              "    <tr>\n",
              "      <th>Jul</th>\n",
              "      <td>5.059</td>\n",
              "      <td>4.104</td>\n",
              "    </tr>\n",
              "    <tr>\n",
              "      <th>Aug</th>\n",
              "      <td>5.583</td>\n",
              "      <td>4.348</td>\n",
              "    </tr>\n",
              "    <tr>\n",
              "      <th>Sep</th>\n",
              "      <td>5.129</td>\n",
              "      <td>4.531</td>\n",
              "    </tr>\n",
              "    <tr>\n",
              "      <th>Oct</th>\n",
              "      <td>4.391</td>\n",
              "      <td>4.054</td>\n",
              "    </tr>\n",
              "    <tr>\n",
              "      <th>Nov</th>\n",
              "      <td>3.170</td>\n",
              "      <td>3.044</td>\n",
              "    </tr>\n",
              "    <tr>\n",
              "      <th>Dec</th>\n",
              "      <td>2.302</td>\n",
              "      <td>2.153</td>\n",
              "    </tr>\n",
              "  </tbody>\n",
              "</table>\n",
              "</div>"
            ],
            "text/plain": [
              "      2019   2020\n",
              "Jan  2.547  3.167\n",
              "Feb  2.490  2.890\n",
              "Mar  3.166  2.390\n",
              "Apr  4.066  1.537\n",
              "May  4.970  3.300\n",
              "Jun  4.942  3.951\n",
              "Jul  5.059  4.104\n",
              "Aug  5.583  4.348\n",
              "Sep  5.129  4.531\n",
              "Oct  4.391  4.054\n",
              "Nov  3.170  3.044\n",
              "Dec  2.302  2.153"
            ]
          },
          "execution_count": 51,
          "metadata": {},
          "output_type": "execute_result"
        }
      ],
      "source": [
        "#is there a way we can take the exact number of days per month? \n",
        "#from calendar import monthrange perhaps\n",
        "rides_per_day = rides/30\n",
        "round(rides_per_day,3)"
      ]
    },
    {
      "cell_type": "code",
      "execution_count": null,
      "metadata": {
        "id": "1KVMjJPZsQMT",
        "outputId": "f7b407c7-e346-4e9d-8351-e9e5f7588b22"
      },
      "outputs": [
        {
          "ename": "KeyboardInterrupt",
          "evalue": "",
          "output_type": "error",
          "traceback": [
            "\u001b[0;31m---------------------------------------------------------------------------\u001b[0m",
            "\u001b[0;31mKeyboardInterrupt\u001b[0m                         Traceback (most recent call last)",
            "\u001b[0;32m/var/folders/y5/b92zsglj3234p9y3038yq18c0000gn/T/ipykernel_68532/4061746737.py\u001b[0m in \u001b[0;36m<module>\u001b[0;34m\u001b[0m\n\u001b[1;32m      4\u001b[0m \u001b[0mavg_usage\u001b[0m \u001b[0;34m=\u001b[0m \u001b[0;34m[\u001b[0m\u001b[0;34m]\u001b[0m\u001b[0;34m\u001b[0m\u001b[0;34m\u001b[0m\u001b[0m\n\u001b[1;32m      5\u001b[0m \u001b[0;32mfor\u001b[0m \u001b[0mdata\u001b[0m \u001b[0;32min\u001b[0m \u001b[0mdata19_20\u001b[0m\u001b[0;34m:\u001b[0m\u001b[0;34m\u001b[0m\u001b[0;34m\u001b[0m\u001b[0m\n\u001b[0;32m----> 6\u001b[0;31m     \u001b[0mbike_avg\u001b[0m \u001b[0;34m=\u001b[0m \u001b[0msum\u001b[0m\u001b[0;34m(\u001b[0m\u001b[0mdata\u001b[0m\u001b[0;34m[\u001b[0m\u001b[0;34m'tripduration'\u001b[0m\u001b[0;34m]\u001b[0m\u001b[0;34m.\u001b[0m\u001b[0mgroupby\u001b[0m\u001b[0;34m(\u001b[0m\u001b[0mdata\u001b[0m\u001b[0;34m[\u001b[0m\u001b[0;34m'bikeid'\u001b[0m\u001b[0;34m]\u001b[0m\u001b[0;34m)\u001b[0m\u001b[0;34m.\u001b[0m\u001b[0msum\u001b[0m\u001b[0;34m(\u001b[0m\u001b[0;34m)\u001b[0m\u001b[0;34m)\u001b[0m \u001b[0;34m/\u001b[0m \u001b[0mlen\u001b[0m\u001b[0;34m(\u001b[0m\u001b[0mdata\u001b[0m\u001b[0;34m[\u001b[0m\u001b[0;34m'tripduration'\u001b[0m\u001b[0;34m]\u001b[0m\u001b[0;34m.\u001b[0m\u001b[0mgroupby\u001b[0m\u001b[0;34m(\u001b[0m\u001b[0mdata\u001b[0m\u001b[0;34m[\u001b[0m\u001b[0;34m'bikeid'\u001b[0m\u001b[0;34m]\u001b[0m\u001b[0;34m)\u001b[0m\u001b[0;34m.\u001b[0m\u001b[0msum\u001b[0m\u001b[0;34m(\u001b[0m\u001b[0;34m)\u001b[0m\u001b[0;34m)\u001b[0m\u001b[0;34m\u001b[0m\u001b[0;34m\u001b[0m\u001b[0m\n\u001b[0m\u001b[1;32m      7\u001b[0m     \u001b[0mavg_usage\u001b[0m\u001b[0;34m.\u001b[0m\u001b[0mappend\u001b[0m\u001b[0;34m(\u001b[0m\u001b[0mbike_avg\u001b[0m\u001b[0;34m/\u001b[0m\u001b[0;36m3600\u001b[0m\u001b[0;34m)\u001b[0m \u001b[0;31m#in hours\u001b[0m\u001b[0;34m\u001b[0m\u001b[0;34m\u001b[0m\u001b[0m\n\u001b[1;32m      8\u001b[0m \u001b[0;34m\u001b[0m\u001b[0m\n",
            "\u001b[0;32m~/opt/anaconda3/lib/python3.8/site-packages/pandas/core/groupby/groupby.py\u001b[0m in \u001b[0;36msum\u001b[0;34m(self, numeric_only, min_count)\u001b[0m\n\u001b[1;32m   1844\u001b[0m         \u001b[0;31m# _agg_general() returns. GH #31422\u001b[0m\u001b[0;34m\u001b[0m\u001b[0;34m\u001b[0m\u001b[0;34m\u001b[0m\u001b[0m\n\u001b[1;32m   1845\u001b[0m         \u001b[0;32mwith\u001b[0m \u001b[0mcom\u001b[0m\u001b[0;34m.\u001b[0m\u001b[0mtemp_setattr\u001b[0m\u001b[0;34m(\u001b[0m\u001b[0mself\u001b[0m\u001b[0;34m,\u001b[0m \u001b[0;34m\"observed\"\u001b[0m\u001b[0;34m,\u001b[0m \u001b[0;32mTrue\u001b[0m\u001b[0;34m)\u001b[0m\u001b[0;34m:\u001b[0m\u001b[0;34m\u001b[0m\u001b[0;34m\u001b[0m\u001b[0m\n\u001b[0;32m-> 1846\u001b[0;31m             result = self._agg_general(\n\u001b[0m\u001b[1;32m   1847\u001b[0m                 \u001b[0mnumeric_only\u001b[0m\u001b[0;34m=\u001b[0m\u001b[0mnumeric_only\u001b[0m\u001b[0;34m,\u001b[0m\u001b[0;34m\u001b[0m\u001b[0;34m\u001b[0m\u001b[0m\n\u001b[1;32m   1848\u001b[0m                 \u001b[0mmin_count\u001b[0m\u001b[0;34m=\u001b[0m\u001b[0mmin_count\u001b[0m\u001b[0;34m,\u001b[0m\u001b[0;34m\u001b[0m\u001b[0;34m\u001b[0m\u001b[0m\n",
            "\u001b[0;32m~/opt/anaconda3/lib/python3.8/site-packages/pandas/core/groupby/groupby.py\u001b[0m in \u001b[0;36m_agg_general\u001b[0;34m(self, numeric_only, min_count, alias, npfunc)\u001b[0m\n\u001b[1;32m   1359\u001b[0m         \u001b[0;32mwith\u001b[0m \u001b[0mgroup_selection_context\u001b[0m\u001b[0;34m(\u001b[0m\u001b[0mself\u001b[0m\u001b[0;34m)\u001b[0m\u001b[0;34m:\u001b[0m\u001b[0;34m\u001b[0m\u001b[0;34m\u001b[0m\u001b[0m\n\u001b[1;32m   1360\u001b[0m             \u001b[0;31m# try a cython aggregation if we can\u001b[0m\u001b[0;34m\u001b[0m\u001b[0;34m\u001b[0m\u001b[0;34m\u001b[0m\u001b[0m\n\u001b[0;32m-> 1361\u001b[0;31m             result = self._cython_agg_general(\n\u001b[0m\u001b[1;32m   1362\u001b[0m                 \u001b[0mhow\u001b[0m\u001b[0;34m=\u001b[0m\u001b[0malias\u001b[0m\u001b[0;34m,\u001b[0m\u001b[0;34m\u001b[0m\u001b[0;34m\u001b[0m\u001b[0m\n\u001b[1;32m   1363\u001b[0m                 \u001b[0malt\u001b[0m\u001b[0;34m=\u001b[0m\u001b[0mnpfunc\u001b[0m\u001b[0;34m,\u001b[0m\u001b[0;34m\u001b[0m\u001b[0;34m\u001b[0m\u001b[0m\n",
            "\u001b[0;32m~/opt/anaconda3/lib/python3.8/site-packages/pandas/core/groupby/generic.py\u001b[0m in \u001b[0;36m_cython_agg_general\u001b[0;34m(self, how, alt, numeric_only, min_count)\u001b[0m\n\u001b[1;32m    350\u001b[0m             \u001b[0;32mreturn\u001b[0m \u001b[0mresult\u001b[0m\u001b[0;34m\u001b[0m\u001b[0;34m\u001b[0m\u001b[0m\n\u001b[1;32m    351\u001b[0m \u001b[0;34m\u001b[0m\u001b[0m\n\u001b[0;32m--> 352\u001b[0;31m         \u001b[0mresult\u001b[0m \u001b[0;34m=\u001b[0m \u001b[0marray_func\u001b[0m\u001b[0;34m(\u001b[0m\u001b[0mobjvals\u001b[0m\u001b[0;34m)\u001b[0m\u001b[0;34m\u001b[0m\u001b[0;34m\u001b[0m\u001b[0m\n\u001b[0m\u001b[1;32m    353\u001b[0m \u001b[0;34m\u001b[0m\u001b[0m\n\u001b[1;32m    354\u001b[0m         ser = self.obj._constructor(\n",
            "\u001b[0;32m~/opt/anaconda3/lib/python3.8/site-packages/pandas/core/groupby/generic.py\u001b[0m in \u001b[0;36marray_func\u001b[0;34m(values)\u001b[0m\n\u001b[1;32m    338\u001b[0m         \u001b[0;32mdef\u001b[0m \u001b[0marray_func\u001b[0m\u001b[0;34m(\u001b[0m\u001b[0mvalues\u001b[0m\u001b[0;34m:\u001b[0m \u001b[0mArrayLike\u001b[0m\u001b[0;34m)\u001b[0m \u001b[0;34m->\u001b[0m \u001b[0mArrayLike\u001b[0m\u001b[0;34m:\u001b[0m\u001b[0;34m\u001b[0m\u001b[0;34m\u001b[0m\u001b[0m\n\u001b[1;32m    339\u001b[0m             \u001b[0;32mtry\u001b[0m\u001b[0;34m:\u001b[0m\u001b[0;34m\u001b[0m\u001b[0;34m\u001b[0m\u001b[0m\n\u001b[0;32m--> 340\u001b[0;31m                 result = self.grouper._cython_operation(\n\u001b[0m\u001b[1;32m    341\u001b[0m                     \u001b[0;34m\"aggregate\"\u001b[0m\u001b[0;34m,\u001b[0m \u001b[0mvalues\u001b[0m\u001b[0;34m,\u001b[0m \u001b[0mhow\u001b[0m\u001b[0;34m,\u001b[0m \u001b[0maxis\u001b[0m\u001b[0;34m=\u001b[0m\u001b[0mdata\u001b[0m\u001b[0;34m.\u001b[0m\u001b[0mndim\u001b[0m \u001b[0;34m-\u001b[0m \u001b[0;36m1\u001b[0m\u001b[0;34m,\u001b[0m \u001b[0mmin_count\u001b[0m\u001b[0;34m=\u001b[0m\u001b[0mmin_count\u001b[0m\u001b[0;34m\u001b[0m\u001b[0;34m\u001b[0m\u001b[0m\n\u001b[1;32m    342\u001b[0m                 )\n",
            "\u001b[0;32m~/opt/anaconda3/lib/python3.8/site-packages/pandas/core/groupby/ops.py\u001b[0m in \u001b[0;36m_cython_operation\u001b[0;34m(self, kind, values, how, axis, min_count, **kwargs)\u001b[0m\n\u001b[1;32m    974\u001b[0m         \u001b[0mcy_op\u001b[0m \u001b[0;34m=\u001b[0m \u001b[0mWrappedCythonOp\u001b[0m\u001b[0;34m(\u001b[0m\u001b[0mkind\u001b[0m\u001b[0;34m=\u001b[0m\u001b[0mkind\u001b[0m\u001b[0;34m,\u001b[0m \u001b[0mhow\u001b[0m\u001b[0;34m=\u001b[0m\u001b[0mhow\u001b[0m\u001b[0;34m)\u001b[0m\u001b[0;34m\u001b[0m\u001b[0;34m\u001b[0m\u001b[0m\n\u001b[1;32m    975\u001b[0m \u001b[0;34m\u001b[0m\u001b[0m\n\u001b[0;32m--> 976\u001b[0;31m         \u001b[0mids\u001b[0m\u001b[0;34m,\u001b[0m \u001b[0m_\u001b[0m\u001b[0;34m,\u001b[0m \u001b[0m_\u001b[0m \u001b[0;34m=\u001b[0m \u001b[0mself\u001b[0m\u001b[0;34m.\u001b[0m\u001b[0mgroup_info\u001b[0m\u001b[0;34m\u001b[0m\u001b[0;34m\u001b[0m\u001b[0m\n\u001b[0m\u001b[1;32m    977\u001b[0m         \u001b[0mngroups\u001b[0m \u001b[0;34m=\u001b[0m \u001b[0mself\u001b[0m\u001b[0;34m.\u001b[0m\u001b[0mngroups\u001b[0m\u001b[0;34m\u001b[0m\u001b[0;34m\u001b[0m\u001b[0m\n\u001b[1;32m    978\u001b[0m         return cy_op.cython_operation(\n",
            "\u001b[0;32m~/opt/anaconda3/lib/python3.8/site-packages/pandas/_libs/properties.pyx\u001b[0m in \u001b[0;36mpandas._libs.properties.CachedProperty.__get__\u001b[0;34m()\u001b[0m\n",
            "\u001b[0;32m~/opt/anaconda3/lib/python3.8/site-packages/pandas/core/groupby/ops.py\u001b[0m in \u001b[0;36mgroup_info\u001b[0;34m(self)\u001b[0m\n\u001b[1;32m    877\u001b[0m     \u001b[0;34m@\u001b[0m\u001b[0mcache_readonly\u001b[0m\u001b[0;34m\u001b[0m\u001b[0;34m\u001b[0m\u001b[0m\n\u001b[1;32m    878\u001b[0m     \u001b[0;32mdef\u001b[0m \u001b[0mgroup_info\u001b[0m\u001b[0;34m(\u001b[0m\u001b[0mself\u001b[0m\u001b[0;34m)\u001b[0m\u001b[0;34m:\u001b[0m\u001b[0;34m\u001b[0m\u001b[0;34m\u001b[0m\u001b[0m\n\u001b[0;32m--> 879\u001b[0;31m         \u001b[0mcomp_ids\u001b[0m\u001b[0;34m,\u001b[0m \u001b[0mobs_group_ids\u001b[0m \u001b[0;34m=\u001b[0m \u001b[0mself\u001b[0m\u001b[0;34m.\u001b[0m\u001b[0m_get_compressed_codes\u001b[0m\u001b[0;34m(\u001b[0m\u001b[0;34m)\u001b[0m\u001b[0;34m\u001b[0m\u001b[0;34m\u001b[0m\u001b[0m\n\u001b[0m\u001b[1;32m    880\u001b[0m \u001b[0;34m\u001b[0m\u001b[0m\n\u001b[1;32m    881\u001b[0m         \u001b[0mngroups\u001b[0m \u001b[0;34m=\u001b[0m \u001b[0mlen\u001b[0m\u001b[0;34m(\u001b[0m\u001b[0mobs_group_ids\u001b[0m\u001b[0;34m)\u001b[0m\u001b[0;34m\u001b[0m\u001b[0;34m\u001b[0m\u001b[0m\n",
            "\u001b[0;32m~/opt/anaconda3/lib/python3.8/site-packages/pandas/core/groupby/ops.py\u001b[0m in \u001b[0;36m_get_compressed_codes\u001b[0;34m(self)\u001b[0m\n\u001b[1;32m    901\u001b[0m \u001b[0;34m\u001b[0m\u001b[0m\n\u001b[1;32m    902\u001b[0m         \u001b[0mping\u001b[0m \u001b[0;34m=\u001b[0m \u001b[0mself\u001b[0m\u001b[0;34m.\u001b[0m\u001b[0mgroupings\u001b[0m\u001b[0;34m[\u001b[0m\u001b[0;36m0\u001b[0m\u001b[0;34m]\u001b[0m\u001b[0;34m\u001b[0m\u001b[0;34m\u001b[0m\u001b[0m\n\u001b[0;32m--> 903\u001b[0;31m         \u001b[0;32mreturn\u001b[0m \u001b[0mping\u001b[0m\u001b[0;34m.\u001b[0m\u001b[0mcodes\u001b[0m\u001b[0;34m,\u001b[0m \u001b[0mnp\u001b[0m\u001b[0;34m.\u001b[0m\u001b[0marange\u001b[0m\u001b[0;34m(\u001b[0m\u001b[0mlen\u001b[0m\u001b[0;34m(\u001b[0m\u001b[0mping\u001b[0m\u001b[0;34m.\u001b[0m\u001b[0mgroup_index\u001b[0m\u001b[0;34m)\u001b[0m\u001b[0;34m)\u001b[0m\u001b[0;34m\u001b[0m\u001b[0;34m\u001b[0m\u001b[0m\n\u001b[0m\u001b[1;32m    904\u001b[0m \u001b[0;34m\u001b[0m\u001b[0m\n\u001b[1;32m    905\u001b[0m     \u001b[0;34m@\u001b[0m\u001b[0mfinal\u001b[0m\u001b[0;34m\u001b[0m\u001b[0;34m\u001b[0m\u001b[0m\n",
            "\u001b[0;32m~/opt/anaconda3/lib/python3.8/site-packages/pandas/core/groupby/grouper.py\u001b[0m in \u001b[0;36mcodes\u001b[0;34m(self)\u001b[0m\n\u001b[1;32m    610\u001b[0m             \u001b[0;32mreturn\u001b[0m \u001b[0mself\u001b[0m\u001b[0;34m.\u001b[0m\u001b[0m_codes\u001b[0m\u001b[0;34m\u001b[0m\u001b[0;34m\u001b[0m\u001b[0m\n\u001b[1;32m    611\u001b[0m \u001b[0;34m\u001b[0m\u001b[0m\n\u001b[0;32m--> 612\u001b[0;31m         \u001b[0;32mreturn\u001b[0m \u001b[0mself\u001b[0m\u001b[0;34m.\u001b[0m\u001b[0m_codes_and_uniques\u001b[0m\u001b[0;34m[\u001b[0m\u001b[0;36m0\u001b[0m\u001b[0;34m]\u001b[0m\u001b[0;34m\u001b[0m\u001b[0;34m\u001b[0m\u001b[0m\n\u001b[0m\u001b[1;32m    613\u001b[0m \u001b[0;34m\u001b[0m\u001b[0m\n\u001b[1;32m    614\u001b[0m     \u001b[0;34m@\u001b[0m\u001b[0mcache_readonly\u001b[0m\u001b[0;34m\u001b[0m\u001b[0;34m\u001b[0m\u001b[0m\n",
            "\u001b[0;32m~/opt/anaconda3/lib/python3.8/site-packages/pandas/_libs/properties.pyx\u001b[0m in \u001b[0;36mpandas._libs.properties.CachedProperty.__get__\u001b[0;34m()\u001b[0m\n",
            "\u001b[0;32m~/opt/anaconda3/lib/python3.8/site-packages/pandas/core/groupby/grouper.py\u001b[0m in \u001b[0;36m_codes_and_uniques\u001b[0;34m(self)\u001b[0m\n\u001b[1;32m    668\u001b[0m             \u001b[0;32melse\u001b[0m\u001b[0;34m:\u001b[0m\u001b[0;34m\u001b[0m\u001b[0;34m\u001b[0m\u001b[0m\n\u001b[1;32m    669\u001b[0m                 \u001b[0mna_sentinel\u001b[0m \u001b[0;34m=\u001b[0m \u001b[0;34m-\u001b[0m\u001b[0;36m1\u001b[0m\u001b[0;34m\u001b[0m\u001b[0;34m\u001b[0m\u001b[0m\n\u001b[0;32m--> 670\u001b[0;31m             codes, uniques = algorithms.factorize(\n\u001b[0m\u001b[1;32m    671\u001b[0m                 \u001b[0mself\u001b[0m\u001b[0;34m.\u001b[0m\u001b[0mgrouping_vector\u001b[0m\u001b[0;34m,\u001b[0m \u001b[0msort\u001b[0m\u001b[0;34m=\u001b[0m\u001b[0mself\u001b[0m\u001b[0;34m.\u001b[0m\u001b[0m_sort\u001b[0m\u001b[0;34m,\u001b[0m \u001b[0mna_sentinel\u001b[0m\u001b[0;34m=\u001b[0m\u001b[0mna_sentinel\u001b[0m\u001b[0;34m\u001b[0m\u001b[0;34m\u001b[0m\u001b[0m\n\u001b[1;32m    672\u001b[0m             )\n",
            "\u001b[0;32m~/opt/anaconda3/lib/python3.8/site-packages/pandas/core/algorithms.py\u001b[0m in \u001b[0;36mfactorize\u001b[0;34m(values, sort, na_sentinel, size_hint)\u001b[0m\n\u001b[1;32m    759\u001b[0m             \u001b[0mna_value\u001b[0m \u001b[0;34m=\u001b[0m \u001b[0;32mNone\u001b[0m\u001b[0;34m\u001b[0m\u001b[0;34m\u001b[0m\u001b[0m\n\u001b[1;32m    760\u001b[0m \u001b[0;34m\u001b[0m\u001b[0m\n\u001b[0;32m--> 761\u001b[0;31m         codes, uniques = factorize_array(\n\u001b[0m\u001b[1;32m    762\u001b[0m             \u001b[0mvalues\u001b[0m\u001b[0;34m,\u001b[0m \u001b[0mna_sentinel\u001b[0m\u001b[0;34m=\u001b[0m\u001b[0mna_sentinel\u001b[0m\u001b[0;34m,\u001b[0m \u001b[0msize_hint\u001b[0m\u001b[0;34m=\u001b[0m\u001b[0msize_hint\u001b[0m\u001b[0;34m,\u001b[0m \u001b[0mna_value\u001b[0m\u001b[0;34m=\u001b[0m\u001b[0mna_value\u001b[0m\u001b[0;34m\u001b[0m\u001b[0;34m\u001b[0m\u001b[0m\n\u001b[1;32m    763\u001b[0m         )\n",
            "\u001b[0;32m~/opt/anaconda3/lib/python3.8/site-packages/pandas/core/algorithms.py\u001b[0m in \u001b[0;36mfactorize_array\u001b[0;34m(values, na_sentinel, size_hint, na_value, mask)\u001b[0m\n\u001b[1;32m    561\u001b[0m \u001b[0;34m\u001b[0m\u001b[0m\n\u001b[1;32m    562\u001b[0m     \u001b[0mtable\u001b[0m \u001b[0;34m=\u001b[0m \u001b[0mhash_klass\u001b[0m\u001b[0;34m(\u001b[0m\u001b[0msize_hint\u001b[0m \u001b[0;32mor\u001b[0m \u001b[0mlen\u001b[0m\u001b[0;34m(\u001b[0m\u001b[0mvalues\u001b[0m\u001b[0;34m)\u001b[0m\u001b[0;34m)\u001b[0m\u001b[0;34m\u001b[0m\u001b[0;34m\u001b[0m\u001b[0m\n\u001b[0;32m--> 563\u001b[0;31m     uniques, codes = table.factorize(\n\u001b[0m\u001b[1;32m    564\u001b[0m         \u001b[0mvalues\u001b[0m\u001b[0;34m,\u001b[0m \u001b[0mna_sentinel\u001b[0m\u001b[0;34m=\u001b[0m\u001b[0mna_sentinel\u001b[0m\u001b[0;34m,\u001b[0m \u001b[0mna_value\u001b[0m\u001b[0;34m=\u001b[0m\u001b[0mna_value\u001b[0m\u001b[0;34m,\u001b[0m \u001b[0mmask\u001b[0m\u001b[0;34m=\u001b[0m\u001b[0mmask\u001b[0m\u001b[0;34m\u001b[0m\u001b[0;34m\u001b[0m\u001b[0m\n\u001b[1;32m    565\u001b[0m     )\n",
            "\u001b[0;31mKeyboardInterrupt\u001b[0m: "
          ]
        }
      ],
      "source": [
        "#DO NOT RUN! first version: inefficient (~7.5s)\n",
        "\n",
        "s = time.time()\n",
        "avg_usage = []\n",
        "for data in data19_20:\n",
        "    bike_avg = sum(data['tripduration'].groupby(data['bikeid']).sum()) / len(data['tripduration'].groupby(data['bikeid']).sum())\n",
        "    avg_usage.append(bike_avg/3600) #in hours\n",
        "\n",
        "time.time() - s"
      ]
    },
    {
      "cell_type": "code",
      "execution_count": null,
      "metadata": {
        "id": "kc8j5kWIsQMT",
        "outputId": "45de6604-aef9-441a-c9e0-c2d879feec5f"
      },
      "outputs": [
        {
          "data": {
            "text/plain": [
              "4.517909049987793"
            ]
          },
          "execution_count": 124,
          "metadata": {},
          "output_type": "execute_result"
        }
      ],
      "source": [
        "#DO NOT RUN! second version: store the list of total time per bike in a variable to not have to calculate it twice (~3.5s)\n",
        "\n",
        "s = time.time()\n",
        "avg_usage = []\n",
        "for data in data19_20:\n",
        "    sums = data['tripduration'].groupby(data['bikeid']).sum()\n",
        "    bike_avg = sums.sum() / sums.count()\n",
        "    avg_usage.append(bike_avg/3600) #in hours\n",
        "\n",
        "time.time() - s"
      ]
    },
    {
      "cell_type": "code",
      "execution_count": null,
      "metadata": {
        "id": "A8n1lH1VsQMU",
        "outputId": "99bceec4-5678-42cd-c394-b9d28271adf3"
      },
      "outputs": [
        {
          "data": {
            "text/plain": [
              "0.5656106472015381"
            ]
          },
          "execution_count": 53,
          "metadata": {},
          "output_type": "execute_result"
        }
      ],
      "source": [
        "#most efficient: total time riding a bike divided by how many bikes there are (~1.2s)\n",
        "\n",
        "#average monthly usage(in time) per bike\n",
        "\n",
        "s = time.time()\n",
        "avg_usage = []\n",
        "for data in data19_20:\n",
        "    total_time = data['tripduration'].sum()\n",
        "    bike_avg = total_time / data['bikeid'].nunique()\n",
        "    avg_usage.append(bike_avg/3600) #in hours\n",
        "\n",
        "time.time() - s"
      ]
    },
    {
      "cell_type": "code",
      "execution_count": null,
      "metadata": {
        "id": "Ki8eKngDsQMU",
        "outputId": "1d48d27b-c0e0-45d7-bc55-828c41cd550d"
      },
      "outputs": [
        {
          "data": {
            "text/html": [
              "<div>\n",
              "<style scoped>\n",
              "    .dataframe tbody tr th:only-of-type {\n",
              "        vertical-align: middle;\n",
              "    }\n",
              "\n",
              "    .dataframe tbody tr th {\n",
              "        vertical-align: top;\n",
              "    }\n",
              "\n",
              "    .dataframe thead th {\n",
              "        text-align: right;\n",
              "    }\n",
              "</style>\n",
              "<table border=\"1\" class=\"dataframe\">\n",
              "  <thead>\n",
              "    <tr style=\"text-align: right;\">\n",
              "      <th></th>\n",
              "      <th>2019</th>\n",
              "      <th>2020</th>\n",
              "    </tr>\n",
              "  </thead>\n",
              "  <tbody>\n",
              "    <tr>\n",
              "      <th>Jan</th>\n",
              "      <td>14.619</td>\n",
              "      <td>18.899</td>\n",
              "    </tr>\n",
              "    <tr>\n",
              "      <th>Feb</th>\n",
              "      <td>14.722</td>\n",
              "      <td>17.081</td>\n",
              "    </tr>\n",
              "    <tr>\n",
              "      <th>Mar</th>\n",
              "      <td>19.943</td>\n",
              "      <td>18.916</td>\n",
              "    </tr>\n",
              "    <tr>\n",
              "      <th>Apr</th>\n",
              "      <td>28.763</td>\n",
              "      <td>16.160</td>\n",
              "    </tr>\n",
              "    <tr>\n",
              "      <th>May</th>\n",
              "      <td>36.917</td>\n",
              "      <td>38.612</td>\n",
              "    </tr>\n",
              "    <tr>\n",
              "      <th>Jun</th>\n",
              "      <td>37.971</td>\n",
              "      <td>44.559</td>\n",
              "    </tr>\n",
              "    <tr>\n",
              "      <th>Jul</th>\n",
              "      <td>37.687</td>\n",
              "      <td>40.191</td>\n",
              "    </tr>\n",
              "    <tr>\n",
              "      <th>Aug</th>\n",
              "      <td>42.317</td>\n",
              "      <td>41.981</td>\n",
              "    </tr>\n",
              "    <tr>\n",
              "      <th>Sep</th>\n",
              "      <td>38.135</td>\n",
              "      <td>41.636</td>\n",
              "    </tr>\n",
              "    <tr>\n",
              "      <th>Oct</th>\n",
              "      <td>30.244</td>\n",
              "      <td>34.408</td>\n",
              "    </tr>\n",
              "    <tr>\n",
              "      <th>Nov</th>\n",
              "      <td>19.964</td>\n",
              "      <td>24.677</td>\n",
              "    </tr>\n",
              "    <tr>\n",
              "      <th>Dec</th>\n",
              "      <td>13.583</td>\n",
              "      <td>15.229</td>\n",
              "    </tr>\n",
              "  </tbody>\n",
              "</table>\n",
              "</div>"
            ],
            "text/plain": [
              "       2019    2020\n",
              "Jan  14.619  18.899\n",
              "Feb  14.722  17.081\n",
              "Mar  19.943  18.916\n",
              "Apr  28.763  16.160\n",
              "May  36.917  38.612\n",
              "Jun  37.971  44.559\n",
              "Jul  37.687  40.191\n",
              "Aug  42.317  41.981\n",
              "Sep  38.135  41.636\n",
              "Oct  30.244  34.408\n",
              "Nov  19.964  24.677\n",
              "Dec  13.583  15.229"
            ]
          },
          "execution_count": 54,
          "metadata": {},
          "output_type": "execute_result"
        }
      ],
      "source": [
        "avg_use = pd.DataFrame({'2019':avg_usage[:12],'2020':avg_usage[12:]}, index=months)\n",
        "round(avg_use, 3)"
      ]
    },
    {
      "cell_type": "code",
      "execution_count": null,
      "metadata": {
        "id": "kZ_oS_QisQMU",
        "outputId": "a2283c90-5662-47a9-cb08-e95492905add"
      },
      "outputs": [
        {
          "data": {
            "text/plain": [
              "<matplotlib.legend.Legend at 0x1b3069190>"
            ]
          },
          "execution_count": 55,
          "metadata": {},
          "output_type": "execute_result"
        },
        {
          "data": {
            "image/png": "[encoded data removed]",
            "text/plain": [
              "<Figure size 1080x360 with 2 Axes>"
            ]
          },
          "metadata": {
            "needs_background": "light"
          },
          "output_type": "display_data"
        }
      ],
      "source": [
        "plt.figure(figsize=(15,5))\n",
        "\n",
        "plt.subplot(1,2,1)\n",
        "plt.plot(avg_use['2019'], marker='o', label='2019')\n",
        "plt.plot(avg_use['2020'], marker='o', label='2020')\n",
        "plt.title('Average Bike Usage in Hours per Month')\n",
        "plt.xlabel('Month')\n",
        "plt.ylabel('Hours Per Month')\n",
        "plt.legend(loc=\"upper left\")\n",
        "\n",
        "plt.subplot(1,2,2)\n",
        "plt.plot(rides['2019'], marker='o', label='2019')\n",
        "plt.plot(rides['2020'], marker='o', label='2020')\n",
        "plt.title('Average Bike Usage in Trips per Month')\n",
        "plt.xlabel('Month')\n",
        "plt.ylabel('Trips Per Month')\n",
        "plt.legend(loc=\"upper left\")"
      ]
    },
    {
      "cell_type": "markdown",
      "metadata": {
        "id": "wS1LDLoIsQMU"
      },
      "source": [
        "While generally Citibike usage was greater in 2020, we see an interesting decline in March 2020 with\n",
        "the beginning of COVID and a dip in April 2020 activity before a spike back up to 2019 levels in May. For every remaining month of the year, average monthly bike usage in terms of hours ridden exceeded 2019 levels. However, the average number of monthly rides that each bike took was actually lower in 2020 than in 2019, implying people are taking the bikes on longer rides. Bikes on average were also being ridden for far less time in the winter months than in the summer months. "
      ]
    },
    {
      "cell_type": "markdown",
      "metadata": {
        "id": "66QHBp6AsQMc"
      },
      "source": [
        "<u><h2> **Appendix: Further Exploration with Hypothesis Testing**</u></h2>"
      ]
    },
    {
      "cell_type": "markdown",
      "metadata": {
        "id": "kYsiaJJjT77M"
      },
      "source": [
        "**Hypothesis tests for April 2019 and April 2020**\n",
        "Consider a significance level of 0.005"
      ]
    },
    {
      "cell_type": "code",
      "execution_count": null,
      "metadata": {
        "id": "6YuEBU3_sQMc"
      },
      "outputs": [],
      "source": [
        "#relevant data\n",
        "data419 = pd.read_csv('201904-citibike-tripdata.csv')\n",
        "data420 = pd.read_csv('202004-citibike-tripdata.csv')"
      ]
    },
    {
      "cell_type": "code",
      "execution_count": null,
      "metadata": {
        "id": "dSzbwWWwsQMc"
      },
      "outputs": [],
      "source": [
        "#relevant data cleaning\n",
        "datas = [data419, data420]\n",
        "for data in datas:\n",
        "    data['birth year'] = data['birth year'].astype(int)\n",
        "    data['age'] = int(data['starttime'][0][:4]) - data['birth year']\n",
        "    data19_20[indx] = data[(data['age'] <= 100) & (data['tripduration'] <= 36000)]"
      ]
    },
    {
      "cell_type": "code",
      "execution_count": null,
      "metadata": {
        "id": "fwVcJ_fKTYdv",
        "outputId": "210f909d-8012-47ce-eebe-981c8459b0c0"
      },
      "outputs": [
        {
          "name": "stdout",
          "output_type": "stream",
          "text": [
            "MannwhitneyuResult(statistic=451199407294.0, pvalue=0.0)\n",
            "MannwhitneyuResult(statistic=451199407294.0, pvalue=1.0)\n",
            "MannwhitneyuResult(statistic=451199407294.0, pvalue=0.0)\n"
          ]
        }
      ],
      "source": [
        "#April 2019 compared to April 2020 Trip Duration Mann Whitney U Test\n",
        "\n",
        "tripduration2020=np.array(data420['tripduration'])\n",
        "tripduration2019=np.array(data419['tripduration'])\n",
        "\n",
        "tripduration2019 = tripduration2019[np.isfinite(tripduration2019)]\n",
        "tripduration2020 = tripduration2020[np.isfinite(tripduration2020)]\n",
        "\n",
        "from scipy import stats\n",
        "\n",
        "print(stats.mannwhitneyu(tripduration2019,tripduration2020))\n",
        "\n",
        "print(stats.mannwhitneyu(tripduration2019,tripduration2020, alternative='greater'))\n",
        "\n",
        "print(stats.mannwhitneyu(tripduration2019,tripduration2020, alternative='less'))"
      ]
    },
    {
      "cell_type": "markdown",
      "metadata": {
        "id": "m7zGotqTs51O"
      },
      "source": [
        "The null hypothesis of the two sided Mann Whitney U Test is that trip duration is not different between April 2019 and April 2020. As the p-value is significant at an alpha level of 0.005 we reject the null hypothesis. Based on the two sided Mann Whitney U-Test, there is evidence of a difference in duration in trips between April 2019 and April 2020. The null hypothesis of the one sided less Mann Whitney U Test is that trip duration in 2019 tended to greater than or the same as trip duration in April 2020. As the p-value of this test is significant at an alpha level of 0.005 we reject the null hypothesis. This one sided Mann Whitney U test is evidence that trip duration tended to be shorter in April 2019 than in April 2020."
      ]
    },
    {
      "cell_type": "code",
      "execution_count": null,
      "metadata": {
        "id": "muL1OJJBTeGg",
        "outputId": "9401c8fe-a242-43c3-84ed-db9f23235dec"
      },
      "outputs": [
        {
          "name": "stdout",
          "output_type": "stream",
          "text": [
            "MannwhitneyuResult(statistic=571436309033.5, pvalue=0.0)\n",
            "MannwhitneyuResult(statistic=571436309033.5, pvalue=1.0)\n",
            "MannwhitneyuResult(statistic=571436309033.5, pvalue=0.0)\n"
          ]
        }
      ],
      "source": [
        "#April 2019 compared to April 2020 Age Mann Whitney U Test\n",
        "\n",
        "age2020=np.array(data420['age'])\n",
        "age2019=np.array(data419['age'])\n",
        "\n",
        "age2019 = age2019[np.isfinite(age2019)]\n",
        "age2020 = age2020[np.isfinite(age2020)]\n",
        "\n",
        "print(stats.mannwhitneyu(age2019,age2020))\n",
        "\n",
        "print(stats.mannwhitneyu(age2019,age2020, alternative='greater'))\n",
        "\n",
        "print(stats.mannwhitneyu(age2019,age2020, alternative='less'))"
      ]
    },
    {
      "cell_type": "markdown",
      "metadata": {
        "id": "A6oe5pRhuNAf"
      },
      "source": [
        "The null hypothesis of the two sided Mann Whitney U Test is that the age of riders is not different in 2019 April than in 2020 April. From the two sided Mann Whitney U-Test there is evidence of a difference in age between April 2019 and April 2020 because as the p-value is statistically significant at an alpha level of 0.005 we reject the null hypothesis. The null hypothesis of the one sided less Mann Whitney U Test is that citibike riders in 2019 April tended to be older or the same age as riders in April 2020. As the p-value is significant an alpha level of 0.005 we reject the null hypothesis. The one sided less Mann Whitney U Test supports that age of riders in 2019 April tended to be lower than the age of riders in April 2020."
      ]
    },
    {
      "cell_type": "code",
      "execution_count": null,
      "metadata": {
        "id": "JwZdKQihTg5N",
        "outputId": "574e139a-db5d-4e88-baa2-704fa6bb09c5"
      },
      "outputs": [
        {
          "name": "stdout",
          "output_type": "stream",
          "text": [
            "MannwhitneyuResult(statistic=34359173836.0, pvalue=0.0)\n",
            "MannwhitneyuResult(statistic=34359173836.0, pvalue=1.0)\n",
            "MannwhitneyuResult(statistic=34359173836.0, pvalue=0.0)\n"
          ]
        }
      ],
      "source": [
        "#Trip Duration by Gender Hypothesis Testing April 2020\n",
        "\n",
        "dfmale=data420[data420['gender']==1]\n",
        "\n",
        "dffemale=data420[data420['gender']==2]\n",
        "\n",
        "tripdurationfemale=np.array(dfmale['tripduration'])\n",
        "tripdurationmale=np.array(dffemale['tripduration'])\n",
        "\n",
        "tripdurationfemale = tripdurationfemale[np.isfinite(tripdurationfemale)]\n",
        "tripdurationmale = tripdurationmale[np.isfinite(tripdurationmale)]\n",
        "\n",
        "print(stats.mannwhitneyu(tripdurationfemale,tripdurationmale))\n",
        "\n",
        "print(stats.mannwhitneyu(tripdurationfemale,tripdurationmale, alternative='greater'))\n",
        "\n",
        "print(stats.mannwhitneyu(tripdurationfemale,tripdurationmale, alternative='less'))"
      ]
    },
    {
      "cell_type": "markdown",
      "metadata": {
        "id": "CbQbsq5lgHvo"
      },
      "source": [
        "The null hypothesis of the two sided test is that there is not a difference in duration between female citibike riders and male citibike riders in April 2020. As the p-value is significant at an alpha level of 0.005, we reject the null hypothesis. The significant p-value of the two-sided Mann Whitney U Test supports that there is a difference between trip duration for female and male customers in April 2020. The null hypothesis of the one sided less Mann Whitney U Test is that trip duration tends to greater or the same for female citibike riders as male citibike riders in April 2020. As the p-value is significant at an alpha level of 0.005, we reject the null hypothesis. The statistically significant p-value of the one sided less Mann Whitney U Test supports the claim that trip duration for female customers tended to shorter than the trip duration for male customers in April 2020."
      ]
    },
    {
      "cell_type": "code",
      "execution_count": null,
      "metadata": {
        "id": "PXT7cWwRTlQ2",
        "outputId": "a6e18ce4-95ff-4034-e102-255c8c9f1447"
      },
      "outputs": [
        {
          "name": "stdout",
          "output_type": "stream",
          "text": [
            "MannwhitneyuResult(statistic=43356167482.0, pvalue=0.0)\n",
            "MannwhitneyuResult(statistic=43356167482.0, pvalue=0.0)\n",
            "MannwhitneyuResult(statistic=43356167482.0, pvalue=1.0)\n"
          ]
        }
      ],
      "source": [
        "#Age Hypothesis Testing by Gender April 2020\n",
        "\n",
        "agefemale=np.array(dfmale['age'])\n",
        "agemale=np.array(dffemale['age'])\n",
        "\n",
        "agefemale = agefemale[np.isfinite(agefemale)]\n",
        "tripdurationmale = agemale[np.isfinite(agemale)]\n",
        "\n",
        "print(stats.mannwhitneyu(agefemale,agemale))\n",
        "\n",
        "print(stats.mannwhitneyu(agefemale,agemale, alternative='greater'))\n",
        "\n",
        "print(stats.mannwhitneyu(agefemale,agemale, alternative='less'))"
      ]
    },
    {
      "cell_type": "markdown",
      "metadata": {
        "id": "aonsXQQ0wDUX"
      },
      "source": [
        "The null hypothesis of the two sided Mann Whitney U Test is that there is not a difference in age between female citibike riders and male citibike riders in April 2020. The p-value of 0 is statistically significant at an alpha level of 0.005 therefore we reject the null hypothesis. The two-sided Mann Whitney U Test supports that there is a difference in age for female and male customers in April 2020. The null hypothesis of the one sided greater Mann Whitney U Test is that female citibike riders tended to be younger or the same age as male citibike riders in April 2020. As the p-value of the test is significant at the alpha level of 0.005 we reject the null hypothesis. The p-value of one sided greater Mann Whitney U Test supports the claim that age tended to be higher for female customers than male customers in April 2020."
      ]
    },
    {
      "cell_type": "code",
      "execution_count": null,
      "metadata": {
        "id": "0j-t0Ti3TowE",
        "outputId": "bd72b157-ffab-439e-dc7b-1a0294df6f35"
      },
      "outputs": [
        {
          "name": "stdout",
          "output_type": "stream",
          "text": [
            "MannwhitneyuResult(statistic=27376881647.0, pvalue=0.0)\n",
            "MannwhitneyuResult(statistic=27376881647.0, pvalue=1.0)\n",
            "MannwhitneyuResult(statistic=27376881647.0, pvalue=0.0)\n"
          ]
        }
      ],
      "source": [
        "#Duration Hypothesis Testing by Customer Type April 2020\n",
        "\n",
        "dfsub=data420[data420['usertype']=='Subscriber']\n",
        "dfcust=data420[data420['usertype']=='Customer']\n",
        "\n",
        "subduration=np.array(dfsub['tripduration'])\n",
        "custduration=np.array(dfcust['tripduration'])\n",
        "\n",
        "subduration = subduration[np.isfinite(subduration)]\n",
        "tripdurationmale = custduration[np.isfinite(custduration)]\n",
        "\n",
        "print(stats.mannwhitneyu(subduration, custduration))\n",
        "\n",
        "print(stats.mannwhitneyu(subduration, custduration, alternative='greater'))\n",
        "\n",
        "print(stats.mannwhitneyu(subduration, custduration, alternative='less'))"
      ]
    },
    {
      "cell_type": "markdown",
      "metadata": {
        "id": "oEeXjiVRxh0q"
      },
      "source": [
        "The null hypothesis of the two sided Mann Whitney U Test is that trip duration is different for casual riders and subscribers in April 2020. The p-value of this test is significant at an alpha level of 0.005 meaning we reject the null hypothesis. This test provides evidence that trip duration is different for casual riders and subscribers in April 2020. The null hypothesis of the one sided less Mann Whitney U Test is that trip duration tends to be greater or the same for subscribers than for casual riders. The p-value is significant at the alpha value of 0.005 so we reject the null hypothesis. The one sided is evidence that trip duration tends to be shorter for subscribers than for casual users in April 2020."
      ]
    },
    {
      "cell_type": "code",
      "execution_count": null,
      "metadata": {
        "id": "ie3-pV9usQMe",
        "outputId": "b27874f5-4bc1-4940-e2f6-11ee4c21a08f"
      },
      "outputs": [
        {
          "name": "stdout",
          "output_type": "stream",
          "text": [
            "MannwhitneyuResult(statistic=43722902345.5, pvalue=2.547844133616456e-29)\n",
            "MannwhitneyuResult(statistic=43722902345.5, pvalue=1.273922066808228e-29)\n",
            "MannwhitneyuResult(statistic=43722902345.5, pvalue=1.0)\n"
          ]
        }
      ],
      "source": [
        "#Age Hypothesis Testing by Customer Type April 2020\n",
        "\n",
        "subage=np.array(dfsub['age'])\n",
        "custage=np.array(dfcust['age'])\n",
        "\n",
        "subage = subage[np.isfinite(subage)]\n",
        "custage = custage[np.isfinite(custage)]\n",
        "\n",
        "print(stats.mannwhitneyu(subage,custage))\n",
        "\n",
        "print(stats.mannwhitneyu(subage,custage, alternative='greater'))\n",
        "\n",
        "print(stats.mannwhitneyu(subage,custage, alternative='less'))"
      ]
    },
    {
      "cell_type": "markdown",
      "metadata": {
        "id": "3Rqc1T5XhMXn"
      },
      "source": [
        "The null hypothesis of the two sided test is that there is no difference in age between casual riders and subscribers in April 2020. From the two sided Mann Whitney U Test, there is evidence of a difference in age between casual riders and subscribers in April 2020 because the p-value 2.547844133616456e-2 is significant at an alpha level of 0.005. The null hypothesis of the one sided greater Mann Whitney U test is that subscribers tend to younger or the same age as casual riders. The one sided greater Mann Whitney U Test supports the claim that subscribers tend to be older than casual riders in April 2020 as the one sided greater Mann Whitney U Test is has a p-value of 1.273922066808228e-29 which is significant at an alpha level of 0.005. As the p-value is significant at an alpha level of 0.005, we reject the null hypothesis."
      ]
    }
  ],
  "metadata": {
    "colab": {
      "provenance": []
    },
    "kernelspec": {
      "display_name": "Python 3",
      "language": "python",
      "name": "python3"
    },
    "language_info": {
      "codemirror_mode": {
        "name": "ipython",
        "version": 3
      },
      "file_extension": ".py",
      "mimetype": "text/x-python",
      "name": "python",
      "nbconvert_exporter": "python",
      "pygments_lexer": "ipython3",
      "version": "3.7.6"
    }
  },
  "nbformat": 4,
  "nbformat_minor": 0
}